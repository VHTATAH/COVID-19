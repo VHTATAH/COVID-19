{
 "cells": [
  {
   "cell_type": "code",
   "execution_count": 23,
   "metadata": {},
   "outputs": [],
   "source": [
    "import numpy as np\n",
    "import pandas as pd \n",
    "import seaborn as sns\n",
    "import matplotlib.pyplot as plt\n",
    "import geopandas as gpd\n",
    "from scipy.interpolate import interp1d\n",
    "import plotly.express as px\n",
    "import plotly.graph_objects as go\n",
    "import folium \n",
    "from folium import plugins"
   ]
  },
  {
   "cell_type": "code",
   "execution_count": 3,
   "metadata": {},
   "outputs": [],
   "source": [
    "confirmed_global = pd.read_csv(\"data/time_series_covid19_confirmed_global.csv\")\n",
    "deaths_global = pd.read_csv(\"data/time_series_covid19_deaths_global.csv\")\n",
    "recovered_global = pd.read_csv(\"data/time_series_covid19_recovered_global.csv\")"
   ]
  },
  {
   "cell_type": "code",
   "execution_count": 86,
   "metadata": {},
   "outputs": [],
   "source": [
    "#confirmed_global.isnull().sum()\n",
    "#confirmed_global.fillna()"
   ]
  },
  {
   "cell_type": "code",
   "execution_count": 145,
   "metadata": {},
   "outputs": [
    {
     "data": {
      "text/plain": [
       "Index(['Province/State', 'Country/Region', 'Lat', 'Long', '1/22/20', '1/23/20',\n",
       "       '1/24/20', '1/25/20', '1/26/20', '1/27/20', '1/28/20', '1/29/20',\n",
       "       '1/30/20', '1/31/20', '2/1/20', '2/2/20', '2/3/20', '2/4/20', '2/5/20',\n",
       "       '2/6/20', '2/7/20', '2/8/20', '2/9/20', '2/10/20', '2/11/20', '2/12/20',\n",
       "       '2/13/20', '2/14/20', '2/15/20', '2/16/20', '2/17/20', '2/18/20',\n",
       "       '2/19/20', '2/20/20', '2/21/20', '2/22/20', '2/23/20', '2/24/20',\n",
       "       '2/25/20', '2/26/20', '2/27/20', '2/28/20', '2/29/20', '3/1/20',\n",
       "       '3/2/20', '3/3/20', '3/4/20', '3/5/20', '3/6/20', '3/7/20', '3/8/20',\n",
       "       '3/9/20', '3/10/20', '3/11/20', '3/12/20', '3/13/20', '3/14/20',\n",
       "       '3/15/20', '3/16/20', '3/17/20', '3/18/20', '3/19/20', '3/20/20',\n",
       "       '3/21/20', '3/22/20', '3/23/20', '3/24/20', '3/25/20', '3/26/20',\n",
       "       '3/27/20', '3/28/20', '3/29/20', '3/30/20', '3/31/20', '4/1/20',\n",
       "       '4/2/20', '4/3/20', '4/4/20', '4/5/20'],\n",
       "      dtype='object')"
      ]
     },
     "execution_count": 145,
     "metadata": {},
     "output_type": "execute_result"
    }
   ],
   "source": [
    "#confirmed_global.head(5)\n",
    "confirmed_global.columns"
   ]
  },
  {
   "cell_type": "code",
   "execution_count": 8,
   "metadata": {},
   "outputs": [
    {
     "data": {
      "text/html": [
       "<div>\n",
       "<style scoped>\n",
       "    .dataframe tbody tr th:only-of-type {\n",
       "        vertical-align: middle;\n",
       "    }\n",
       "\n",
       "    .dataframe tbody tr th {\n",
       "        vertical-align: top;\n",
       "    }\n",
       "\n",
       "    .dataframe thead th {\n",
       "        text-align: right;\n",
       "    }\n",
       "</style>\n",
       "<table border=\"1\" class=\"dataframe\">\n",
       "  <thead>\n",
       "    <tr style=\"text-align: right;\">\n",
       "      <th></th>\n",
       "      <th>Province/State</th>\n",
       "      <th>Country/Region</th>\n",
       "      <th>Lat</th>\n",
       "      <th>Long</th>\n",
       "      <th>1/22/20</th>\n",
       "      <th>1/23/20</th>\n",
       "      <th>1/24/20</th>\n",
       "      <th>1/25/20</th>\n",
       "      <th>1/26/20</th>\n",
       "      <th>1/27/20</th>\n",
       "      <th>...</th>\n",
       "      <th>3/27/20</th>\n",
       "      <th>3/28/20</th>\n",
       "      <th>3/29/20</th>\n",
       "      <th>3/30/20</th>\n",
       "      <th>3/31/20</th>\n",
       "      <th>4/1/20</th>\n",
       "      <th>4/2/20</th>\n",
       "      <th>4/3/20</th>\n",
       "      <th>4/4/20</th>\n",
       "      <th>4/5/20</th>\n",
       "    </tr>\n",
       "  </thead>\n",
       "  <tbody>\n",
       "    <tr>\n",
       "      <th>0</th>\n",
       "      <td>NaN</td>\n",
       "      <td>Afghanistan</td>\n",
       "      <td>33.0000</td>\n",
       "      <td>65.0000</td>\n",
       "      <td>0</td>\n",
       "      <td>0</td>\n",
       "      <td>0</td>\n",
       "      <td>0</td>\n",
       "      <td>0</td>\n",
       "      <td>0</td>\n",
       "      <td>...</td>\n",
       "      <td>2</td>\n",
       "      <td>2</td>\n",
       "      <td>2</td>\n",
       "      <td>2</td>\n",
       "      <td>5</td>\n",
       "      <td>5</td>\n",
       "      <td>10</td>\n",
       "      <td>10</td>\n",
       "      <td>10</td>\n",
       "      <td>15</td>\n",
       "    </tr>\n",
       "    <tr>\n",
       "      <th>1</th>\n",
       "      <td>NaN</td>\n",
       "      <td>Albania</td>\n",
       "      <td>41.1533</td>\n",
       "      <td>20.1683</td>\n",
       "      <td>0</td>\n",
       "      <td>0</td>\n",
       "      <td>0</td>\n",
       "      <td>0</td>\n",
       "      <td>0</td>\n",
       "      <td>0</td>\n",
       "      <td>...</td>\n",
       "      <td>31</td>\n",
       "      <td>31</td>\n",
       "      <td>33</td>\n",
       "      <td>44</td>\n",
       "      <td>52</td>\n",
       "      <td>67</td>\n",
       "      <td>76</td>\n",
       "      <td>89</td>\n",
       "      <td>99</td>\n",
       "      <td>104</td>\n",
       "    </tr>\n",
       "    <tr>\n",
       "      <th>2</th>\n",
       "      <td>NaN</td>\n",
       "      <td>Algeria</td>\n",
       "      <td>28.0339</td>\n",
       "      <td>1.6596</td>\n",
       "      <td>0</td>\n",
       "      <td>0</td>\n",
       "      <td>0</td>\n",
       "      <td>0</td>\n",
       "      <td>0</td>\n",
       "      <td>0</td>\n",
       "      <td>...</td>\n",
       "      <td>29</td>\n",
       "      <td>31</td>\n",
       "      <td>31</td>\n",
       "      <td>37</td>\n",
       "      <td>46</td>\n",
       "      <td>61</td>\n",
       "      <td>61</td>\n",
       "      <td>62</td>\n",
       "      <td>90</td>\n",
       "      <td>90</td>\n",
       "    </tr>\n",
       "    <tr>\n",
       "      <th>3</th>\n",
       "      <td>NaN</td>\n",
       "      <td>Andorra</td>\n",
       "      <td>42.5063</td>\n",
       "      <td>1.5218</td>\n",
       "      <td>0</td>\n",
       "      <td>0</td>\n",
       "      <td>0</td>\n",
       "      <td>0</td>\n",
       "      <td>0</td>\n",
       "      <td>0</td>\n",
       "      <td>...</td>\n",
       "      <td>1</td>\n",
       "      <td>1</td>\n",
       "      <td>1</td>\n",
       "      <td>10</td>\n",
       "      <td>10</td>\n",
       "      <td>10</td>\n",
       "      <td>10</td>\n",
       "      <td>16</td>\n",
       "      <td>21</td>\n",
       "      <td>26</td>\n",
       "    </tr>\n",
       "    <tr>\n",
       "      <th>4</th>\n",
       "      <td>NaN</td>\n",
       "      <td>Angola</td>\n",
       "      <td>-11.2027</td>\n",
       "      <td>17.8739</td>\n",
       "      <td>0</td>\n",
       "      <td>0</td>\n",
       "      <td>0</td>\n",
       "      <td>0</td>\n",
       "      <td>0</td>\n",
       "      <td>0</td>\n",
       "      <td>...</td>\n",
       "      <td>0</td>\n",
       "      <td>0</td>\n",
       "      <td>0</td>\n",
       "      <td>0</td>\n",
       "      <td>1</td>\n",
       "      <td>1</td>\n",
       "      <td>1</td>\n",
       "      <td>1</td>\n",
       "      <td>2</td>\n",
       "      <td>2</td>\n",
       "    </tr>\n",
       "  </tbody>\n",
       "</table>\n",
       "<p>5 rows × 79 columns</p>\n",
       "</div>"
      ],
      "text/plain": [
       "  Province/State Country/Region      Lat     Long  1/22/20  1/23/20  1/24/20  \\\n",
       "0            NaN    Afghanistan  33.0000  65.0000        0        0        0   \n",
       "1            NaN        Albania  41.1533  20.1683        0        0        0   \n",
       "2            NaN        Algeria  28.0339   1.6596        0        0        0   \n",
       "3            NaN        Andorra  42.5063   1.5218        0        0        0   \n",
       "4            NaN         Angola -11.2027  17.8739        0        0        0   \n",
       "\n",
       "   1/25/20  1/26/20  1/27/20  ...  3/27/20  3/28/20  3/29/20  3/30/20  \\\n",
       "0        0        0        0  ...        2        2        2        2   \n",
       "1        0        0        0  ...       31       31       33       44   \n",
       "2        0        0        0  ...       29       31       31       37   \n",
       "3        0        0        0  ...        1        1        1       10   \n",
       "4        0        0        0  ...        0        0        0        0   \n",
       "\n",
       "   3/31/20  4/1/20  4/2/20  4/3/20  4/4/20  4/5/20  \n",
       "0        5       5      10      10      10      15  \n",
       "1       52      67      76      89      99     104  \n",
       "2       46      61      61      62      90      90  \n",
       "3       10      10      10      16      21      26  \n",
       "4        1       1       1       1       2       2  \n",
       "\n",
       "[5 rows x 79 columns]"
      ]
     },
     "execution_count": 8,
     "metadata": {},
     "output_type": "execute_result"
    }
   ],
   "source": [
    "recovered_global.head()"
   ]
  },
  {
   "cell_type": "markdown",
   "metadata": {},
   "source": [
    "# Visualising of top 10 Coutries Confirmed Infected, Recovered and Dead Cases for April 5th 2020 with Bar Plot"
   ]
  },
  {
   "cell_type": "code",
   "execution_count": 216,
   "metadata": {},
   "outputs": [],
   "source": [
    "top_10_confirmed = confirmed_global.drop(columns = ['Lat', 'Long']).groupby('Country/Region').sum().nlargest(10, '4/5/20')['4/5/20']\n",
    "recovered_10 = (recovered_global.drop(columns = ['Lat', 'Long']).groupby('Country/Region').sum()).loc[list(top_10_confirmed.index),'4/5/20']\n",
    "dead_10 = (deaths_global.drop(columns = ['Lat', 'Long']).groupby('Country/Region').sum()).loc[list(top_10_confirmed.index),'4/5/20']"
   ]
  },
  {
   "cell_type": "code",
   "execution_count": 220,
   "metadata": {},
   "outputs": [
    {
     "data": {
      "image/png": "[encoded data removed]",
      "text/plain": [
       "<Figure size 576x396 with 1 Axes>"
      ]
     },
     "metadata": {},
     "output_type": "display_data"
    }
   ],
   "source": [
    "\n",
    "plt.style.use('seaborn-whitegrid')\n",
    "\n",
    "x = list(top_10_confirmed.index)\n",
    "\n",
    "x_indexes = np.arange(len(x))\n",
    "\n",
    "width = 0.25\n",
    "                      \n",
    "y1 = top_10_confirmed\n",
    "plt.bar(x_indexes - width, y1, width = width, color=\"#444444\", label=\"Confirmed Infected\")\n",
    "\n",
    "y2 = recovered_10\n",
    "plt.bar(x_indexes, y2, width = width, color=\"#008fd5\", label=\"Recovered\")\n",
    "\n",
    "y3 = recovered_10\n",
    "plt.bar(x_indexes + width, y3, width = width, color=\"#e5ae38\", label=\"Confirmed Deaths\")\n",
    "\n",
    "plt.legend()\n",
    "plt.xticks(ticks = x_indexes, labels = x)\n",
    "plt.title(\"Dist\")\n",
    "plt.xlabel(\"Top_10\")\n",
    "plt.ylabel(\"Number of Cases\")\n",
    "\n",
    "plt.tight_layout()\n",
    "plt.grid(False)\n",
    "plt.show()"
   ]
  },
  {
   "cell_type": "markdown",
   "metadata": {},
   "source": [
    "# Visualizing Convirmed vs. Recovered vs. Dead Cases Across the Globe with Line Chart"
   ]
  },
  {
   "cell_type": "code",
   "execution_count": 112,
   "metadata": {},
   "outputs": [],
   "source": [
    "y = confirmed_global.drop(columns = ['Province/State', 'Country/Region', 'Lat' ,'Long' ]).sum()"
   ]
  },
  {
   "cell_type": "code",
   "execution_count": 186,
   "metadata": {},
   "outputs": [
    {
     "data": {
      "image/png": "[encoded data removed]",
      "text/plain": [
       "<Figure size 576x396 with 1 Axes>"
      ]
     },
     "metadata": {},
     "output_type": "display_data"
    }
   ],
   "source": [
    "plt.style.use('seaborn-whitegrid')\n",
    "\n",
    "#data = pd.read_csv('data1.csv')\n",
    "# Getting all the dates from the confirmed_global DataFrame starting from Jan 22, 2020 as X axis\n",
    "x = confirmed_global.loc[:,'1/22/20':].columns\n",
    "\n",
    "# Getting total number of recovered/confirmed/dead cases by day for intire world \n",
    "y_confirmed = confirmed_global.drop(columns = ['Province/State', 'Country/Region', 'Lat' ,'Long' ]).sum()\n",
    "y_recovered = recovered_global.drop(columns = ['Province/State', 'Country/Region', 'Lat' ,'Long' ]).sum()\n",
    "y_deaths = deaths_global.drop(columns = ['Province/State', 'Country/Region', 'Lat' ,'Long' ]).sum()\n",
    "\n",
    "fig1, ax1 = plt.subplots()\n",
    "\n",
    "ax1.plot(x, y_confirmed,linestyle='--', label='Infected')\n",
    "ax1.plot(x, y_recovered,linestyle='-', label='Recovered')\n",
    "ax1.plot(x, y_deaths, linestyle=':', label='Confirmed Deads')\n",
    "\n",
    "#ax1.legend(fancybox = True, framealpha = 1)\n",
    "ax1.set_title('Global Distribution of COVID-19 cases from January 22nd, 2020 to April 5th 2020 ')\n",
    "ax1.set_ylabel('Number of Cases')\n",
    "\n",
    "plt.xticks(ticks = np.arange(1,77,5))\n",
    "plt.gcf().autofmt_xdate()\n",
    "\n",
    "plt.xlim(3, 73)\n",
    "\n",
    "plt.tight_layout()\n",
    "\n",
    "ax1.legend(prop = {'size': 15}, edgecolor = 'r')\n",
    "ax1.grid(True)\n",
    "plt.yticks([0,200000,400000,600000,800000,1000000,1200000],\n",
    "           ['0','200,000','400,000','600,000','800,000','1000,000','1,200,000'])\n",
    "plt.show()\n",
    "\n",
    "#fig1.savefig('fig1.png')"
   ]
  },
  {
   "cell_type": "markdown",
   "metadata": {},
   "source": [
    "# Visualizing Coronavirus Distribution by Country with Bar Charts"
   ]
  },
  {
   "cell_type": "markdown",
   "metadata": {},
   "source": [
    "What are the top 10 countries with confirmed number of cases for 04/06/2020?"
   ]
  },
  {
   "cell_type": "code",
   "execution_count": null,
   "metadata": {},
   "outputs": [],
   "source": [
    "# top_10_confirmed = confirmed_global.groupby('Country/Region')\\\n",
    "#                   .sum().sort_values(by = '4/5/20', ascending = False)\\\n",
    "#                    ['4/5/20'].head(10).reset_index()"
   ]
  },
  {
   "cell_type": "code",
   "execution_count": 4,
   "metadata": {},
   "outputs": [],
   "source": [
    "top_10_confirmed = confirmed_global.groupby('Country/Region').sum().nlargest(10, '4/5/20')['4/5/20']"
   ]
  },
  {
   "cell_type": "code",
   "execution_count": 5,
   "metadata": {},
   "outputs": [
    {
     "data": {
      "text/plain": [
       "Country/Region\n",
       "US                337072\n",
       "Spain             131646\n",
       "Italy             128948\n",
       "Germany           100123\n",
       "France             93773\n",
       "China              82602\n",
       "Iran               58226\n",
       "United Kingdom     48436\n",
       "Turkey             27069\n",
       "Switzerland        21100\n",
       "Name: 4/5/20, dtype: int64"
      ]
     },
     "execution_count": 5,
     "metadata": {},
     "output_type": "execute_result"
    }
   ],
   "source": [
    "top_10_confirmed"
   ]
  },
  {
   "cell_type": "code",
   "execution_count": 185,
   "metadata": {},
   "outputs": [
    {
     "data": {
      "image/png": "[encoded data removed]",
      "text/plain": [
       "<Figure size 576x396 with 1 Axes>"
      ]
     },
     "metadata": {},
     "output_type": "display_data"
    }
   ],
   "source": [
    "plt.style.use('seaborn-whitegrid')\n",
    "numbers = list(top_10_confirmed.reset_index()['4/5/20'])[::-1]\n",
    "countries = list(top_10_confirmed.reset_index()['Country/Region'])[::-1]\n",
    "plt.barh(countries,numbers,color=\"#e5ae38\")\n",
    "plt.xlabel('Infected # of cases')\n",
    "# https://matplotlib.org/api/_as_gen/matplotlib.pyplot.plot.html\n",
    "plt.tight_layout()\n",
    "plt.title('Infection Distribution Across Top 10 Counties for April 5th 2020')\n",
    "plt.xticks([0,50000,100000,150000,200000,250000,300000,350000],\n",
    "           ['0','50,000','100,000','150,000','200,000','250,000','300,000','350,000'])\n",
    "# plt.rcParams.update({'font.size': 10})\n",
    "# plt.rc('ytick', labelsize=10) \n",
    "# plt.rc('xtick', labelsize=5) \n",
    "plt.show()"
   ]
  },
  {
   "cell_type": "markdown",
   "metadata": {},
   "source": [
    "# Visualizing the Rate of COVID19 Spread by Country with Line Plot"
   ]
  },
  {
   "cell_type": "markdown",
   "metadata": {},
   "source": [
    "Are people getting infected faster in US than in other top 4 countries? "
   ]
  },
  {
   "cell_type": "code",
   "execution_count": 182,
   "metadata": {},
   "outputs": [],
   "source": [
    "# Index was reset to 'Country/Region', 'Province/State','Lat', 'Long' columns were droped \n",
    "confirmed_US = confirmed_global.groupby('Country/Region').sum().loc['US','1/22/20':]\n",
    "confirmed_Spain = confirmed_global.groupby('Country/Region').sum().loc['Spain','1/22/20':]\n",
    "confirmed_Italy = confirmed_global.groupby('Country/Region').sum().loc['Italy','1/22/20':]\n",
    "confirmed_Germany = confirmed_global.groupby('Country/Region').sum().loc['Germany','1/22/20':]\n",
    "confirmed_France = confirmed_global.groupby('Country/Region').sum().loc['France','1/22/20':]"
   ]
  },
  {
   "cell_type": "code",
   "execution_count": 58,
   "metadata": {},
   "outputs": [
    {
     "data": {
      "image/png": "[encoded data removed]",
      "text/plain": [
       "<Figure size 576x396 with 1 Axes>"
      ]
     },
     "metadata": {},
     "output_type": "display_data"
    }
   ],
   "source": [
    "plt.style.use('seaborn-whitegrid')\n",
    "#print(plt.style.available)\n",
    "x = list(confirmed_US.index)\n",
    "\n",
    "plt.plot(x, list(confirmed_US), linewidth = 3,  label='US')\n",
    "\n",
    "# label = legend\n",
    "# fmt = '[color][marker][line]'\n",
    "#plt.plot(ages_x, py_dev_y, color = 'y', linestyle = '--', marker = 'o', label='Python')\n",
    "\n",
    "plt.plot(x, list(confirmed_Spain), linestyle='-.', linewidth = 3, label='Spain')\n",
    "# label = legend\n",
    "\n",
    "plt.plot(x, list(confirmed_Italy), color='#444444', linestyle='--', linewidth = 3, label='Italy')\n",
    "# color='#444444' - first 44 for red color, second 44 for green they all mixed\n",
    "# find hex color palets online to create your own\n",
    "\n",
    "plt.plot(x, list(confirmed_Germany), color='#444444', linestyle=':', linewidth = 3, label='Germany')\n",
    "\n",
    "plt.plot(x, list(confirmed_France), color='#444444', linestyle='-', linewidth = 3, label='France')\n",
    "\n",
    "plt.xlabel('01/22/2020 - 04/05/2020')\n",
    "plt.ylabel('Number of Cases')\n",
    "plt.title('Rate of COVID19 Spread by Country')\n",
    "\n",
    "plt.grid(True)\n",
    "\n",
    "plt.legend(loc='upper left')\n",
    "\n",
    "plt.tight_layout()\n",
    "#plt.savefig('plot.png')\n",
    "plt.xticks(ticks = np.arange(1,77,5))\n",
    "plt.gcf().autofmt_xdate()\n",
    "\n",
    "plt.xlim(3, 73)\n",
    "plt.ylim(-2, 325000)\n",
    "plt.show()\n",
    "\n",
    "# DOCS: https://matplotlib.org/api/_as_gen/matplotlib.pyplot.plot.html"
   ]
  },
  {
   "cell_type": "markdown",
   "metadata": {},
   "source": [
    "# Relating Variables With Scotter Plots "
   ]
  },
  {
   "cell_type": "markdown",
   "metadata": {},
   "source": [
    "Are people recovering globally?"
   ]
  },
  {
   "cell_type": "code",
   "execution_count": 7,
   "metadata": {},
   "outputs": [],
   "source": [
    "# every date represents the total people in the world\n",
    "recovered_global_sum = recovered_global.drop(['Province/State', 'Country/Region', 'Lat', 'Long'], axis = 1, inplace = False).sum()\n",
    "confirmed_global_sum = confirmed_global.drop(['Province/State', 'Country/Region', 'Lat', 'Long'], axis = 1, inplace = False).sum()"
   ]
  },
  {
   "cell_type": "code",
   "execution_count": 8,
   "metadata": {},
   "outputs": [
    {
     "data": {
      "image/png": "[encoded data removed]",
      "text/plain": [
       "<Figure size 432x288 with 1 Axes>"
      ]
     },
     "metadata": {},
     "output_type": "display_data"
    }
   ],
   "source": [
    "plt.style.use('seaborn-whitegrid')\n",
    "#print(plt.style.available)\n",
    "plt.scatter(confirmed_global_sum,recovered_global_sum,\n",
    "            edgecolor='black', linewidth=1, alpha=0.75)\n",
    "\n",
    "plt.title('Infected vs. Recovered Globally 01/22/2020 - 04/05/2020')\n",
    "plt.xlabel('Infected # of cases')\n",
    "plt.ylabel('Recovered # of cases')\n",
    "\n",
    "plt.tight_layout()\n",
    "plt.xlim(0, 1300000)\n",
    "plt.ylim(0, 275000)\n",
    "plt.show()\n",
    "\n",
    "# Matplotlib Marker Styles - http://bit.ly/Matplotlib-Fmt-Str\n",
    "# Matplotlib Colormaps - https://matplotlib.org/3.1.0/tutorial..."
   ]
  },
  {
   "cell_type": "markdown",
   "metadata": {},
   "source": [
    "By looking at the graph, it can be concluded that people are recovering across the globe "
   ]
  },
  {
   "cell_type": "markdown",
   "metadata": {},
   "source": [
    "Are people recovering in US?"
   ]
  },
  {
   "cell_type": "code",
   "execution_count": 9,
   "metadata": {},
   "outputs": [],
   "source": [
    "# Index column was set as 'Country/Region' to access it by .loc['country name'] method\n",
    "recovered_US = (recovered_global.set_index('Country/Region').drop(['Province/State','Lat', 'Long'], axis = 1, inplace = False)).loc['US']\n",
    "confirmed_US = (confirmed_global.set_index('Country/Region').drop(['Province/State','Lat', 'Long'], axis = 1, inplace = False)).loc['US']"
   ]
  },
  {
   "cell_type": "code",
   "execution_count": 10,
   "metadata": {},
   "outputs": [
    {
     "data": {
      "image/png": "[encoded data removed]",
      "text/plain": [
       "<Figure size 432x288 with 1 Axes>"
      ]
     },
     "metadata": {},
     "output_type": "display_data"
    }
   ],
   "source": [
    "plt.style.use('seaborn-whitegrid')\n",
    "\n",
    "plt.scatter(confirmed_US,recovered_US,\n",
    "            edgecolor='black', linewidth=1, alpha=0.75)\n",
    "\n",
    "plt.title('Infected vs. Recovered in US 01/22/2020 - 04/05/2020')\n",
    "plt.xlabel('Infected # of cases')\n",
    "plt.ylabel('Recovered # of cases')\n",
    "\n",
    "plt.tight_layout()\n",
    "plt.xlim(0, 350000)\n",
    "plt.ylim(0, 18000)\n",
    "\n",
    "plt.show()\n",
    "\n",
    "# Matplotlib Marker Styles - http://bit.ly/Matplotlib-Fmt-Str\n",
    "# Matplotlib Colormaps - https://matplotlib.org/3.1.0/tutorial..."
   ]
  },
  {
   "cell_type": "markdown",
   "metadata": {},
   "source": [
    "By looking at the graph, it can be concluded that people are recovering across US"
   ]
  },
  {
   "cell_type": "code",
   "execution_count": 11,
   "metadata": {},
   "outputs": [],
   "source": [
    "datetime = pd.to_datetime(confirmed_global.loc[:,'1/22/20':].columns)"
   ]
  },
  {
   "cell_type": "code",
   "execution_count": 12,
   "metadata": {},
   "outputs": [
    {
     "data": {
      "text/plain": [
       "Int64Index([1, 1, 1, 1, 1, 1, 1, 1, 1, 1, 2, 2, 2, 2, 2, 2, 2, 2, 2, 2, 2, 2,\n",
       "            2, 2, 2, 2, 2, 2, 2, 2, 2, 2, 2, 2, 2, 2, 2, 2, 2, 3, 3, 3, 3, 3,\n",
       "            3, 3, 3, 3, 3, 3, 3, 3, 3, 3, 3, 3, 3, 3, 3, 3, 3, 3, 3, 3, 3, 3,\n",
       "            3, 3, 3, 3, 4, 4, 4, 4, 4],\n",
       "           dtype='int64')"
      ]
     },
     "execution_count": 12,
     "metadata": {},
     "output_type": "execute_result"
    }
   ],
   "source": [
    "datetime.month"
   ]
  },
  {
   "cell_type": "code",
   "execution_count": 13,
   "metadata": {},
   "outputs": [
    {
     "data": {
      "text/plain": [
       "<matplotlib.collections.PathCollection at 0x7f54ca9b8150>"
      ]
     },
     "execution_count": 13,
     "metadata": {},
     "output_type": "execute_result"
    },
    {
     "data": {
      "image/png": "[encoded data removed]",
      "text/plain": [
       "<Figure size 432x288 with 1 Axes>"
      ]
     },
     "metadata": {},
     "output_type": "display_data"
    }
   ],
   "source": [
    "plt.style.use('seaborn-whitegrid')\n",
    "plt.scatter(confirmed_global['Long'],confirmed_global['Lat'],edgecolor='black', linewidth=1, alpha=0.75)\n",
    "#plt(confirmed_global.loc['Long'],confirmed_global.loc['Lat'], '.', ms = 1, alpha = 0.5)"
   ]
  },
  {
   "cell_type": "markdown",
   "metadata": {},
   "source": [
    "# Global Distribution on World Map"
   ]
  },
  {
   "cell_type": "code",
   "execution_count": 142,
   "metadata": {},
   "outputs": [],
   "source": [
    "# confirmed_global_april5th = confirmed_global.groupby('Country/Region').sum()['4/5/20'].reset_index()\n",
    "# world_data = gpd.read_file('/home/anton/COVID-19/data/TM_WORLD_BORDERS-0.3.shp')\n",
    "# #print(list(world_data['name']))\n",
    "# world_data.replace('United States','US',inplace = True)\n",
    "# world_data.replace('Iran (Islamic Republic of)','Iran',inplace = True)\n",
    "# confirmed_global_april5th.rename(columns = {'Country/Region':'name'},inplace = True)\n",
    "# merged_df = world_data.merge(confirmed_global_april5th, on = 'name')\n",
    "# merged_df.columns"
   ]
  },
  {
   "cell_type": "code",
   "execution_count": 14,
   "metadata": {},
   "outputs": [],
   "source": [
    "geo_confirmed = pd.read_csv(\"/home/anton/COVID-19/data/geo_covid19_confirmed_global.csv\")\n",
    "geo_deaths = pd.read_csv(\"/home/anton/COVID-19/data/geo_covid19_deaths_global.csv\")\n",
    "geo_recovered = pd.read_csv(\"/home/anton/COVID-19/data/geo_recovered_global.csv\")"
   ]
  },
  {
   "cell_type": "code",
   "execution_count": 15,
   "metadata": {},
   "outputs": [],
   "source": [
    "list1 = geo_confirmed['4/5/2020'].values.tolist()\n",
    "list2 = geo_deaths['4/5/2020'].values.tolist()\n",
    "list3 = geo_recovered['4/5/2020'].values.tolist()"
   ]
  },
  {
   "cell_type": "markdown",
   "metadata": {},
   "source": [
    "# Confirmed World Map"
   ]
  },
  {
   "cell_type": "code",
   "execution_count": 20,
   "metadata": {},
   "outputs": [
    {
     "data": {
      "application/vnd.plotly.v1+json": {
       "config": {
        "plotlyServerURL": "https://plot.ly"
       },
       "data": [
        {
         "coloraxis": "coloraxis",
         "hoverlabel": {
          "namelength": 0
         },
         "hovertemplate": "Lat=%{lat}<br>Long=%{lon}",
         "lat": [
          33,
          41.1533,
          28.0339,
          42.5063,
          -11.2027,
          17.0608,
          -38.4161,
          40.0691,
          -35.4735,
          -33.8688,
          -12.4634,
          -28.0167,
          -34.9285,
          -41.4545,
          -37.8136,
          -31.9505,
          47.5162,
          40.1431,
          25.0343,
          26.0275,
          23.685,
          13.1939,
          53.7098,
          50.8333,
          9.3077,
          27.5142,
          -16.2902,
          43.9159,
          -14.235,
          4.5353,
          42.7339,
          12.2383,
          16.5388,
          11.55,
          3.8480000000000003,
          53.9333,
          49.2827,
          37.6489,
          53.7609,
          46.5653,
          53.1355,
          44.681999999999995,
          51.2538,
          46.5107,
          52.9399,
          52.9399,
          6.6111,
          15.4542,
          -35.6751,
          31.8257,
          40.1824,
          30.0572,
          26.0789,
          37.8099,
          23.3417,
          23.8298,
          26.8154,
          19.1959,
          39.549,
          47.861999999999995,
          33.882,
          22.3,
          30.9756,
          27.6104,
          44.0935,
          32.9711,
          27.614,
          43.6661,
          41.2956,
          22.1667,
          37.2692,
          35.7452,
          35.1917,
          36.3427,
          31.201999999999998,
          37.5777,
          30.6171,
          39.3054,
          31.6927,
          41.1129,
          24.974,
          29.1832,
          4.5709,
          -4.0383,
          -4.0383,
          9.7489,
          7.54,
          45.1,
          22,
          35.1264,
          49.8175,
          61.8926,
          71.7069,
          56.2639,
          11.8251,
          18.7357,
          -1.8312,
          26,
          13.7942,
          1.5,
          15.1794,
          58.5953,
          -26.5225,
          9.145,
          -17.7134,
          64,
          3.9339,
          -17.6797,
          16.25,
          -12.8275,
          -20.9043,
          -21.1351,
          17.9,
          18.0708,
          14.6415,
          46.2276,
          -0.8037,
          13.4432,
          42.3154,
          51,
          7.9465,
          39.0742,
          15.7835,
          9.9456,
          5,
          18.9712,
          41.9029,
          15.2,
          47.1625,
          64.9631,
          21,
          -0.7893,
          32,
          33,
          53.1424,
          31,
          43,
          18.1096,
          36,
          31.24,
          48.0196,
          -0.0236,
          36,
          29.5,
          41.2044,
          56.8796,
          33.8547,
          6.4281,
          47.14,
          55.1694,
          49.8153,
          -18.7669,
          2.5,
          3.2028,
          35.9375,
          21.0079,
          -20.2,
          23.6345,
          47.4116,
          43.7333,
          46.8625,
          42.5,
          31.7917,
          -22.9576,
          28.1667,
          12.5186,
          12.1696,
          18.0425,
          52.1326,
          -40.9006,
          12.8654,
          17.6078,
          9.082,
          41.6086,
          60.472,
          21,
          30.3753,
          8.538,
          -6.315,
          -23.4425,
          -9.19,
          13,
          51.9194,
          39.3999,
          25.3548,
          45.9432,
          60,
          -1.9403,
          13.9094,
          12.9843,
          43.9424,
          24,
          14.4974,
          44.0165,
          -4.6796,
          1.2833,
          48.669,
          46.1512,
          5.1521,
          -30.5595,
          40,
          7,
          12.8628,
          3.9193,
          63,
          46.8182,
          23.7,
          -6.369,
          15,
          8.6195,
          10.6918,
          34,
          38.9637,
          1,
          48.3794,
          24,
          32.3078,
          19.3133,
          49.3723,
          36.1408,
          54.2361,
          16.7425,
          55.3781,
          -32.5228,
          37.0902,
          41.3775,
          6.4238,
          16,
          -15.4167,
          -20,
          15.415,
          12.1165,
          -18.665695,
          34.802075,
          -8.874217,
          13.1939,
          19.856270000000002,
          26.3351,
          31.9522,
          11.8037,
          17.570692,
          17.357822,
          64.8255,
          64.2823,
          42.602636,
          21.9162,
          18.2206,
          18.4207,
          21.694000000000003,
          -22.3285,
          -3.3731,
          8.460555000000001,
          12.1784,
          -13.254307999999998,
          -51.7963,
          46.8852,
          6.877000000000001,
          24.2155
         ],
         "lon": [
          65,
          20.1683,
          1.6596,
          1.5218,
          17.8739,
          -61.7964,
          -63.6167,
          45.0382,
          149.0124,
          151.2093,
          130.8456,
          153.4,
          138.6007,
          145.9707,
          144.9631,
          115.8605,
          14.5501,
          47.5769,
          -77.3963,
          50.55,
          90.3563,
          -59.5432,
          27.9534,
          4,
          2.3158,
          90.4336,
          -63.5887,
          17.6791,
          -51.9253,
          114.7277,
          25.4858,
          -1.5616,
          -23.0418,
          104.9167,
          11.5021,
          -116.5765,
          -123.1207,
          -122.6655,
          -98.8139,
          -66.4619,
          -57.6604,
          -63.7443,
          -85.3232,
          -63.4168,
          -73.5491,
          -106.4509,
          20.9394,
          18.7322,
          -71.543,
          117.2264,
          116.4142,
          107.874,
          117.9874,
          101.0583,
          113.4244,
          108.7881,
          106.8748,
          109.7453,
          116.1306,
          127.7615,
          113.61399999999999,
          114.2,
          112.2707,
          111.7088,
          113.9448,
          119.455,
          115.7221,
          126.1923,
          122.6085,
          113.55,
          106.1655,
          95.9956,
          108.8701,
          118.1498,
          121.4491,
          112.2922,
          102.7103,
          117.323,
          88.0924,
          85.2401,
          101.48700000000001,
          120.0934,
          -74.2973,
          21.7587,
          21.7587,
          -83.7534,
          -5.5471,
          15.2,
          -80,
          33.4299,
          15.472999999999999,
          -6.9118,
          -42.6043,
          9.5018,
          42.5903,
          -70.1627,
          -78.1834,
          30,
          -88.8965,
          10,
          39.7823,
          25.0136,
          31.4659,
          40.4897,
          178.065,
          26,
          -53.1258,
          149.4068,
          -61.5833,
          45.1662,
          165.618,
          55.2471,
          -62.8333,
          -63.0501,
          -61.0242,
          2.2137,
          11.6094,
          -15.3101,
          43.3569,
          9,
          -1.0232,
          21.8243,
          -90.2308,
          -9.6966,
          -58.75,
          -72.2852,
          12.4534,
          -86.2419,
          19.5033,
          -19.0208,
          78,
          113.9213,
          53,
          44,
          -7.6921,
          35,
          12,
          -77.2975,
          138,
          36.51,
          66.9237,
          37.9062,
          128,
          47.75,
          74.7661,
          24.6032,
          35.8623,
          -9.4295,
          9.55,
          23.8813,
          6.1296,
          46.8691,
          112.5,
          73.2207,
          14.3754,
          10.9408,
          57.5,
          -102.5528,
          28.3699,
          7.4167,
          103.8467,
          19.3,
          -7.0926,
          18.4904,
          84.25,
          -70.0358,
          -68.99,
          -63.0548,
          5.2913,
          174.886,
          -85.2072,
          8.0817,
          8.6753,
          21.7453,
          8.4689,
          57,
          69.3451,
          -80.7821,
          143.9555,
          -58.4438,
          -75.0152,
          122,
          19.1451,
          -8.2245,
          51.1839,
          24.9668,
          90,
          29.8739,
          -60.9789,
          -61.2872,
          12.4578,
          45,
          -14.4524,
          21.0059,
          55.492,
          103.8333,
          19.699,
          14.9955,
          46.1996,
          22.9375,
          -4,
          81,
          30.2176,
          -56.0278,
          16,
          8.2275,
          121,
          34.8888,
          101,
          0.8248,
          -61.2225,
          9,
          35.2433,
          32,
          31.1656,
          54,
          -64.7505,
          -81.2546,
          -2.3644,
          -5.3536,
          -4.5481,
          -62.1874,
          -3.4360000000000004,
          -55.7658,
          -95.7129,
          64.5853,
          -66.5897,
          108,
          28.2833,
          30,
          -61.371,
          -61.678999999999995,
          35.529562,
          38.996815000000005,
          125.727539,
          -59.5432,
          102.495496,
          17.228331,
          35.2332,
          -15.1804,
          -3.9961660000000006,
          -62.782998,
          -124.8457,
          -135,
          20.902977,
          95.956,
          -63.0686,
          -64.64,
          -71.7979,
          24.6849,
          29.9189,
          -11.779889,
          -68.2385,
          34.301525,
          -59.5236,
          -56.3159,
          31.307,
          -12.8858
         ],
         "name": "",
         "radius": [
          5.04645905462054,
          5.048061090986765,
          5.176090497254288,
          5.066751515259396,
          5.001735539396744,
          5.001869042427263,
          5.193579394252249,
          5.109605988055929,
          5.012682787899285,
          5.344304315707967,
          5.003471078793488,
          5.120953745650026,
          5.05420223039063,
          5.0108137454720225,
          5.151392436608311,
          5.060343369794494,
          6.608711517751453,
          5.0778322667924565,
          5.003604581824008,
          5.093318618332636,
          5.011614763655135,
          5.007342666678533,
          5.074895200121043,
          7.6286746709150295,
          5.002803563640895,
          5.000534012122075,
          5.020826472760931,
          5.087177478928772,
          6.4857552266436445,
          5.017889406089518,
          5.07075660617496,
          5.045925042498465,
          5.000801018183113,
          5.015085842448624,
          5.086643466806697,
          5.157533576012176,
          5.160470642683589,
          5.001602036366226,
          5.026967612164796,
          5.012949793960323,
          5.028836654592059,
          5.034844290965405,
          5.581138691848305,
          5.002803563640895,
          6.060414571410771,
          5.033108751568661,
          5.000934521213631,
          5.001068024244151,
          5.596758546419004,
          5.132034497183086,
          5.0780992728534935,
          5.077164751639862,
          5.046592557651059,
          5.018289915181074,
          5.203325115480121,
          5.0337762667212544,
          5.019357939425225,
          5.0222950060966385,
          5.043521987949126,
          5.0671520243509525,
          5.170216363911461,
          5.118684194131207,
          14.051772475235188,
          5.135906085068131,
          5.01548635154018,
          5.086776969837215,
          5.12495883656559,
          5.012949793960323,
          5.01882392730315,
          5.005740630312308,
          5.00987922425839,
          5.002269551518819,
          5.034043272782292,
          5.10386535774362,
          5.07075660617496,
          5.018289915181074,
          5.074361187998967,
          5.023897042462864,
          5,
          5.01001272728891,
          5.024431054584939,
          5.168480824514717,
          5.198118497289888,
          5.005874133342827,
          5.020425963669375,
          5.060476872825014,
          5.034710787934886,
          5.157667079042694,
          5.042587466735495,
          5.059408848580863,
          5.612244897959184,
          5.024030545493383,
          5.001335030305188,
          5.583141237306087,
          5.00774317577009,
          5.232829285224774,
          5.486618546241,
          5.156465551768025,
          5.008143684861646,
          5.002002545457782,
          5.003738084854526,
          5.146319321448597,
          5.001068024244151,
          5.005607127281789,
          5.001468533335706,
          5.257126836779195,
          5.008010181831128,
          5.005340121220752,
          5.017889406089518,
          5.0194914424557435,
          5.002269551518819,
          5.045791539467946,
          5.000667515152594,
          5.004138593946083,
          5.019758448516781,
          17.394154347303683,
          5.002670060610376,
          5.000400509091556,
          5.023096024279751,
          18.36659042160257,
          5.028436145500502,
          5.231494254919586,
          5.008010181831128,
          5.016020363662255,
          5.003070569701932,
          5.002670060610376,
          5.000801018183113,
          5.035645309148518,
          5.097724218339756,
          5.198252000320407,
          5.4788753704709094,
          5.303318885338697,
          12.77321395195671,
          5.128162909298041,
          5.666580631380333,
          6.125297044242904,
          22.214815276306773,
          5.007609672739571,
          5.418932509767972,
          5.045925042498465,
          5.0778322667924565,
          5.01882392730315,
          6.366537020390362,
          5.07409418193793,
          5.0194914424557435,
          5.071023612235998,
          5.070222594052885,
          5.001602036366226,
          5.010146230319428,
          5.1081374547202225,
          5.374208994544176,
          5.009478715166834,
          5.488754594729301,
          5.0024030545493385,
          5.0301716848972475,
          5.000667515152594,
          5.0301716848972475,
          5.252187224649999,
          5.115213115337718,
          5.009612218197353,
          5.001735539396744,
          5.028436145500502,
          5.1361730911291685,
          5.002002545457782,
          5.001068024244151,
          5.008410690922684,
          5.001335030305188,
          5.003204072732451,
          7.383029094760451,
          5.138576145678507,
          5.000667515152594,
          5.024431054584939,
          5.030839200049841,
          5.073960678907411,
          5.759098231529856,
          5.039650400064081,
          5.42133556431731,
          5.240305454933827,
          5,
          5.013750812143436,
          5.304386909582847,
          5.433217334033483,
          5.547495928157569,
          6.505513675160426,
          5.214005357921625,
          5.515722206894097,
          5.719314328435256,
          5.013750812143436,
          5.001735539396744,
          5.000801018183113,
          5.03537830308748,
          5.320540776275622,
          5.029504169744653,
          5.254590279199338,
          5.001201527274669,
          5.174621963918581,
          5.064615466771095,
          5.132969018396718,
          5.000801018183113,
          5.220814012478083,
          22.575006452646473,
          5.023363030340788,
          5.001468533335706,
          5.001201527274669,
          5.911692195412836,
          7.816780440916009,
          5.048328097047803,
          5.002803563640895,
          5.289434570164743,
          5.005740630312308,
          5.013750812143436,
          5.076497236487269,
          8.613660030082682,
          5.006808654556458,
          5.174488460888062,
          5.24003844887279,
          5.004806109098676,
          5.004539103037639,
          5.041118933399789,
          5.013617309112917,
          5.016821381845368,
          5.000667515152594,
          11.38211237395089,
          5.053267709176998,
          50,
          5.045524533406908,
          5.021093478821969,
          5.03204072732451,
          5.005073115159714,
          5.001068024244151,
          5.001735539396744,
          5.001468533335706,
          5.001201527274669,
          5.0024030545493385,
          5,
          5.000534012122075,
          5.001335030305188,
          5.002269551518819,
          5.031506715202435,
          5.002269551518819,
          5.005874133342827,
          5.001201527274669,
          5.000400509091556,
          5.000667515152594,
          5.0192244363947065,
          5.002670060610376,
          5.000267006061038,
          5.000267006061038,
          5.000534012122075,
          5.000667515152594,
          5.000267006061038,
          5.000667515152594,
          5.0001335030305185,
          5.000400509091556,
          5.0001335030305185,
          5,
          5,
          5.000400509091556
         ],
         "subplot": "mapbox",
         "type": "densitymapbox"
        }
       ],
       "layout": {
        "coloraxis": {
         "colorbar": {
          "title": {}
         },
         "colorscale": [
          [
           0,
           "#0d0887"
          ],
          [
           0.1111111111111111,
           "#46039f"
          ],
          [
           0.2222222222222222,
           "#7201a8"
          ],
          [
           0.3333333333333333,
           "#9c179e"
          ],
          [
           0.4444444444444444,
           "#bd3786"
          ],
          [
           0.5555555555555556,
           "#d8576b"
          ],
          [
           0.6666666666666666,
           "#ed7953"
          ],
          [
           0.7777777777777778,
           "#fb9f3a"
          ],
          [
           0.8888888888888888,
           "#fdca26"
          ],
          [
           1,
           "#f0f921"
          ]
         ]
        },
        "legend": {
         "tracegroupgap": 0
        },
        "mapbox": {
         "center": {
          "lat": 21.75207337209302,
          "lon": 22.470177488372087
         },
         "domain": {
          "x": [
           0,
           1
          ],
          "y": [
           0,
           1
          ]
         },
         "style": "stamen-terrain",
         "zoom": 0
        },
        "margin": {
         "t": 60
        },
        "template": {
         "data": {
          "bar": [
           {
            "error_x": {
             "color": "#2a3f5f"
            },
            "error_y": {
             "color": "#2a3f5f"
            },
            "marker": {
             "line": {
              "color": "#E5ECF6",
              "width": 0.5
             }
            },
            "type": "bar"
           }
          ],
          "barpolar": [
           {
            "marker": {
             "line": {
              "color": "#E5ECF6",
              "width": 0.5
             }
            },
            "type": "barpolar"
           }
          ],
          "carpet": [
           {
            "aaxis": {
             "endlinecolor": "#2a3f5f",
             "gridcolor": "white",
             "linecolor": "white",
             "minorgridcolor": "white",
             "startlinecolor": "#2a3f5f"
            },
            "baxis": {
             "endlinecolor": "#2a3f5f",
             "gridcolor": "white",
             "linecolor": "white",
             "minorgridcolor": "white",
             "startlinecolor": "#2a3f5f"
            },
            "type": "carpet"
           }
          ],
          "choropleth": [
           {
            "colorbar": {
             "outlinewidth": 0,
             "ticks": ""
            },
            "type": "choropleth"
           }
          ],
          "contour": [
           {
            "colorbar": {
             "outlinewidth": 0,
             "ticks": ""
            },
            "colorscale": [
             [
              0,
              "#0d0887"
             ],
             [
              0.1111111111111111,
              "#46039f"
             ],
             [
              0.2222222222222222,
              "#7201a8"
             ],
             [
              0.3333333333333333,
              "#9c179e"
             ],
             [
              0.4444444444444444,
              "#bd3786"
             ],
             [
              0.5555555555555556,
              "#d8576b"
             ],
             [
              0.6666666666666666,
              "#ed7953"
             ],
             [
              0.7777777777777778,
              "#fb9f3a"
             ],
             [
              0.8888888888888888,
              "#fdca26"
             ],
             [
              1,
              "#f0f921"
             ]
            ],
            "type": "contour"
           }
          ],
          "contourcarpet": [
           {
            "colorbar": {
             "outlinewidth": 0,
             "ticks": ""
            },
            "type": "contourcarpet"
           }
          ],
          "heatmap": [
           {
            "colorbar": {
             "outlinewidth": 0,
             "ticks": ""
            },
            "colorscale": [
             [
              0,
              "#0d0887"
             ],
             [
              0.1111111111111111,
              "#46039f"
             ],
             [
              0.2222222222222222,
              "#7201a8"
             ],
             [
              0.3333333333333333,
              "#9c179e"
             ],
             [
              0.4444444444444444,
              "#bd3786"
             ],
             [
              0.5555555555555556,
              "#d8576b"
             ],
             [
              0.6666666666666666,
              "#ed7953"
             ],
             [
              0.7777777777777778,
              "#fb9f3a"
             ],
             [
              0.8888888888888888,
              "#fdca26"
             ],
             [
              1,
              "#f0f921"
             ]
            ],
            "type": "heatmap"
           }
          ],
          "heatmapgl": [
           {
            "colorbar": {
             "outlinewidth": 0,
             "ticks": ""
            },
            "colorscale": [
             [
              0,
              "#0d0887"
             ],
             [
              0.1111111111111111,
              "#46039f"
             ],
             [
              0.2222222222222222,
              "#7201a8"
             ],
             [
              0.3333333333333333,
              "#9c179e"
             ],
             [
              0.4444444444444444,
              "#bd3786"
             ],
             [
              0.5555555555555556,
              "#d8576b"
             ],
             [
              0.6666666666666666,
              "#ed7953"
             ],
             [
              0.7777777777777778,
              "#fb9f3a"
             ],
             [
              0.8888888888888888,
              "#fdca26"
             ],
             [
              1,
              "#f0f921"
             ]
            ],
            "type": "heatmapgl"
           }
          ],
          "histogram": [
           {
            "marker": {
             "colorbar": {
              "outlinewidth": 0,
              "ticks": ""
             }
            },
            "type": "histogram"
           }
          ],
          "histogram2d": [
           {
            "colorbar": {
             "outlinewidth": 0,
             "ticks": ""
            },
            "colorscale": [
             [
              0,
              "#0d0887"
             ],
             [
              0.1111111111111111,
              "#46039f"
             ],
             [
              0.2222222222222222,
              "#7201a8"
             ],
             [
              0.3333333333333333,
              "#9c179e"
             ],
             [
              0.4444444444444444,
              "#bd3786"
             ],
             [
              0.5555555555555556,
              "#d8576b"
             ],
             [
              0.6666666666666666,
              "#ed7953"
             ],
             [
              0.7777777777777778,
              "#fb9f3a"
             ],
             [
              0.8888888888888888,
              "#fdca26"
             ],
             [
              1,
              "#f0f921"
             ]
            ],
            "type": "histogram2d"
           }
          ],
          "histogram2dcontour": [
           {
            "colorbar": {
             "outlinewidth": 0,
             "ticks": ""
            },
            "colorscale": [
             [
              0,
              "#0d0887"
             ],
             [
              0.1111111111111111,
              "#46039f"
             ],
             [
              0.2222222222222222,
              "#7201a8"
             ],
             [
              0.3333333333333333,
              "#9c179e"
             ],
             [
              0.4444444444444444,
              "#bd3786"
             ],
             [
              0.5555555555555556,
              "#d8576b"
             ],
             [
              0.6666666666666666,
              "#ed7953"
             ],
             [
              0.7777777777777778,
              "#fb9f3a"
             ],
             [
              0.8888888888888888,
              "#fdca26"
             ],
             [
              1,
              "#f0f921"
             ]
            ],
            "type": "histogram2dcontour"
           }
          ],
          "mesh3d": [
           {
            "colorbar": {
             "outlinewidth": 0,
             "ticks": ""
            },
            "type": "mesh3d"
           }
          ],
          "parcoords": [
           {
            "line": {
             "colorbar": {
              "outlinewidth": 0,
              "ticks": ""
             }
            },
            "type": "parcoords"
           }
          ],
          "pie": [
           {
            "automargin": true,
            "type": "pie"
           }
          ],
          "scatter": [
           {
            "marker": {
             "colorbar": {
              "outlinewidth": 0,
              "ticks": ""
             }
            },
            "type": "scatter"
           }
          ],
          "scatter3d": [
           {
            "line": {
             "colorbar": {
              "outlinewidth": 0,
              "ticks": ""
             }
            },
            "marker": {
             "colorbar": {
              "outlinewidth": 0,
              "ticks": ""
             }
            },
            "type": "scatter3d"
           }
          ],
          "scattercarpet": [
           {
            "marker": {
             "colorbar": {
              "outlinewidth": 0,
              "ticks": ""
             }
            },
            "type": "scattercarpet"
           }
          ],
          "scattergeo": [
           {
            "marker": {
             "colorbar": {
              "outlinewidth": 0,
              "ticks": ""
             }
            },
            "type": "scattergeo"
           }
          ],
          "scattergl": [
           {
            "marker": {
             "colorbar": {
              "outlinewidth": 0,
              "ticks": ""
             }
            },
            "type": "scattergl"
           }
          ],
          "scattermapbox": [
           {
            "marker": {
             "colorbar": {
              "outlinewidth": 0,
              "ticks": ""
             }
            },
            "type": "scattermapbox"
           }
          ],
          "scatterpolar": [
           {
            "marker": {
             "colorbar": {
              "outlinewidth": 0,
              "ticks": ""
             }
            },
            "type": "scatterpolar"
           }
          ],
          "scatterpolargl": [
           {
            "marker": {
             "colorbar": {
              "outlinewidth": 0,
              "ticks": ""
             }
            },
            "type": "scatterpolargl"
           }
          ],
          "scatterternary": [
           {
            "marker": {
             "colorbar": {
              "outlinewidth": 0,
              "ticks": ""
             }
            },
            "type": "scatterternary"
           }
          ],
          "surface": [
           {
            "colorbar": {
             "outlinewidth": 0,
             "ticks": ""
            },
            "colorscale": [
             [
              0,
              "#0d0887"
             ],
             [
              0.1111111111111111,
              "#46039f"
             ],
             [
              0.2222222222222222,
              "#7201a8"
             ],
             [
              0.3333333333333333,
              "#9c179e"
             ],
             [
              0.4444444444444444,
              "#bd3786"
             ],
             [
              0.5555555555555556,
              "#d8576b"
             ],
             [
              0.6666666666666666,
              "#ed7953"
             ],
             [
              0.7777777777777778,
              "#fb9f3a"
             ],
             [
              0.8888888888888888,
              "#fdca26"
             ],
             [
              1,
              "#f0f921"
             ]
            ],
            "type": "surface"
           }
          ],
          "table": [
           {
            "cells": {
             "fill": {
              "color": "#EBF0F8"
             },
             "line": {
              "color": "white"
             }
            },
            "header": {
             "fill": {
              "color": "#C8D4E3"
             },
             "line": {
              "color": "white"
             }
            },
            "type": "table"
           }
          ]
         },
         "layout": {
          "annotationdefaults": {
           "arrowcolor": "#2a3f5f",
           "arrowhead": 0,
           "arrowwidth": 1
          },
          "coloraxis": {
           "colorbar": {
            "outlinewidth": 0,
            "ticks": ""
           }
          },
          "colorscale": {
           "diverging": [
            [
             0,
             "#8e0152"
            ],
            [
             0.1,
             "#c51b7d"
            ],
            [
             0.2,
             "#de77ae"
            ],
            [
             0.3,
             "#f1b6da"
            ],
            [
             0.4,
             "#fde0ef"
            ],
            [
             0.5,
             "#f7f7f7"
            ],
            [
             0.6,
             "#e6f5d0"
            ],
            [
             0.7,
             "#b8e186"
            ],
            [
             0.8,
             "#7fbc41"
            ],
            [
             0.9,
             "#4d9221"
            ],
            [
             1,
             "#276419"
            ]
           ],
           "sequential": [
            [
             0,
             "#0d0887"
            ],
            [
             0.1111111111111111,
             "#46039f"
            ],
            [
             0.2222222222222222,
             "#7201a8"
            ],
            [
             0.3333333333333333,
             "#9c179e"
            ],
            [
             0.4444444444444444,
             "#bd3786"
            ],
            [
             0.5555555555555556,
             "#d8576b"
            ],
            [
             0.6666666666666666,
             "#ed7953"
            ],
            [
             0.7777777777777778,
             "#fb9f3a"
            ],
            [
             0.8888888888888888,
             "#fdca26"
            ],
            [
             1,
             "#f0f921"
            ]
           ],
           "sequentialminus": [
            [
             0,
             "#0d0887"
            ],
            [
             0.1111111111111111,
             "#46039f"
            ],
            [
             0.2222222222222222,
             "#7201a8"
            ],
            [
             0.3333333333333333,
             "#9c179e"
            ],
            [
             0.4444444444444444,
             "#bd3786"
            ],
            [
             0.5555555555555556,
             "#d8576b"
            ],
            [
             0.6666666666666666,
             "#ed7953"
            ],
            [
             0.7777777777777778,
             "#fb9f3a"
            ],
            [
             0.8888888888888888,
             "#fdca26"
            ],
            [
             1,
             "#f0f921"
            ]
           ]
          },
          "colorway": [
           "#636efa",
           "#EF553B",
           "#00cc96",
           "#ab63fa",
           "#FFA15A",
           "#19d3f3",
           "#FF6692",
           "#B6E880",
           "#FF97FF",
           "#FECB52"
          ],
          "font": {
           "color": "#2a3f5f"
          },
          "geo": {
           "bgcolor": "white",
           "lakecolor": "white",
           "landcolor": "#E5ECF6",
           "showlakes": true,
           "showland": true,
           "subunitcolor": "white"
          },
          "hoverlabel": {
           "align": "left"
          },
          "hovermode": "closest",
          "mapbox": {
           "style": "light"
          },
          "paper_bgcolor": "white",
          "plot_bgcolor": "#E5ECF6",
          "polar": {
           "angularaxis": {
            "gridcolor": "white",
            "linecolor": "white",
            "ticks": ""
           },
           "bgcolor": "#E5ECF6",
           "radialaxis": {
            "gridcolor": "white",
            "linecolor": "white",
            "ticks": ""
           }
          },
          "scene": {
           "xaxis": {
            "backgroundcolor": "#E5ECF6",
            "gridcolor": "white",
            "gridwidth": 2,
            "linecolor": "white",
            "showbackground": true,
            "ticks": "",
            "zerolinecolor": "white"
           },
           "yaxis": {
            "backgroundcolor": "#E5ECF6",
            "gridcolor": "white",
            "gridwidth": 2,
            "linecolor": "white",
            "showbackground": true,
            "ticks": "",
            "zerolinecolor": "white"
           },
           "zaxis": {
            "backgroundcolor": "#E5ECF6",
            "gridcolor": "white",
            "gridwidth": 2,
            "linecolor": "white",
            "showbackground": true,
            "ticks": "",
            "zerolinecolor": "white"
           }
          },
          "shapedefaults": {
           "line": {
            "color": "#2a3f5f"
           }
          },
          "ternary": {
           "aaxis": {
            "gridcolor": "white",
            "linecolor": "white",
            "ticks": ""
           },
           "baxis": {
            "gridcolor": "white",
            "linecolor": "white",
            "ticks": ""
           },
           "bgcolor": "#E5ECF6",
           "caxis": {
            "gridcolor": "white",
            "linecolor": "white",
            "ticks": ""
           }
          },
          "title": {
           "x": 0.05
          },
          "xaxis": {
           "automargin": true,
           "gridcolor": "white",
           "linecolor": "white",
           "ticks": "",
           "title": {
            "standoff": 15
           },
           "zerolinecolor": "white",
           "zerolinewidth": 2
          },
          "yaxis": {
           "automargin": true,
           "gridcolor": "white",
           "linecolor": "white",
           "ticks": "",
           "title": {
            "standoff": 15
           },
           "zerolinecolor": "white",
           "zerolinewidth": 2
          }
         }
        }
       }
      },
      "text/html": [
       "<div>\n",
       "        \n",
       "        \n",
       "            <div id=\"87092d54-1ab6-4984-bda4-1a33853e31f3\" class=\"plotly-graph-div\" style=\"height:525px; width:100%;\"></div>\n",
       "            <script type=\"text/javascript\">\n",
       "                require([\"plotly\"], function(Plotly) {\n",
       "                    window.PLOTLYENV=window.PLOTLYENV || {};\n",
       "                    \n",
       "                if (document.getElementById(\"87092d54-1ab6-4984-bda4-1a33853e31f3\")) {\n",
       "                    Plotly.newPlot(\n",
       "                        '87092d54-1ab6-4984-bda4-1a33853e31f3',\n",
       "                        [{\"coloraxis\": \"coloraxis\", \"hoverlabel\": {\"namelength\": 0}, \"hovertemplate\": \"Lat=%{lat}<br>Long=%{lon}\", \"lat\": [33.0, 41.1533, 28.0339, 42.5063, -11.2027, 17.0608, -38.4161, 40.0691, -35.4735, -33.8688, -12.4634, -28.0167, -34.9285, -41.4545, -37.8136, -31.9505, 47.5162, 40.1431, 25.0343, 26.0275, 23.685, 13.1939, 53.7098, 50.8333, 9.3077, 27.5142, -16.2902, 43.9159, -14.235, 4.5353, 42.7339, 12.2383, 16.5388, 11.55, 3.8480000000000003, 53.9333, 49.2827, 37.6489, 53.7609, 46.5653, 53.1355, 44.681999999999995, 51.2538, 46.5107, 52.9399, 52.9399, 6.6111, 15.4542, -35.6751, 31.8257, 40.1824, 30.0572, 26.0789, 37.8099, 23.3417, 23.8298, 26.8154, 19.1959, 39.549, 47.861999999999995, 33.882, 22.3, 30.9756, 27.6104, 44.0935, 32.9711, 27.614, 43.6661, 41.2956, 22.1667, 37.2692, 35.7452, 35.1917, 36.3427, 31.201999999999998, 37.5777, 30.6171, 39.3054, 31.6927, 41.1129, 24.974, 29.1832, 4.5709, -4.0383, -4.0383, 9.7489, 7.54, 45.1, 22.0, 35.1264, 49.8175, 61.8926, 71.7069, 56.2639, 11.8251, 18.7357, -1.8312, 26.0, 13.7942, 1.5, 15.1794, 58.5953, -26.5225, 9.145, -17.7134, 64.0, 3.9339, -17.6797, 16.25, -12.8275, -20.9043, -21.1351, 17.9, 18.0708, 14.6415, 46.2276, -0.8037, 13.4432, 42.3154, 51.0, 7.9465, 39.0742, 15.7835, 9.9456, 5.0, 18.9712, 41.9029, 15.2, 47.1625, 64.9631, 21.0, -0.7893, 32.0, 33.0, 53.1424, 31.0, 43.0, 18.1096, 36.0, 31.24, 48.0196, -0.0236, 36.0, 29.5, 41.2044, 56.8796, 33.8547, 6.4281, 47.14, 55.1694, 49.8153, -18.7669, 2.5, 3.2028, 35.9375, 21.0079, -20.2, 23.6345, 47.4116, 43.7333, 46.8625, 42.5, 31.7917, -22.9576, 28.1667, 12.5186, 12.1696, 18.0425, 52.1326, -40.9006, 12.8654, 17.6078, 9.082, 41.6086, 60.472, 21.0, 30.3753, 8.538, -6.315, -23.4425, -9.19, 13.0, 51.9194, 39.3999, 25.3548, 45.9432, 60.0, -1.9403, 13.9094, 12.9843, 43.9424, 24.0, 14.4974, 44.0165, -4.6796, 1.2833, 48.669, 46.1512, 5.1521, -30.5595, 40.0, 7.0, 12.8628, 3.9193, 63.0, 46.8182, 23.7, -6.369, 15.0, 8.6195, 10.6918, 34.0, 38.9637, 1.0, 48.3794, 24.0, 32.3078, 19.3133, 49.3723, 36.1408, 54.2361, 16.7425, 55.3781, -32.5228, 37.0902, 41.3775, 6.4238, 16.0, -15.4167, -20.0, 15.415, 12.1165, -18.665695, 34.802075, -8.874217, 13.1939, 19.856270000000002, 26.3351, 31.9522, 11.8037, 17.570692, 17.357822, 64.8255, 64.2823, 42.602636, 21.9162, 18.2206, 18.4207, 21.694000000000003, -22.3285, -3.3731, 8.460555000000001, 12.1784, -13.254307999999998, -51.7963, 46.8852, 6.877000000000001, 24.2155], \"lon\": [65.0, 20.1683, 1.6596, 1.5218, 17.8739, -61.7964, -63.6167, 45.0382, 149.0124, 151.2093, 130.8456, 153.4, 138.6007, 145.9707, 144.9631, 115.8605, 14.5501, 47.5769, -77.3963, 50.55, 90.3563, -59.5432, 27.9534, 4.0, 2.3158, 90.4336, -63.5887, 17.6791, -51.9253, 114.7277, 25.4858, -1.5616, -23.0418, 104.9167, 11.5021, -116.5765, -123.1207, -122.6655, -98.8139, -66.4619, -57.6604, -63.7443, -85.3232, -63.4168, -73.5491, -106.4509, 20.9394, 18.7322, -71.543, 117.2264, 116.4142, 107.874, 117.9874, 101.0583, 113.4244, 108.7881, 106.8748, 109.7453, 116.1306, 127.7615, 113.61399999999999, 114.2, 112.2707, 111.7088, 113.9448, 119.455, 115.7221, 126.1923, 122.6085, 113.55, 106.1655, 95.9956, 108.8701, 118.1498, 121.4491, 112.2922, 102.7103, 117.323, 88.0924, 85.2401, 101.48700000000001, 120.0934, -74.2973, 21.7587, 21.7587, -83.7534, -5.5471, 15.2, -80.0, 33.4299, 15.472999999999999, -6.9118, -42.6043, 9.5018, 42.5903, -70.1627, -78.1834, 30.0, -88.8965, 10.0, 39.7823, 25.0136, 31.4659, 40.4897, 178.065, 26.0, -53.1258, 149.4068, -61.5833, 45.1662, 165.618, 55.2471, -62.8333, -63.0501, -61.0242, 2.2137, 11.6094, -15.3101, 43.3569, 9.0, -1.0232, 21.8243, -90.2308, -9.6966, -58.75, -72.2852, 12.4534, -86.2419, 19.5033, -19.0208, 78.0, 113.9213, 53.0, 44.0, -7.6921, 35.0, 12.0, -77.2975, 138.0, 36.51, 66.9237, 37.9062, 128.0, 47.75, 74.7661, 24.6032, 35.8623, -9.4295, 9.55, 23.8813, 6.1296, 46.8691, 112.5, 73.2207, 14.3754, 10.9408, 57.5, -102.5528, 28.3699, 7.4167, 103.8467, 19.3, -7.0926, 18.4904, 84.25, -70.0358, -68.99, -63.0548, 5.2913, 174.886, -85.2072, 8.0817, 8.6753, 21.7453, 8.4689, 57.0, 69.3451, -80.7821, 143.9555, -58.4438, -75.0152, 122.0, 19.1451, -8.2245, 51.1839, 24.9668, 90.0, 29.8739, -60.9789, -61.2872, 12.4578, 45.0, -14.4524, 21.0059, 55.492, 103.8333, 19.699, 14.9955, 46.1996, 22.9375, -4.0, 81.0, 30.2176, -56.0278, 16.0, 8.2275, 121.0, 34.8888, 101.0, 0.8248, -61.2225, 9.0, 35.2433, 32.0, 31.1656, 54.0, -64.7505, -81.2546, -2.3644, -5.3536, -4.5481, -62.1874, -3.4360000000000004, -55.7658, -95.7129, 64.5853, -66.5897, 108.0, 28.2833, 30.0, -61.371, -61.678999999999995, 35.529562, 38.996815000000005, 125.727539, -59.5432, 102.495496, 17.228331, 35.2332, -15.1804, -3.9961660000000006, -62.782998, -124.8457, -135.0, 20.902977, 95.956, -63.0686, -64.64, -71.7979, 24.6849, 29.9189, -11.779889, -68.2385, 34.301525, -59.5236, -56.3159, 31.307, -12.8858], \"name\": \"\", \"radius\": [5.04645905462054, 5.048061090986765, 5.176090497254288, 5.066751515259396, 5.001735539396744, 5.001869042427263, 5.193579394252249, 5.109605988055929, 5.012682787899285, 5.344304315707967, 5.003471078793488, 5.120953745650026, 5.05420223039063, 5.0108137454720225, 5.151392436608311, 5.060343369794494, 6.608711517751453, 5.0778322667924565, 5.003604581824008, 5.093318618332636, 5.011614763655135, 5.007342666678533, 5.074895200121043, 7.6286746709150295, 5.002803563640895, 5.000534012122075, 5.020826472760931, 5.087177478928772, 6.4857552266436445, 5.017889406089518, 5.07075660617496, 5.045925042498465, 5.000801018183113, 5.015085842448624, 5.086643466806697, 5.157533576012176, 5.160470642683589, 5.001602036366226, 5.026967612164796, 5.012949793960323, 5.028836654592059, 5.034844290965405, 5.581138691848305, 5.002803563640895, 6.060414571410771, 5.033108751568661, 5.000934521213631, 5.001068024244151, 5.596758546419004, 5.132034497183086, 5.0780992728534935, 5.077164751639862, 5.046592557651059, 5.018289915181074, 5.203325115480121, 5.0337762667212544, 5.019357939425225, 5.0222950060966385, 5.043521987949126, 5.0671520243509525, 5.170216363911461, 5.118684194131207, 14.051772475235188, 5.135906085068131, 5.01548635154018, 5.086776969837215, 5.12495883656559, 5.012949793960323, 5.01882392730315, 5.005740630312308, 5.00987922425839, 5.002269551518819, 5.034043272782292, 5.10386535774362, 5.07075660617496, 5.018289915181074, 5.074361187998967, 5.023897042462864, 5.0, 5.01001272728891, 5.024431054584939, 5.168480824514717, 5.198118497289888, 5.005874133342827, 5.020425963669375, 5.060476872825014, 5.034710787934886, 5.157667079042694, 5.042587466735495, 5.059408848580863, 5.612244897959184, 5.024030545493383, 5.001335030305188, 5.583141237306087, 5.00774317577009, 5.232829285224774, 5.486618546241, 5.156465551768025, 5.008143684861646, 5.002002545457782, 5.003738084854526, 5.146319321448597, 5.001068024244151, 5.005607127281789, 5.001468533335706, 5.257126836779195, 5.008010181831128, 5.005340121220752, 5.017889406089518, 5.0194914424557435, 5.002269551518819, 5.045791539467946, 5.000667515152594, 5.004138593946083, 5.019758448516781, 17.394154347303683, 5.002670060610376, 5.000400509091556, 5.023096024279751, 18.36659042160257, 5.028436145500502, 5.231494254919586, 5.008010181831128, 5.016020363662255, 5.003070569701932, 5.002670060610376, 5.000801018183113, 5.035645309148518, 5.097724218339756, 5.198252000320407, 5.4788753704709094, 5.303318885338697, 12.77321395195671, 5.128162909298041, 5.666580631380333, 6.125297044242904, 22.214815276306773, 5.007609672739571, 5.418932509767972, 5.045925042498465, 5.0778322667924565, 5.01882392730315, 6.366537020390362, 5.07409418193793, 5.0194914424557435, 5.071023612235998, 5.070222594052885, 5.001602036366226, 5.010146230319428, 5.1081374547202225, 5.374208994544176, 5.009478715166834, 5.488754594729301, 5.0024030545493385, 5.0301716848972475, 5.000667515152594, 5.0301716848972475, 5.252187224649999, 5.115213115337718, 5.009612218197353, 5.001735539396744, 5.028436145500502, 5.1361730911291685, 5.002002545457782, 5.001068024244151, 5.008410690922684, 5.001335030305188, 5.003204072732451, 7.383029094760451, 5.138576145678507, 5.000667515152594, 5.024431054584939, 5.030839200049841, 5.073960678907411, 5.759098231529856, 5.039650400064081, 5.42133556431731, 5.240305454933827, 5.0, 5.013750812143436, 5.304386909582847, 5.433217334033483, 5.547495928157569, 6.505513675160426, 5.214005357921625, 5.515722206894097, 5.719314328435256, 5.013750812143436, 5.001735539396744, 5.000801018183113, 5.03537830308748, 5.320540776275622, 5.029504169744653, 5.254590279199338, 5.001201527274669, 5.174621963918581, 5.064615466771095, 5.132969018396718, 5.000801018183113, 5.220814012478083, 22.575006452646473, 5.023363030340788, 5.001468533335706, 5.001201527274669, 5.911692195412836, 7.816780440916009, 5.048328097047803, 5.002803563640895, 5.289434570164743, 5.005740630312308, 5.013750812143436, 5.076497236487269, 8.613660030082682, 5.006808654556458, 5.174488460888062, 5.24003844887279, 5.004806109098676, 5.004539103037639, 5.041118933399789, 5.013617309112917, 5.016821381845368, 5.000667515152594, 11.38211237395089, 5.053267709176998, 50.0, 5.045524533406908, 5.021093478821969, 5.03204072732451, 5.005073115159714, 5.001068024244151, 5.001735539396744, 5.001468533335706, 5.001201527274669, 5.0024030545493385, 5.0, 5.000534012122075, 5.001335030305188, 5.002269551518819, 5.031506715202435, 5.002269551518819, 5.005874133342827, 5.001201527274669, 5.000400509091556, 5.000667515152594, 5.0192244363947065, 5.002670060610376, 5.000267006061038, 5.000267006061038, 5.000534012122075, 5.000667515152594, 5.000267006061038, 5.000667515152594, 5.0001335030305185, 5.000400509091556, 5.0001335030305185, 5.0, 5.0, 5.000400509091556], \"subplot\": \"mapbox\", \"type\": \"densitymapbox\"}],\n",
       "                        {\"coloraxis\": {\"colorbar\": {\"title\": {}}, \"colorscale\": [[0.0, \"#0d0887\"], [0.1111111111111111, \"#46039f\"], [0.2222222222222222, \"#7201a8\"], [0.3333333333333333, \"#9c179e\"], [0.4444444444444444, \"#bd3786\"], [0.5555555555555556, \"#d8576b\"], [0.6666666666666666, \"#ed7953\"], [0.7777777777777778, \"#fb9f3a\"], [0.8888888888888888, \"#fdca26\"], [1.0, \"#f0f921\"]]}, \"legend\": {\"tracegroupgap\": 0}, \"mapbox\": {\"center\": {\"lat\": 21.75207337209302, \"lon\": 22.470177488372087}, \"domain\": {\"x\": [0.0, 1.0], \"y\": [0.0, 1.0]}, \"style\": \"stamen-terrain\", \"zoom\": 0}, \"margin\": {\"t\": 60}, \"template\": {\"data\": {\"bar\": [{\"error_x\": {\"color\": \"#2a3f5f\"}, \"error_y\": {\"color\": \"#2a3f5f\"}, \"marker\": {\"line\": {\"color\": \"#E5ECF6\", \"width\": 0.5}}, \"type\": \"bar\"}], \"barpolar\": [{\"marker\": {\"line\": {\"color\": \"#E5ECF6\", \"width\": 0.5}}, \"type\": \"barpolar\"}], \"carpet\": [{\"aaxis\": {\"endlinecolor\": \"#2a3f5f\", \"gridcolor\": \"white\", \"linecolor\": \"white\", \"minorgridcolor\": \"white\", \"startlinecolor\": \"#2a3f5f\"}, \"baxis\": {\"endlinecolor\": \"#2a3f5f\", \"gridcolor\": \"white\", \"linecolor\": \"white\", \"minorgridcolor\": \"white\", \"startlinecolor\": \"#2a3f5f\"}, \"type\": \"carpet\"}], \"choropleth\": [{\"colorbar\": {\"outlinewidth\": 0, \"ticks\": \"\"}, \"type\": \"choropleth\"}], \"contour\": [{\"colorbar\": {\"outlinewidth\": 0, \"ticks\": \"\"}, \"colorscale\": [[0.0, \"#0d0887\"], [0.1111111111111111, \"#46039f\"], [0.2222222222222222, \"#7201a8\"], [0.3333333333333333, \"#9c179e\"], [0.4444444444444444, \"#bd3786\"], [0.5555555555555556, \"#d8576b\"], [0.6666666666666666, \"#ed7953\"], [0.7777777777777778, \"#fb9f3a\"], [0.8888888888888888, \"#fdca26\"], [1.0, \"#f0f921\"]], \"type\": \"contour\"}], \"contourcarpet\": [{\"colorbar\": {\"outlinewidth\": 0, \"ticks\": \"\"}, \"type\": \"contourcarpet\"}], \"heatmap\": [{\"colorbar\": {\"outlinewidth\": 0, \"ticks\": \"\"}, \"colorscale\": [[0.0, \"#0d0887\"], [0.1111111111111111, \"#46039f\"], [0.2222222222222222, \"#7201a8\"], [0.3333333333333333, \"#9c179e\"], [0.4444444444444444, \"#bd3786\"], [0.5555555555555556, \"#d8576b\"], [0.6666666666666666, \"#ed7953\"], [0.7777777777777778, \"#fb9f3a\"], [0.8888888888888888, \"#fdca26\"], [1.0, \"#f0f921\"]], \"type\": \"heatmap\"}], \"heatmapgl\": [{\"colorbar\": {\"outlinewidth\": 0, \"ticks\": \"\"}, \"colorscale\": [[0.0, \"#0d0887\"], [0.1111111111111111, \"#46039f\"], [0.2222222222222222, \"#7201a8\"], [0.3333333333333333, \"#9c179e\"], [0.4444444444444444, \"#bd3786\"], [0.5555555555555556, \"#d8576b\"], [0.6666666666666666, \"#ed7953\"], [0.7777777777777778, \"#fb9f3a\"], [0.8888888888888888, \"#fdca26\"], [1.0, \"#f0f921\"]], \"type\": \"heatmapgl\"}], \"histogram\": [{\"marker\": {\"colorbar\": {\"outlinewidth\": 0, \"ticks\": \"\"}}, \"type\": \"histogram\"}], \"histogram2d\": [{\"colorbar\": {\"outlinewidth\": 0, \"ticks\": \"\"}, \"colorscale\": [[0.0, \"#0d0887\"], [0.1111111111111111, \"#46039f\"], [0.2222222222222222, \"#7201a8\"], [0.3333333333333333, \"#9c179e\"], [0.4444444444444444, \"#bd3786\"], [0.5555555555555556, \"#d8576b\"], [0.6666666666666666, \"#ed7953\"], [0.7777777777777778, \"#fb9f3a\"], [0.8888888888888888, \"#fdca26\"], [1.0, \"#f0f921\"]], \"type\": \"histogram2d\"}], \"histogram2dcontour\": [{\"colorbar\": {\"outlinewidth\": 0, \"ticks\": \"\"}, \"colorscale\": [[0.0, \"#0d0887\"], [0.1111111111111111, \"#46039f\"], [0.2222222222222222, \"#7201a8\"], [0.3333333333333333, \"#9c179e\"], [0.4444444444444444, \"#bd3786\"], [0.5555555555555556, \"#d8576b\"], [0.6666666666666666, \"#ed7953\"], [0.7777777777777778, \"#fb9f3a\"], [0.8888888888888888, \"#fdca26\"], [1.0, \"#f0f921\"]], \"type\": \"histogram2dcontour\"}], \"mesh3d\": [{\"colorbar\": {\"outlinewidth\": 0, \"ticks\": \"\"}, \"type\": \"mesh3d\"}], \"parcoords\": [{\"line\": {\"colorbar\": {\"outlinewidth\": 0, \"ticks\": \"\"}}, \"type\": \"parcoords\"}], \"pie\": [{\"automargin\": true, \"type\": \"pie\"}], \"scatter\": [{\"marker\": {\"colorbar\": {\"outlinewidth\": 0, \"ticks\": \"\"}}, \"type\": \"scatter\"}], \"scatter3d\": [{\"line\": {\"colorbar\": {\"outlinewidth\": 0, \"ticks\": \"\"}}, \"marker\": {\"colorbar\": {\"outlinewidth\": 0, \"ticks\": \"\"}}, \"type\": \"scatter3d\"}], \"scattercarpet\": [{\"marker\": {\"colorbar\": {\"outlinewidth\": 0, \"ticks\": \"\"}}, \"type\": \"scattercarpet\"}], \"scattergeo\": [{\"marker\": {\"colorbar\": {\"outlinewidth\": 0, \"ticks\": \"\"}}, \"type\": \"scattergeo\"}], \"scattergl\": [{\"marker\": {\"colorbar\": {\"outlinewidth\": 0, \"ticks\": \"\"}}, \"type\": \"scattergl\"}], \"scattermapbox\": [{\"marker\": {\"colorbar\": {\"outlinewidth\": 0, \"ticks\": \"\"}}, \"type\": \"scattermapbox\"}], \"scatterpolar\": [{\"marker\": {\"colorbar\": {\"outlinewidth\": 0, \"ticks\": \"\"}}, \"type\": \"scatterpolar\"}], \"scatterpolargl\": [{\"marker\": {\"colorbar\": {\"outlinewidth\": 0, \"ticks\": \"\"}}, \"type\": \"scatterpolargl\"}], \"scatterternary\": [{\"marker\": {\"colorbar\": {\"outlinewidth\": 0, \"ticks\": \"\"}}, \"type\": \"scatterternary\"}], \"surface\": [{\"colorbar\": {\"outlinewidth\": 0, \"ticks\": \"\"}, \"colorscale\": [[0.0, \"#0d0887\"], [0.1111111111111111, \"#46039f\"], [0.2222222222222222, \"#7201a8\"], [0.3333333333333333, \"#9c179e\"], [0.4444444444444444, \"#bd3786\"], [0.5555555555555556, \"#d8576b\"], [0.6666666666666666, \"#ed7953\"], [0.7777777777777778, \"#fb9f3a\"], [0.8888888888888888, \"#fdca26\"], [1.0, \"#f0f921\"]], \"type\": \"surface\"}], \"table\": [{\"cells\": {\"fill\": {\"color\": \"#EBF0F8\"}, \"line\": {\"color\": \"white\"}}, \"header\": {\"fill\": {\"color\": \"#C8D4E3\"}, \"line\": {\"color\": \"white\"}}, \"type\": \"table\"}]}, \"layout\": {\"annotationdefaults\": {\"arrowcolor\": \"#2a3f5f\", \"arrowhead\": 0, \"arrowwidth\": 1}, \"coloraxis\": {\"colorbar\": {\"outlinewidth\": 0, \"ticks\": \"\"}}, \"colorscale\": {\"diverging\": [[0, \"#8e0152\"], [0.1, \"#c51b7d\"], [0.2, \"#de77ae\"], [0.3, \"#f1b6da\"], [0.4, \"#fde0ef\"], [0.5, \"#f7f7f7\"], [0.6, \"#e6f5d0\"], [0.7, \"#b8e186\"], [0.8, \"#7fbc41\"], [0.9, \"#4d9221\"], [1, \"#276419\"]], \"sequential\": [[0.0, \"#0d0887\"], [0.1111111111111111, \"#46039f\"], [0.2222222222222222, \"#7201a8\"], [0.3333333333333333, \"#9c179e\"], [0.4444444444444444, \"#bd3786\"], [0.5555555555555556, \"#d8576b\"], [0.6666666666666666, \"#ed7953\"], [0.7777777777777778, \"#fb9f3a\"], [0.8888888888888888, \"#fdca26\"], [1.0, \"#f0f921\"]], \"sequentialminus\": [[0.0, \"#0d0887\"], [0.1111111111111111, \"#46039f\"], [0.2222222222222222, \"#7201a8\"], [0.3333333333333333, \"#9c179e\"], [0.4444444444444444, \"#bd3786\"], [0.5555555555555556, \"#d8576b\"], [0.6666666666666666, \"#ed7953\"], [0.7777777777777778, \"#fb9f3a\"], [0.8888888888888888, \"#fdca26\"], [1.0, \"#f0f921\"]]}, \"colorway\": [\"#636efa\", \"#EF553B\", \"#00cc96\", \"#ab63fa\", \"#FFA15A\", \"#19d3f3\", \"#FF6692\", \"#B6E880\", \"#FF97FF\", \"#FECB52\"], \"font\": {\"color\": \"#2a3f5f\"}, \"geo\": {\"bgcolor\": \"white\", \"lakecolor\": \"white\", \"landcolor\": \"#E5ECF6\", \"showlakes\": true, \"showland\": true, \"subunitcolor\": \"white\"}, \"hoverlabel\": {\"align\": \"left\"}, \"hovermode\": \"closest\", \"mapbox\": {\"style\": \"light\"}, \"paper_bgcolor\": \"white\", \"plot_bgcolor\": \"#E5ECF6\", \"polar\": {\"angularaxis\": {\"gridcolor\": \"white\", \"linecolor\": \"white\", \"ticks\": \"\"}, \"bgcolor\": \"#E5ECF6\", \"radialaxis\": {\"gridcolor\": \"white\", \"linecolor\": \"white\", \"ticks\": \"\"}}, \"scene\": {\"xaxis\": {\"backgroundcolor\": \"#E5ECF6\", \"gridcolor\": \"white\", \"gridwidth\": 2, \"linecolor\": \"white\", \"showbackground\": true, \"ticks\": \"\", \"zerolinecolor\": \"white\"}, \"yaxis\": {\"backgroundcolor\": \"#E5ECF6\", \"gridcolor\": \"white\", \"gridwidth\": 2, \"linecolor\": \"white\", \"showbackground\": true, \"ticks\": \"\", \"zerolinecolor\": \"white\"}, \"zaxis\": {\"backgroundcolor\": \"#E5ECF6\", \"gridcolor\": \"white\", \"gridwidth\": 2, \"linecolor\": \"white\", \"showbackground\": true, \"ticks\": \"\", \"zerolinecolor\": \"white\"}}, \"shapedefaults\": {\"line\": {\"color\": \"#2a3f5f\"}}, \"ternary\": {\"aaxis\": {\"gridcolor\": \"white\", \"linecolor\": \"white\", \"ticks\": \"\"}, \"baxis\": {\"gridcolor\": \"white\", \"linecolor\": \"white\", \"ticks\": \"\"}, \"bgcolor\": \"#E5ECF6\", \"caxis\": {\"gridcolor\": \"white\", \"linecolor\": \"white\", \"ticks\": \"\"}}, \"title\": {\"x\": 0.05}, \"xaxis\": {\"automargin\": true, \"gridcolor\": \"white\", \"linecolor\": \"white\", \"ticks\": \"\", \"title\": {\"standoff\": 15}, \"zerolinecolor\": \"white\", \"zerolinewidth\": 2}, \"yaxis\": {\"automargin\": true, \"gridcolor\": \"white\", \"linecolor\": \"white\", \"ticks\": \"\", \"title\": {\"standoff\": 15}, \"zerolinecolor\": \"white\", \"zerolinewidth\": 2}}}},\n",
       "                        {\"responsive\": true}\n",
       "                    ).then(function(){\n",
       "                            \n",
       "var gd = document.getElementById('87092d54-1ab6-4984-bda4-1a33853e31f3');\n",
       "var x = new MutationObserver(function (mutations, observer) {{\n",
       "        var display = window.getComputedStyle(gd).display;\n",
       "        if (!display || display === 'none') {{\n",
       "            console.log([gd, 'removed!']);\n",
       "            Plotly.purge(gd);\n",
       "            observer.disconnect();\n",
       "        }}\n",
       "}});\n",
       "\n",
       "// Listen for the removal of the full notebook cells\n",
       "var notebookContainer = gd.closest('#notebook-container');\n",
       "if (notebookContainer) {{\n",
       "    x.observe(notebookContainer, {childList: true});\n",
       "}}\n",
       "\n",
       "// Listen for the clearing of the current output cell\n",
       "var outputEl = gd.closest('.output');\n",
       "if (outputEl) {{\n",
       "    x.observe(outputEl, {childList: true});\n",
       "}}\n",
       "\n",
       "                        })\n",
       "                };\n",
       "                });\n",
       "            </script>\n",
       "        </div>"
      ]
     },
     "metadata": {},
     "output_type": "display_data"
    }
   ],
   "source": [
    "# Interpolating circle radius to given circle range. range of the circle radius is from 5 to 16\n",
    "m = interp1d([1,max(list1)],[5,50])\n",
    "circle_radius = m(list1)\n",
    "#typelist = ['open-street-map','white-bg','carto-positron','carto-darkmatter','stamen-terrain','stamen-loner','stamen-watercolor']\n",
    "#plotting heat map on top of world map\n",
    "fig = px.density_mapbox(geo_confirmed,lat = 'Lat',lon = 'Long',radius = circle_radius,zoom=0,mapbox_style='stamen-terrain')\n",
    "\n",
    "fig.show()"
   ]
  },
  {
   "cell_type": "markdown",
   "metadata": {},
   "source": [
    "# Recovered World Map"
   ]
  },
  {
   "cell_type": "code",
   "execution_count": 170,
   "metadata": {},
   "outputs": [
    {
     "data": {
      "application/vnd.plotly.v1+json": {
       "config": {
        "plotlyServerURL": "https://plot.ly"
       },
       "data": [
        {
         "coloraxis": "coloraxis",
         "hoverlabel": {
          "namelength": 0
         },
         "hovertemplate": "Lat=%{lat}<br>Long=%{lon}",
         "lat": [
          33,
          41.1533,
          28.0339,
          42.5063,
          -11.2027,
          17.0608,
          -38.4161,
          40.0691,
          -35.4735,
          -33.8688,
          -12.4634,
          -28.0167,
          -34.9285,
          -41.4545,
          -37.8136,
          -31.9505,
          47.5162,
          40.1431,
          25.0343,
          26.0275,
          23.685,
          13.1939,
          53.7098,
          50.8333,
          13.1939,
          9.3077,
          27.5142,
          -16.2902,
          43.9159,
          -14.235,
          4.5353,
          42.7339,
          12.2383,
          16.5388,
          11.55,
          3.8480000000000003,
          56.1304,
          6.6111,
          15.4542,
          -35.6751,
          31.8257,
          40.1824,
          30.0572,
          26.0789,
          37.8099,
          23.3417,
          23.8298,
          26.8154,
          19.1959,
          39.549,
          47.861999999999995,
          33.882,
          22.3,
          30.9756,
          27.6104,
          44.0935,
          32.9711,
          27.614,
          43.6661,
          41.2956,
          22.1667,
          37.2692,
          35.7452,
          35.1917,
          36.3427,
          31.201999999999998,
          37.5777,
          30.6171,
          39.3054,
          31.6927,
          41.1129,
          24.974,
          29.1832,
          4.5709,
          -4.0383,
          -4.0383,
          9.7489,
          7.54,
          45.1,
          22,
          35.1264,
          49.8175,
          61.8926,
          71.7069,
          56.2639,
          11.8251,
          15.415,
          18.7357,
          -1.8312,
          26,
          13.7942,
          1.5,
          15.1794,
          58.5953,
          -26.5225,
          9.145,
          -17.7134,
          64,
          3.9339,
          -17.6797,
          16.25,
          14.6415,
          -12.8275,
          -20.9043,
          -21.1351,
          17.9,
          18.0708,
          46.2276,
          -0.8037,
          13.4432,
          42.3154,
          51,
          7.9465,
          12.1165,
          39.0742,
          15.7835,
          9.9456,
          11.8037,
          5,
          18.9712,
          41.9029,
          15.2,
          47.1625,
          64.9631,
          21,
          -0.7893,
          32,
          33,
          53.1424,
          31,
          43,
          18.1096,
          36,
          31.24,
          48.0196,
          -0.0236,
          36,
          29.5,
          41.2044,
          56.8796,
          33.8547,
          6.4281,
          26.3351,
          47.14,
          55.1694,
          49.8153,
          -18.7669,
          2.5,
          3.2028,
          17.570692,
          35.9375,
          21.0079,
          -20.2,
          23.6345,
          47.4116,
          43.7333,
          46.8625,
          42.5,
          31.7917,
          -18.6657,
          -22.9576,
          28.1667,
          12.5186,
          12.1696,
          18.0425,
          52.1326,
          -40.9006,
          12.8654,
          17.6078,
          9.082,
          41.6086,
          60.472,
          21,
          30.3753,
          8.538,
          -6.315,
          -23.4425,
          -9.19,
          13,
          51.9194,
          39.3999,
          25.3548,
          45.9432,
          60,
          -1.9403,
          17.357822,
          13.9094,
          12.9843,
          43.9424,
          24,
          14.4974,
          44.0165,
          -4.6796,
          1.2833,
          48.669,
          46.1512,
          5.1521,
          -30.5595,
          40,
          7,
          12.8628,
          3.9193,
          63,
          46.8182,
          34.8021,
          23.7,
          -6.369,
          15,
          -8.8742,
          8.6195,
          10.6918,
          34,
          38.9637,
          1,
          48.3794,
          24,
          32.3078,
          19.3133,
          49.3723,
          36.1408,
          54.2361,
          16.7425,
          55.3781,
          -32.5228,
          37.0902,
          41.3775,
          6.4238,
          16,
          -15.4167,
          -20,
          31.9522,
          19.856270000000002,
          42.602636,
          21.9162,
          18.2206,
          18.4207,
          21.694000000000003,
          -22.3285,
          -3.3731,
          8.460555000000001,
          12.1784,
          -13.254307999999998,
          -51.7963,
          46.8852,
          6.877000000000001,
          24.2155
         ],
         "lon": [
          65,
          20.1683,
          1.6596,
          1.5218,
          17.8739,
          -61.7964,
          -63.6167,
          45.0382,
          149.0124,
          151.2093,
          130.8456,
          153.4,
          138.6007,
          145.9707,
          144.9631,
          115.8605,
          14.5501,
          47.5769,
          -77.3963,
          50.55,
          90.3563,
          -59.5432,
          27.9534,
          4,
          -59.5432,
          2.3158,
          90.4336,
          -63.5887,
          17.6791,
          -51.9253,
          114.7277,
          25.4858,
          -1.5616,
          -23.0418,
          104.9167,
          11.5021,
          -106.3468,
          20.9394,
          18.7322,
          -71.543,
          117.2264,
          116.4142,
          107.874,
          117.9874,
          101.0583,
          113.4244,
          108.7881,
          106.8748,
          109.7453,
          116.1306,
          127.7615,
          113.61399999999999,
          114.2,
          112.2707,
          111.7088,
          113.9448,
          119.455,
          115.7221,
          126.1923,
          122.6085,
          113.55,
          106.1655,
          95.9956,
          108.8701,
          118.1498,
          121.4491,
          112.2922,
          102.7103,
          117.323,
          88.0924,
          85.2401,
          101.48700000000001,
          120.0934,
          -74.2973,
          21.7587,
          21.7587,
          -83.7534,
          -5.5471,
          15.2,
          -80,
          33.4299,
          15.472999999999999,
          -6.9118,
          -42.6043,
          9.5018,
          42.5903,
          -61.371,
          -70.1627,
          -78.1834,
          30,
          -88.8965,
          10,
          39.7823,
          25.0136,
          31.4659,
          40.4897,
          178.065,
          26,
          -53.1258,
          149.4068,
          -61.5833,
          -61.0242,
          45.1662,
          165.618,
          55.2471,
          -62.8333,
          -63.0501,
          2.2137,
          11.6094,
          -15.3101,
          43.3569,
          9,
          -1.0232,
          -61.678999999999995,
          21.8243,
          -90.2308,
          -9.6966,
          -15.1804,
          -58.75,
          -72.2852,
          12.4534,
          -86.2419,
          19.5033,
          -19.0208,
          78,
          113.9213,
          53,
          44,
          -7.6921,
          35,
          12,
          -77.2975,
          138,
          36.51,
          66.9237,
          37.9062,
          128,
          47.75,
          74.7661,
          24.6032,
          35.8623,
          -9.4295,
          17.228331,
          9.55,
          23.8813,
          6.1296,
          46.8691,
          112.5,
          73.2207,
          -3.9961660000000006,
          14.3754,
          10.9408,
          57.5,
          -102.5528,
          28.3699,
          7.4167,
          103.8467,
          19.3,
          -7.0926,
          35.5296,
          18.4904,
          84.25,
          -70.0358,
          -68.99,
          -63.0548,
          5.2913,
          174.886,
          -85.2072,
          8.0817,
          8.6753,
          21.7453,
          8.4689,
          57,
          69.3451,
          -80.7821,
          143.9555,
          -58.4438,
          -75.0152,
          122,
          19.1451,
          -8.2245,
          51.1839,
          24.9668,
          90,
          29.8739,
          -62.782998,
          -60.9789,
          -61.2872,
          12.4578,
          45,
          -14.4524,
          21.0059,
          55.492,
          103.8333,
          19.699,
          14.9955,
          46.1996,
          22.9375,
          -4,
          81,
          30.2176,
          -56.0278,
          16,
          8.2275,
          38.9968,
          121,
          34.8888,
          101,
          125.7275,
          0.8248,
          -61.2225,
          9,
          35.2433,
          32,
          31.1656,
          54,
          -64.7505,
          -81.2546,
          -2.3644,
          -5.3536,
          -4.5481,
          -62.1874,
          -3.4360000000000004,
          -55.7658,
          -95.7129,
          64.5853,
          -66.5897,
          108,
          28.2833,
          30,
          35.2332,
          102.495496,
          20.902977,
          95.956,
          -63.0686,
          -64.64,
          -71.7979,
          24.6849,
          29.9189,
          -11.779889,
          -68.2385,
          34.301525,
          -59.5236,
          -56.3159,
          31.307,
          -12.8858
         ],
         "name": "",
         "radius": [
          5.011356657796132,
          5.011748266685654,
          5.04304434377327,
          5.016317037063408,
          5.000424242963649,
          5.0004568770377755,
          5.047319407483883,
          5.026792574858116,
          5.003100237042047,
          5.084163277173058,
          5.000848485927297,
          5.029566471158895,
          5.013249434095488,
          5.002643360004272,
          5.03700704005981,
          5.0147506015053205,
          5.393240593228133,
          5.019025665215934,
          5.000881120001424,
          5.0228112178146445,
          5.002839164449033,
          5.001794874076975,
          5.018307715585144,
          5.642564919557008,
          5.000685315556663,
          5.000130536296507,
          5.005090915563783,
          5.021310050404811,
          5.363184610957336,
          5.004372965932993,
          5.0172960592872125,
          5.011226121499624,
          5.000195804444761,
          5.00368765037633,
          5.0211795141083035,
          5.038508207469643,
          5.039226157100432,
          5.0003916088895215,
          5.006592082973617,
          5.003165505190301,
          5.007048960011392,
          5.008517493347099,
          5.14205612467403,
          5.000685315556663,
          5.2592124507893,
          5.0080932503834505,
          5.000228438518888,
          5.000261072593014,
          5.1458743113468675,
          5.032275099311421,
          5.019090933364187,
          5.018862494845299,
          5.011389291870259,
          5.004470868155374,
          5.049701694895141,
          5.008256420754084,
          5.004731940748388,
          5.005449890379178,
          5.010638708165342,
          5.016414939285789,
          5.041608444511691,
          5.02901169189874,
          7.212655493946379,
          5.033221487461098,
          5.0037855525987105,
          5.02121214818243,
          5.0305454933827,
          5.003165505190301,
          5.004601404451881,
          5.001403265187453,
          5.002414921485385,
          5.000554779260156,
          5.008321688902338,
          5.025389309670663,
          5.0172960592872125,
          5.004470868155374,
          5.018177179288637,
          5.0058414992687,
          5,
          5.002447555559511,
          5.0059720355652075,
          5.041184201548042,
          5.048428966004195,
          5.00143589926158,
          5.0049930133414025,
          5.014783235579448,
          5.008484859272972,
          5.03854084154377,
          5.010410269646455,
          5.014522162986433,
          5.149659863945578,
          5.005874133342827,
          5.000326340741268,
          5.1425456357859325,
          5.001892776299355,
          5.056913825277167,
          5.118951200192244,
          5.038247134876628,
          5.001990678521736,
          5.000489511111902,
          5.000913754075551,
          5.03576694524299,
          5.000261072593014,
          5.001370631113327,
          5.000358974815395,
          5.062853226768247,
          5.001958044447609,
          5.0013053629650726,
          5.004372965932993,
          5.004764574822516,
          5.000554779260156,
          5.011193487425498,
          5.000163170370634,
          5.001011656297932,
          5.004829842970769,
          8.029682173785345,
          5.000652681482537,
          5.000097902222381,
          5.005645694823939,
          8.267388769725073,
          5.006951057789012,
          5.056587484535899,
          5.001958044447609,
          5.003916088895218,
          5.000750583704916,
          5.000652681482537,
          5.000195804444761,
          5.00871329779186,
          5.023888142260829,
          5.048461600078322,
          5.117058423892889,
          5.074144616416126,
          6.900118966033863,
          5.031328711161743,
          5.162941932115192,
          5.275072610814933,
          9.208065956430545,
          5.001860142225229,
          5.102405724609949,
          5.011226121499624,
          5.019025665215934,
          5.004601404451881,
          5.334042382762089,
          5.018111911140383,
          5.004764574822516,
          5.0173613274354665,
          5.017165522990705,
          5.0003916088895215,
          5.002480189633638,
          5.026433600042721,
          5.091473309777466,
          5.002317019263004,
          5.119473345378274,
          5.000587413334283,
          5.007375300752661,
          5.000163170370634,
          5.007375300752661,
          5.061645766025555,
          5.028163205971442,
          5.002349653337131,
          5.000424242963649,
          5.006951057789012,
          5.033286755609352,
          5.000489511111902,
          5.000261072593014,
          5.002055946669989,
          5.000326340741268,
          5.000783217779044,
          5.582518223163666,
          5.033874168943635,
          5.000163170370634,
          5.0059720355652075,
          5.007538471123294,
          5.018079277066256,
          5.185557345485076,
          5.009692320015664,
          5.102993137944232,
          5.0587413334282685,
          5,
          5.003361309635062,
          5.074405689009141,
          5.105897570541518,
          5.133832337994073,
          5.3680144539281045,
          5.052312420825286,
          5.1260654283518905,
          5.175832391395285,
          5.003361309635062,
          5.000424242963649,
          5.000195804444761,
          5.008648029643607,
          5.078354411978485,
          5.007212130382026,
          5.062233179359838,
          5.000293706667141,
          5.0426853689578754,
          5.015794891877379,
          5.0325035378303085,
          5.000195804444761,
          5.053976758605754,
          9.296112688424694,
          5.005710962972193,
          5.000358974815395,
          5.000293706667141,
          5.222858092212027,
          5.688546330001691,
          5.011813534833907,
          5.000685315556663,
          5.070750672706937,
          5.001403265187453,
          5.003361309635062,
          5.018699324474666,
          5.883339118464656,
          5.0016643377804675,
          5.042652734883749,
          5.058676065280015,
          5.001174826668565,
          5.001109558520311,
          5.010051294831059,
          5.003328675560935,
          5.004111893339979,
          5.000163170370634,
          6.56007191363244,
          5.0130209955766,
          16,
          5.011128219277245,
          5.005156183712037,
          5.007832177790436,
          5.001240094816819,
          5.000261072593014,
          5.000424242963649,
          5.000358974815395,
          5.000293706667141,
          5.000587413334283,
          5,
          5.000130536296507,
          5.000326340741268,
          5.000554779260156,
          5.007701641493928,
          5.000554779260156,
          5.00143589926158,
          5.000293706667141,
          5.000097902222381,
          5.000163170370634,
          5.0046993066742615,
          5.000652681482537,
          5.000065268148254,
          5.000065268148254,
          5.000130536296507,
          5.000163170370634,
          5.000065268148254,
          5.000163170370634,
          5.000032634074127,
          5.000097902222381,
          5.000032634074127,
          5,
          5,
          5.000097902222381
         ],
         "subplot": "mapbox",
         "type": "densitymapbox"
        }
       ],
       "layout": {
        "coloraxis": {
         "colorbar": {
          "title": {}
         },
         "colorscale": [
          [
           0,
           "#0d0887"
          ],
          [
           0.1111111111111111,
           "#46039f"
          ],
          [
           0.2222222222222222,
           "#7201a8"
          ],
          [
           0.3333333333333333,
           "#9c179e"
          ],
          [
           0.4444444444444444,
           "#bd3786"
          ],
          [
           0.5555555555555556,
           "#d8576b"
          ],
          [
           0.6666666666666666,
           "#ed7953"
          ],
          [
           0.7777777777777778,
           "#fb9f3a"
          ],
          [
           0.8888888888888888,
           "#fdca26"
          ],
          [
           1,
           "#f0f921"
          ]
         ]
        },
        "legend": {
         "tracegroupgap": 0
        },
        "mapbox": {
         "center": {
          "lat": 20.310588077235767,
          "lon": 28.164991365853645
         },
         "domain": {
          "x": [
           0,
           1
          ],
          "y": [
           0,
           1
          ]
         },
         "style": "open-street-map",
         "zoom": 0
        },
        "margin": {
         "t": 60
        },
        "template": {
         "data": {
          "bar": [
           {
            "error_x": {
             "color": "#2a3f5f"
            },
            "error_y": {
             "color": "#2a3f5f"
            },
            "marker": {
             "line": {
              "color": "#E5ECF6",
              "width": 0.5
             }
            },
            "type": "bar"
           }
          ],
          "barpolar": [
           {
            "marker": {
             "line": {
              "color": "#E5ECF6",
              "width": 0.5
             }
            },
            "type": "barpolar"
           }
          ],
          "carpet": [
           {
            "aaxis": {
             "endlinecolor": "#2a3f5f",
             "gridcolor": "white",
             "linecolor": "white",
             "minorgridcolor": "white",
             "startlinecolor": "#2a3f5f"
            },
            "baxis": {
             "endlinecolor": "#2a3f5f",
             "gridcolor": "white",
             "linecolor": "white",
             "minorgridcolor": "white",
             "startlinecolor": "#2a3f5f"
            },
            "type": "carpet"
           }
          ],
          "choropleth": [
           {
            "colorbar": {
             "outlinewidth": 0,
             "ticks": ""
            },
            "type": "choropleth"
           }
          ],
          "contour": [
           {
            "colorbar": {
             "outlinewidth": 0,
             "ticks": ""
            },
            "colorscale": [
             [
              0,
              "#0d0887"
             ],
             [
              0.1111111111111111,
              "#46039f"
             ],
             [
              0.2222222222222222,
              "#7201a8"
             ],
             [
              0.3333333333333333,
              "#9c179e"
             ],
             [
              0.4444444444444444,
              "#bd3786"
             ],
             [
              0.5555555555555556,
              "#d8576b"
             ],
             [
              0.6666666666666666,
              "#ed7953"
             ],
             [
              0.7777777777777778,
              "#fb9f3a"
             ],
             [
              0.8888888888888888,
              "#fdca26"
             ],
             [
              1,
              "#f0f921"
             ]
            ],
            "type": "contour"
           }
          ],
          "contourcarpet": [
           {
            "colorbar": {
             "outlinewidth": 0,
             "ticks": ""
            },
            "type": "contourcarpet"
           }
          ],
          "heatmap": [
           {
            "colorbar": {
             "outlinewidth": 0,
             "ticks": ""
            },
            "colorscale": [
             [
              0,
              "#0d0887"
             ],
             [
              0.1111111111111111,
              "#46039f"
             ],
             [
              0.2222222222222222,
              "#7201a8"
             ],
             [
              0.3333333333333333,
              "#9c179e"
             ],
             [
              0.4444444444444444,
              "#bd3786"
             ],
             [
              0.5555555555555556,
              "#d8576b"
             ],
             [
              0.6666666666666666,
              "#ed7953"
             ],
             [
              0.7777777777777778,
              "#fb9f3a"
             ],
             [
              0.8888888888888888,
              "#fdca26"
             ],
             [
              1,
              "#f0f921"
             ]
            ],
            "type": "heatmap"
           }
          ],
          "heatmapgl": [
           {
            "colorbar": {
             "outlinewidth": 0,
             "ticks": ""
            },
            "colorscale": [
             [
              0,
              "#0d0887"
             ],
             [
              0.1111111111111111,
              "#46039f"
             ],
             [
              0.2222222222222222,
              "#7201a8"
             ],
             [
              0.3333333333333333,
              "#9c179e"
             ],
             [
              0.4444444444444444,
              "#bd3786"
             ],
             [
              0.5555555555555556,
              "#d8576b"
             ],
             [
              0.6666666666666666,
              "#ed7953"
             ],
             [
              0.7777777777777778,
              "#fb9f3a"
             ],
             [
              0.8888888888888888,
              "#fdca26"
             ],
             [
              1,
              "#f0f921"
             ]
            ],
            "type": "heatmapgl"
           }
          ],
          "histogram": [
           {
            "marker": {
             "colorbar": {
              "outlinewidth": 0,
              "ticks": ""
             }
            },
            "type": "histogram"
           }
          ],
          "histogram2d": [
           {
            "colorbar": {
             "outlinewidth": 0,
             "ticks": ""
            },
            "colorscale": [
             [
              0,
              "#0d0887"
             ],
             [
              0.1111111111111111,
              "#46039f"
             ],
             [
              0.2222222222222222,
              "#7201a8"
             ],
             [
              0.3333333333333333,
              "#9c179e"
             ],
             [
              0.4444444444444444,
              "#bd3786"
             ],
             [
              0.5555555555555556,
              "#d8576b"
             ],
             [
              0.6666666666666666,
              "#ed7953"
             ],
             [
              0.7777777777777778,
              "#fb9f3a"
             ],
             [
              0.8888888888888888,
              "#fdca26"
             ],
             [
              1,
              "#f0f921"
             ]
            ],
            "type": "histogram2d"
           }
          ],
          "histogram2dcontour": [
           {
            "colorbar": {
             "outlinewidth": 0,
             "ticks": ""
            },
            "colorscale": [
             [
              0,
              "#0d0887"
             ],
             [
              0.1111111111111111,
              "#46039f"
             ],
             [
              0.2222222222222222,
              "#7201a8"
             ],
             [
              0.3333333333333333,
              "#9c179e"
             ],
             [
              0.4444444444444444,
              "#bd3786"
             ],
             [
              0.5555555555555556,
              "#d8576b"
             ],
             [
              0.6666666666666666,
              "#ed7953"
             ],
             [
              0.7777777777777778,
              "#fb9f3a"
             ],
             [
              0.8888888888888888,
              "#fdca26"
             ],
             [
              1,
              "#f0f921"
             ]
            ],
            "type": "histogram2dcontour"
           }
          ],
          "mesh3d": [
           {
            "colorbar": {
             "outlinewidth": 0,
             "ticks": ""
            },
            "type": "mesh3d"
           }
          ],
          "parcoords": [
           {
            "line": {
             "colorbar": {
              "outlinewidth": 0,
              "ticks": ""
             }
            },
            "type": "parcoords"
           }
          ],
          "pie": [
           {
            "automargin": true,
            "type": "pie"
           }
          ],
          "scatter": [
           {
            "marker": {
             "colorbar": {
              "outlinewidth": 0,
              "ticks": ""
             }
            },
            "type": "scatter"
           }
          ],
          "scatter3d": [
           {
            "line": {
             "colorbar": {
              "outlinewidth": 0,
              "ticks": ""
             }
            },
            "marker": {
             "colorbar": {
              "outlinewidth": 0,
              "ticks": ""
             }
            },
            "type": "scatter3d"
           }
          ],
          "scattercarpet": [
           {
            "marker": {
             "colorbar": {
              "outlinewidth": 0,
              "ticks": ""
             }
            },
            "type": "scattercarpet"
           }
          ],
          "scattergeo": [
           {
            "marker": {
             "colorbar": {
              "outlinewidth": 0,
              "ticks": ""
             }
            },
            "type": "scattergeo"
           }
          ],
          "scattergl": [
           {
            "marker": {
             "colorbar": {
              "outlinewidth": 0,
              "ticks": ""
             }
            },
            "type": "scattergl"
           }
          ],
          "scattermapbox": [
           {
            "marker": {
             "colorbar": {
              "outlinewidth": 0,
              "ticks": ""
             }
            },
            "type": "scattermapbox"
           }
          ],
          "scatterpolar": [
           {
            "marker": {
             "colorbar": {
              "outlinewidth": 0,
              "ticks": ""
             }
            },
            "type": "scatterpolar"
           }
          ],
          "scatterpolargl": [
           {
            "marker": {
             "colorbar": {
              "outlinewidth": 0,
              "ticks": ""
             }
            },
            "type": "scatterpolargl"
           }
          ],
          "scatterternary": [
           {
            "marker": {
             "colorbar": {
              "outlinewidth": 0,
              "ticks": ""
             }
            },
            "type": "scatterternary"
           }
          ],
          "surface": [
           {
            "colorbar": {
             "outlinewidth": 0,
             "ticks": ""
            },
            "colorscale": [
             [
              0,
              "#0d0887"
             ],
             [
              0.1111111111111111,
              "#46039f"
             ],
             [
              0.2222222222222222,
              "#7201a8"
             ],
             [
              0.3333333333333333,
              "#9c179e"
             ],
             [
              0.4444444444444444,
              "#bd3786"
             ],
             [
              0.5555555555555556,
              "#d8576b"
             ],
             [
              0.6666666666666666,
              "#ed7953"
             ],
             [
              0.7777777777777778,
              "#fb9f3a"
             ],
             [
              0.8888888888888888,
              "#fdca26"
             ],
             [
              1,
              "#f0f921"
             ]
            ],
            "type": "surface"
           }
          ],
          "table": [
           {
            "cells": {
             "fill": {
              "color": "#EBF0F8"
             },
             "line": {
              "color": "white"
             }
            },
            "header": {
             "fill": {
              "color": "#C8D4E3"
             },
             "line": {
              "color": "white"
             }
            },
            "type": "table"
           }
          ]
         },
         "layout": {
          "annotationdefaults": {
           "arrowcolor": "#2a3f5f",
           "arrowhead": 0,
           "arrowwidth": 1
          },
          "coloraxis": {
           "colorbar": {
            "outlinewidth": 0,
            "ticks": ""
           }
          },
          "colorscale": {
           "diverging": [
            [
             0,
             "#8e0152"
            ],
            [
             0.1,
             "#c51b7d"
            ],
            [
             0.2,
             "#de77ae"
            ],
            [
             0.3,
             "#f1b6da"
            ],
            [
             0.4,
             "#fde0ef"
            ],
            [
             0.5,
             "#f7f7f7"
            ],
            [
             0.6,
             "#e6f5d0"
            ],
            [
             0.7,
             "#b8e186"
            ],
            [
             0.8,
             "#7fbc41"
            ],
            [
             0.9,
             "#4d9221"
            ],
            [
             1,
             "#276419"
            ]
           ],
           "sequential": [
            [
             0,
             "#0d0887"
            ],
            [
             0.1111111111111111,
             "#46039f"
            ],
            [
             0.2222222222222222,
             "#7201a8"
            ],
            [
             0.3333333333333333,
             "#9c179e"
            ],
            [
             0.4444444444444444,
             "#bd3786"
            ],
            [
             0.5555555555555556,
             "#d8576b"
            ],
            [
             0.6666666666666666,
             "#ed7953"
            ],
            [
             0.7777777777777778,
             "#fb9f3a"
            ],
            [
             0.8888888888888888,
             "#fdca26"
            ],
            [
             1,
             "#f0f921"
            ]
           ],
           "sequentialminus": [
            [
             0,
             "#0d0887"
            ],
            [
             0.1111111111111111,
             "#46039f"
            ],
            [
             0.2222222222222222,
             "#7201a8"
            ],
            [
             0.3333333333333333,
             "#9c179e"
            ],
            [
             0.4444444444444444,
             "#bd3786"
            ],
            [
             0.5555555555555556,
             "#d8576b"
            ],
            [
             0.6666666666666666,
             "#ed7953"
            ],
            [
             0.7777777777777778,
             "#fb9f3a"
            ],
            [
             0.8888888888888888,
             "#fdca26"
            ],
            [
             1,
             "#f0f921"
            ]
           ]
          },
          "colorway": [
           "#636efa",
           "#EF553B",
           "#00cc96",
           "#ab63fa",
           "#FFA15A",
           "#19d3f3",
           "#FF6692",
           "#B6E880",
           "#FF97FF",
           "#FECB52"
          ],
          "font": {
           "color": "#2a3f5f"
          },
          "geo": {
           "bgcolor": "white",
           "lakecolor": "white",
           "landcolor": "#E5ECF6",
           "showlakes": true,
           "showland": true,
           "subunitcolor": "white"
          },
          "hoverlabel": {
           "align": "left"
          },
          "hovermode": "closest",
          "mapbox": {
           "style": "light"
          },
          "paper_bgcolor": "white",
          "plot_bgcolor": "#E5ECF6",
          "polar": {
           "angularaxis": {
            "gridcolor": "white",
            "linecolor": "white",
            "ticks": ""
           },
           "bgcolor": "#E5ECF6",
           "radialaxis": {
            "gridcolor": "white",
            "linecolor": "white",
            "ticks": ""
           }
          },
          "scene": {
           "xaxis": {
            "backgroundcolor": "#E5ECF6",
            "gridcolor": "white",
            "gridwidth": 2,
            "linecolor": "white",
            "showbackground": true,
            "ticks": "",
            "zerolinecolor": "white"
           },
           "yaxis": {
            "backgroundcolor": "#E5ECF6",
            "gridcolor": "white",
            "gridwidth": 2,
            "linecolor": "white",
            "showbackground": true,
            "ticks": "",
            "zerolinecolor": "white"
           },
           "zaxis": {
            "backgroundcolor": "#E5ECF6",
            "gridcolor": "white",
            "gridwidth": 2,
            "linecolor": "white",
            "showbackground": true,
            "ticks": "",
            "zerolinecolor": "white"
           }
          },
          "shapedefaults": {
           "line": {
            "color": "#2a3f5f"
           }
          },
          "ternary": {
           "aaxis": {
            "gridcolor": "white",
            "linecolor": "white",
            "ticks": ""
           },
           "baxis": {
            "gridcolor": "white",
            "linecolor": "white",
            "ticks": ""
           },
           "bgcolor": "#E5ECF6",
           "caxis": {
            "gridcolor": "white",
            "linecolor": "white",
            "ticks": ""
           }
          },
          "title": {
           "x": 0.05
          },
          "xaxis": {
           "automargin": true,
           "gridcolor": "white",
           "linecolor": "white",
           "ticks": "",
           "title": {
            "standoff": 15
           },
           "zerolinecolor": "white",
           "zerolinewidth": 2
          },
          "yaxis": {
           "automargin": true,
           "gridcolor": "white",
           "linecolor": "white",
           "ticks": "",
           "title": {
            "standoff": 15
           },
           "zerolinecolor": "white",
           "zerolinewidth": 2
          }
         }
        }
       }
      },
      "text/html": [
       "<div>\n",
       "        \n",
       "        \n",
       "            <div id=\"3dfaa344-23e3-4485-a7a9-c83904b5ef7b\" class=\"plotly-graph-div\" style=\"height:525px; width:100%;\"></div>\n",
       "            <script type=\"text/javascript\">\n",
       "                require([\"plotly\"], function(Plotly) {\n",
       "                    window.PLOTLYENV=window.PLOTLYENV || {};\n",
       "                    \n",
       "                if (document.getElementById(\"3dfaa344-23e3-4485-a7a9-c83904b5ef7b\")) {\n",
       "                    Plotly.newPlot(\n",
       "                        '3dfaa344-23e3-4485-a7a9-c83904b5ef7b',\n",
       "                        [{\"coloraxis\": \"coloraxis\", \"hoverlabel\": {\"namelength\": 0}, \"hovertemplate\": \"Lat=%{lat}<br>Long=%{lon}\", \"lat\": [33.0, 41.1533, 28.0339, 42.5063, -11.2027, 17.0608, -38.4161, 40.0691, -35.4735, -33.8688, -12.4634, -28.0167, -34.9285, -41.4545, -37.8136, -31.9505, 47.5162, 40.1431, 25.0343, 26.0275, 23.685, 13.1939, 53.7098, 50.8333, 13.1939, 9.3077, 27.5142, -16.2902, 43.9159, -14.235, 4.5353, 42.7339, 12.2383, 16.5388, 11.55, 3.8480000000000003, 56.1304, 6.6111, 15.4542, -35.6751, 31.8257, 40.1824, 30.0572, 26.0789, 37.8099, 23.3417, 23.8298, 26.8154, 19.1959, 39.549, 47.861999999999995, 33.882, 22.3, 30.9756, 27.6104, 44.0935, 32.9711, 27.614, 43.6661, 41.2956, 22.1667, 37.2692, 35.7452, 35.1917, 36.3427, 31.201999999999998, 37.5777, 30.6171, 39.3054, 31.6927, 41.1129, 24.974, 29.1832, 4.5709, -4.0383, -4.0383, 9.7489, 7.54, 45.1, 22.0, 35.1264, 49.8175, 61.8926, 71.7069, 56.2639, 11.8251, 15.415, 18.7357, -1.8312, 26.0, 13.7942, 1.5, 15.1794, 58.5953, -26.5225, 9.145, -17.7134, 64.0, 3.9339, -17.6797, 16.25, 14.6415, -12.8275, -20.9043, -21.1351, 17.9, 18.0708, 46.2276, -0.8037, 13.4432, 42.3154, 51.0, 7.9465, 12.1165, 39.0742, 15.7835, 9.9456, 11.8037, 5.0, 18.9712, 41.9029, 15.2, 47.1625, 64.9631, 21.0, -0.7893, 32.0, 33.0, 53.1424, 31.0, 43.0, 18.1096, 36.0, 31.24, 48.0196, -0.0236, 36.0, 29.5, 41.2044, 56.8796, 33.8547, 6.4281, 26.3351, 47.14, 55.1694, 49.8153, -18.7669, 2.5, 3.2028, 17.570692, 35.9375, 21.0079, -20.2, 23.6345, 47.4116, 43.7333, 46.8625, 42.5, 31.7917, -18.6657, -22.9576, 28.1667, 12.5186, 12.1696, 18.0425, 52.1326, -40.9006, 12.8654, 17.6078, 9.082, 41.6086, 60.472, 21.0, 30.3753, 8.538, -6.315, -23.4425, -9.19, 13.0, 51.9194, 39.3999, 25.3548, 45.9432, 60.0, -1.9403, 17.357822, 13.9094, 12.9843, 43.9424, 24.0, 14.4974, 44.0165, -4.6796, 1.2833, 48.669, 46.1512, 5.1521, -30.5595, 40.0, 7.0, 12.8628, 3.9193, 63.0, 46.8182, 34.8021, 23.7, -6.369, 15.0, -8.8742, 8.6195, 10.6918, 34.0, 38.9637, 1.0, 48.3794, 24.0, 32.3078, 19.3133, 49.3723, 36.1408, 54.2361, 16.7425, 55.3781, -32.5228, 37.0902, 41.3775, 6.4238, 16.0, -15.4167, -20.0, 31.9522, 19.856270000000002, 42.602636, 21.9162, 18.2206, 18.4207, 21.694000000000003, -22.3285, -3.3731, 8.460555000000001, 12.1784, -13.254307999999998, -51.7963, 46.8852, 6.877000000000001, 24.2155], \"lon\": [65.0, 20.1683, 1.6596, 1.5218, 17.8739, -61.7964, -63.6167, 45.0382, 149.0124, 151.2093, 130.8456, 153.4, 138.6007, 145.9707, 144.9631, 115.8605, 14.5501, 47.5769, -77.3963, 50.55, 90.3563, -59.5432, 27.9534, 4.0, -59.5432, 2.3158, 90.4336, -63.5887, 17.6791, -51.9253, 114.7277, 25.4858, -1.5616, -23.0418, 104.9167, 11.5021, -106.3468, 20.9394, 18.7322, -71.543, 117.2264, 116.4142, 107.874, 117.9874, 101.0583, 113.4244, 108.7881, 106.8748, 109.7453, 116.1306, 127.7615, 113.61399999999999, 114.2, 112.2707, 111.7088, 113.9448, 119.455, 115.7221, 126.1923, 122.6085, 113.55, 106.1655, 95.9956, 108.8701, 118.1498, 121.4491, 112.2922, 102.7103, 117.323, 88.0924, 85.2401, 101.48700000000001, 120.0934, -74.2973, 21.7587, 21.7587, -83.7534, -5.5471, 15.2, -80.0, 33.4299, 15.472999999999999, -6.9118, -42.6043, 9.5018, 42.5903, -61.371, -70.1627, -78.1834, 30.0, -88.8965, 10.0, 39.7823, 25.0136, 31.4659, 40.4897, 178.065, 26.0, -53.1258, 149.4068, -61.5833, -61.0242, 45.1662, 165.618, 55.2471, -62.8333, -63.0501, 2.2137, 11.6094, -15.3101, 43.3569, 9.0, -1.0232, -61.678999999999995, 21.8243, -90.2308, -9.6966, -15.1804, -58.75, -72.2852, 12.4534, -86.2419, 19.5033, -19.0208, 78.0, 113.9213, 53.0, 44.0, -7.6921, 35.0, 12.0, -77.2975, 138.0, 36.51, 66.9237, 37.9062, 128.0, 47.75, 74.7661, 24.6032, 35.8623, -9.4295, 17.228331, 9.55, 23.8813, 6.1296, 46.8691, 112.5, 73.2207, -3.9961660000000006, 14.3754, 10.9408, 57.5, -102.5528, 28.3699, 7.4167, 103.8467, 19.3, -7.0926, 35.5296, 18.4904, 84.25, -70.0358, -68.99, -63.0548, 5.2913, 174.886, -85.2072, 8.0817, 8.6753, 21.7453, 8.4689, 57.0, 69.3451, -80.7821, 143.9555, -58.4438, -75.0152, 122.0, 19.1451, -8.2245, 51.1839, 24.9668, 90.0, 29.8739, -62.782998, -60.9789, -61.2872, 12.4578, 45.0, -14.4524, 21.0059, 55.492, 103.8333, 19.699, 14.9955, 46.1996, 22.9375, -4.0, 81.0, 30.2176, -56.0278, 16.0, 8.2275, 38.9968, 121.0, 34.8888, 101.0, 125.7275, 0.8248, -61.2225, 9.0, 35.2433, 32.0, 31.1656, 54.0, -64.7505, -81.2546, -2.3644, -5.3536, -4.5481, -62.1874, -3.4360000000000004, -55.7658, -95.7129, 64.5853, -66.5897, 108.0, 28.2833, 30.0, 35.2332, 102.495496, 20.902977, 95.956, -63.0686, -64.64, -71.7979, 24.6849, 29.9189, -11.779889, -68.2385, 34.301525, -59.5236, -56.3159, 31.307, -12.8858], \"name\": \"\", \"radius\": [5.011356657796132, 5.011748266685654, 5.04304434377327, 5.016317037063408, 5.000424242963649, 5.0004568770377755, 5.047319407483883, 5.026792574858116, 5.003100237042047, 5.084163277173058, 5.000848485927297, 5.029566471158895, 5.013249434095488, 5.002643360004272, 5.03700704005981, 5.0147506015053205, 5.393240593228133, 5.019025665215934, 5.000881120001424, 5.0228112178146445, 5.002839164449033, 5.001794874076975, 5.018307715585144, 5.642564919557008, 5.000685315556663, 5.000130536296507, 5.005090915563783, 5.021310050404811, 5.363184610957336, 5.004372965932993, 5.0172960592872125, 5.011226121499624, 5.000195804444761, 5.00368765037633, 5.0211795141083035, 5.038508207469643, 5.039226157100432, 5.0003916088895215, 5.006592082973617, 5.003165505190301, 5.007048960011392, 5.008517493347099, 5.14205612467403, 5.000685315556663, 5.2592124507893, 5.0080932503834505, 5.000228438518888, 5.000261072593014, 5.1458743113468675, 5.032275099311421, 5.019090933364187, 5.018862494845299, 5.011389291870259, 5.004470868155374, 5.049701694895141, 5.008256420754084, 5.004731940748388, 5.005449890379178, 5.010638708165342, 5.016414939285789, 5.041608444511691, 5.02901169189874, 7.212655493946379, 5.033221487461098, 5.0037855525987105, 5.02121214818243, 5.0305454933827, 5.003165505190301, 5.004601404451881, 5.001403265187453, 5.002414921485385, 5.000554779260156, 5.008321688902338, 5.025389309670663, 5.0172960592872125, 5.004470868155374, 5.018177179288637, 5.0058414992687, 5.0, 5.002447555559511, 5.0059720355652075, 5.041184201548042, 5.048428966004195, 5.00143589926158, 5.0049930133414025, 5.014783235579448, 5.008484859272972, 5.03854084154377, 5.010410269646455, 5.014522162986433, 5.149659863945578, 5.005874133342827, 5.000326340741268, 5.1425456357859325, 5.001892776299355, 5.056913825277167, 5.118951200192244, 5.038247134876628, 5.001990678521736, 5.000489511111902, 5.000913754075551, 5.03576694524299, 5.000261072593014, 5.001370631113327, 5.000358974815395, 5.062853226768247, 5.001958044447609, 5.0013053629650726, 5.004372965932993, 5.004764574822516, 5.000554779260156, 5.011193487425498, 5.000163170370634, 5.001011656297932, 5.004829842970769, 8.029682173785345, 5.000652681482537, 5.000097902222381, 5.005645694823939, 8.267388769725073, 5.006951057789012, 5.056587484535899, 5.001958044447609, 5.003916088895218, 5.000750583704916, 5.000652681482537, 5.000195804444761, 5.00871329779186, 5.023888142260829, 5.048461600078322, 5.117058423892889, 5.074144616416126, 6.900118966033863, 5.031328711161743, 5.162941932115192, 5.275072610814933, 9.208065956430545, 5.001860142225229, 5.102405724609949, 5.011226121499624, 5.019025665215934, 5.004601404451881, 5.334042382762089, 5.018111911140383, 5.004764574822516, 5.0173613274354665, 5.017165522990705, 5.0003916088895215, 5.002480189633638, 5.026433600042721, 5.091473309777466, 5.002317019263004, 5.119473345378274, 5.000587413334283, 5.007375300752661, 5.000163170370634, 5.007375300752661, 5.061645766025555, 5.028163205971442, 5.002349653337131, 5.000424242963649, 5.006951057789012, 5.033286755609352, 5.000489511111902, 5.000261072593014, 5.002055946669989, 5.000326340741268, 5.000783217779044, 5.582518223163666, 5.033874168943635, 5.000163170370634, 5.0059720355652075, 5.007538471123294, 5.018079277066256, 5.185557345485076, 5.009692320015664, 5.102993137944232, 5.0587413334282685, 5.0, 5.003361309635062, 5.074405689009141, 5.105897570541518, 5.133832337994073, 5.3680144539281045, 5.052312420825286, 5.1260654283518905, 5.175832391395285, 5.003361309635062, 5.000424242963649, 5.000195804444761, 5.008648029643607, 5.078354411978485, 5.007212130382026, 5.062233179359838, 5.000293706667141, 5.0426853689578754, 5.015794891877379, 5.0325035378303085, 5.000195804444761, 5.053976758605754, 9.296112688424694, 5.005710962972193, 5.000358974815395, 5.000293706667141, 5.222858092212027, 5.688546330001691, 5.011813534833907, 5.000685315556663, 5.070750672706937, 5.001403265187453, 5.003361309635062, 5.018699324474666, 5.883339118464656, 5.0016643377804675, 5.042652734883749, 5.058676065280015, 5.001174826668565, 5.001109558520311, 5.010051294831059, 5.003328675560935, 5.004111893339979, 5.000163170370634, 6.56007191363244, 5.0130209955766, 16.0, 5.011128219277245, 5.005156183712037, 5.007832177790436, 5.001240094816819, 5.000261072593014, 5.000424242963649, 5.000358974815395, 5.000293706667141, 5.000587413334283, 5.0, 5.000130536296507, 5.000326340741268, 5.000554779260156, 5.007701641493928, 5.000554779260156, 5.00143589926158, 5.000293706667141, 5.000097902222381, 5.000163170370634, 5.0046993066742615, 5.000652681482537, 5.000065268148254, 5.000065268148254, 5.000130536296507, 5.000163170370634, 5.000065268148254, 5.000163170370634, 5.000032634074127, 5.000097902222381, 5.000032634074127, 5.0, 5.0, 5.000097902222381], \"subplot\": \"mapbox\", \"type\": \"densitymapbox\"}],\n",
       "                        {\"coloraxis\": {\"colorbar\": {\"title\": {}}, \"colorscale\": [[0.0, \"#0d0887\"], [0.1111111111111111, \"#46039f\"], [0.2222222222222222, \"#7201a8\"], [0.3333333333333333, \"#9c179e\"], [0.4444444444444444, \"#bd3786\"], [0.5555555555555556, \"#d8576b\"], [0.6666666666666666, \"#ed7953\"], [0.7777777777777778, \"#fb9f3a\"], [0.8888888888888888, \"#fdca26\"], [1.0, \"#f0f921\"]]}, \"legend\": {\"tracegroupgap\": 0}, \"mapbox\": {\"center\": {\"lat\": 20.310588077235767, \"lon\": 28.164991365853645}, \"domain\": {\"x\": [0.0, 1.0], \"y\": [0.0, 1.0]}, \"style\": \"open-street-map\", \"zoom\": 0}, \"margin\": {\"t\": 60}, \"template\": {\"data\": {\"bar\": [{\"error_x\": {\"color\": \"#2a3f5f\"}, \"error_y\": {\"color\": \"#2a3f5f\"}, \"marker\": {\"line\": {\"color\": \"#E5ECF6\", \"width\": 0.5}}, \"type\": \"bar\"}], \"barpolar\": [{\"marker\": {\"line\": {\"color\": \"#E5ECF6\", \"width\": 0.5}}, \"type\": \"barpolar\"}], \"carpet\": [{\"aaxis\": {\"endlinecolor\": \"#2a3f5f\", \"gridcolor\": \"white\", \"linecolor\": \"white\", \"minorgridcolor\": \"white\", \"startlinecolor\": \"#2a3f5f\"}, \"baxis\": {\"endlinecolor\": \"#2a3f5f\", \"gridcolor\": \"white\", \"linecolor\": \"white\", \"minorgridcolor\": \"white\", \"startlinecolor\": \"#2a3f5f\"}, \"type\": \"carpet\"}], \"choropleth\": [{\"colorbar\": {\"outlinewidth\": 0, \"ticks\": \"\"}, \"type\": \"choropleth\"}], \"contour\": [{\"colorbar\": {\"outlinewidth\": 0, \"ticks\": \"\"}, \"colorscale\": [[0.0, \"#0d0887\"], [0.1111111111111111, \"#46039f\"], [0.2222222222222222, \"#7201a8\"], [0.3333333333333333, \"#9c179e\"], [0.4444444444444444, \"#bd3786\"], [0.5555555555555556, \"#d8576b\"], [0.6666666666666666, \"#ed7953\"], [0.7777777777777778, \"#fb9f3a\"], [0.8888888888888888, \"#fdca26\"], [1.0, \"#f0f921\"]], \"type\": \"contour\"}], \"contourcarpet\": [{\"colorbar\": {\"outlinewidth\": 0, \"ticks\": \"\"}, \"type\": \"contourcarpet\"}], \"heatmap\": [{\"colorbar\": {\"outlinewidth\": 0, \"ticks\": \"\"}, \"colorscale\": [[0.0, \"#0d0887\"], [0.1111111111111111, \"#46039f\"], [0.2222222222222222, \"#7201a8\"], [0.3333333333333333, \"#9c179e\"], [0.4444444444444444, \"#bd3786\"], [0.5555555555555556, \"#d8576b\"], [0.6666666666666666, \"#ed7953\"], [0.7777777777777778, \"#fb9f3a\"], [0.8888888888888888, \"#fdca26\"], [1.0, \"#f0f921\"]], \"type\": \"heatmap\"}], \"heatmapgl\": [{\"colorbar\": {\"outlinewidth\": 0, \"ticks\": \"\"}, \"colorscale\": [[0.0, \"#0d0887\"], [0.1111111111111111, \"#46039f\"], [0.2222222222222222, \"#7201a8\"], [0.3333333333333333, \"#9c179e\"], [0.4444444444444444, \"#bd3786\"], [0.5555555555555556, \"#d8576b\"], [0.6666666666666666, \"#ed7953\"], [0.7777777777777778, \"#fb9f3a\"], [0.8888888888888888, \"#fdca26\"], [1.0, \"#f0f921\"]], \"type\": \"heatmapgl\"}], \"histogram\": [{\"marker\": {\"colorbar\": {\"outlinewidth\": 0, \"ticks\": \"\"}}, \"type\": \"histogram\"}], \"histogram2d\": [{\"colorbar\": {\"outlinewidth\": 0, \"ticks\": \"\"}, \"colorscale\": [[0.0, \"#0d0887\"], [0.1111111111111111, \"#46039f\"], [0.2222222222222222, \"#7201a8\"], [0.3333333333333333, \"#9c179e\"], [0.4444444444444444, \"#bd3786\"], [0.5555555555555556, \"#d8576b\"], [0.6666666666666666, \"#ed7953\"], [0.7777777777777778, \"#fb9f3a\"], [0.8888888888888888, \"#fdca26\"], [1.0, \"#f0f921\"]], \"type\": \"histogram2d\"}], \"histogram2dcontour\": [{\"colorbar\": {\"outlinewidth\": 0, \"ticks\": \"\"}, \"colorscale\": [[0.0, \"#0d0887\"], [0.1111111111111111, \"#46039f\"], [0.2222222222222222, \"#7201a8\"], [0.3333333333333333, \"#9c179e\"], [0.4444444444444444, \"#bd3786\"], [0.5555555555555556, \"#d8576b\"], [0.6666666666666666, \"#ed7953\"], [0.7777777777777778, \"#fb9f3a\"], [0.8888888888888888, \"#fdca26\"], [1.0, \"#f0f921\"]], \"type\": \"histogram2dcontour\"}], \"mesh3d\": [{\"colorbar\": {\"outlinewidth\": 0, \"ticks\": \"\"}, \"type\": \"mesh3d\"}], \"parcoords\": [{\"line\": {\"colorbar\": {\"outlinewidth\": 0, \"ticks\": \"\"}}, \"type\": \"parcoords\"}], \"pie\": [{\"automargin\": true, \"type\": \"pie\"}], \"scatter\": [{\"marker\": {\"colorbar\": {\"outlinewidth\": 0, \"ticks\": \"\"}}, \"type\": \"scatter\"}], \"scatter3d\": [{\"line\": {\"colorbar\": {\"outlinewidth\": 0, \"ticks\": \"\"}}, \"marker\": {\"colorbar\": {\"outlinewidth\": 0, \"ticks\": \"\"}}, \"type\": \"scatter3d\"}], \"scattercarpet\": [{\"marker\": {\"colorbar\": {\"outlinewidth\": 0, \"ticks\": \"\"}}, \"type\": \"scattercarpet\"}], \"scattergeo\": [{\"marker\": {\"colorbar\": {\"outlinewidth\": 0, \"ticks\": \"\"}}, \"type\": \"scattergeo\"}], \"scattergl\": [{\"marker\": {\"colorbar\": {\"outlinewidth\": 0, \"ticks\": \"\"}}, \"type\": \"scattergl\"}], \"scattermapbox\": [{\"marker\": {\"colorbar\": {\"outlinewidth\": 0, \"ticks\": \"\"}}, \"type\": \"scattermapbox\"}], \"scatterpolar\": [{\"marker\": {\"colorbar\": {\"outlinewidth\": 0, \"ticks\": \"\"}}, \"type\": \"scatterpolar\"}], \"scatterpolargl\": [{\"marker\": {\"colorbar\": {\"outlinewidth\": 0, \"ticks\": \"\"}}, \"type\": \"scatterpolargl\"}], \"scatterternary\": [{\"marker\": {\"colorbar\": {\"outlinewidth\": 0, \"ticks\": \"\"}}, \"type\": \"scatterternary\"}], \"surface\": [{\"colorbar\": {\"outlinewidth\": 0, \"ticks\": \"\"}, \"colorscale\": [[0.0, \"#0d0887\"], [0.1111111111111111, \"#46039f\"], [0.2222222222222222, \"#7201a8\"], [0.3333333333333333, \"#9c179e\"], [0.4444444444444444, \"#bd3786\"], [0.5555555555555556, \"#d8576b\"], [0.6666666666666666, \"#ed7953\"], [0.7777777777777778, \"#fb9f3a\"], [0.8888888888888888, \"#fdca26\"], [1.0, \"#f0f921\"]], \"type\": \"surface\"}], \"table\": [{\"cells\": {\"fill\": {\"color\": \"#EBF0F8\"}, \"line\": {\"color\": \"white\"}}, \"header\": {\"fill\": {\"color\": \"#C8D4E3\"}, \"line\": {\"color\": \"white\"}}, \"type\": \"table\"}]}, \"layout\": {\"annotationdefaults\": {\"arrowcolor\": \"#2a3f5f\", \"arrowhead\": 0, \"arrowwidth\": 1}, \"coloraxis\": {\"colorbar\": {\"outlinewidth\": 0, \"ticks\": \"\"}}, \"colorscale\": {\"diverging\": [[0, \"#8e0152\"], [0.1, \"#c51b7d\"], [0.2, \"#de77ae\"], [0.3, \"#f1b6da\"], [0.4, \"#fde0ef\"], [0.5, \"#f7f7f7\"], [0.6, \"#e6f5d0\"], [0.7, \"#b8e186\"], [0.8, \"#7fbc41\"], [0.9, \"#4d9221\"], [1, \"#276419\"]], \"sequential\": [[0.0, \"#0d0887\"], [0.1111111111111111, \"#46039f\"], [0.2222222222222222, \"#7201a8\"], [0.3333333333333333, \"#9c179e\"], [0.4444444444444444, \"#bd3786\"], [0.5555555555555556, \"#d8576b\"], [0.6666666666666666, \"#ed7953\"], [0.7777777777777778, \"#fb9f3a\"], [0.8888888888888888, \"#fdca26\"], [1.0, \"#f0f921\"]], \"sequentialminus\": [[0.0, \"#0d0887\"], [0.1111111111111111, \"#46039f\"], [0.2222222222222222, \"#7201a8\"], [0.3333333333333333, \"#9c179e\"], [0.4444444444444444, \"#bd3786\"], [0.5555555555555556, \"#d8576b\"], [0.6666666666666666, \"#ed7953\"], [0.7777777777777778, \"#fb9f3a\"], [0.8888888888888888, \"#fdca26\"], [1.0, \"#f0f921\"]]}, \"colorway\": [\"#636efa\", \"#EF553B\", \"#00cc96\", \"#ab63fa\", \"#FFA15A\", \"#19d3f3\", \"#FF6692\", \"#B6E880\", \"#FF97FF\", \"#FECB52\"], \"font\": {\"color\": \"#2a3f5f\"}, \"geo\": {\"bgcolor\": \"white\", \"lakecolor\": \"white\", \"landcolor\": \"#E5ECF6\", \"showlakes\": true, \"showland\": true, \"subunitcolor\": \"white\"}, \"hoverlabel\": {\"align\": \"left\"}, \"hovermode\": \"closest\", \"mapbox\": {\"style\": \"light\"}, \"paper_bgcolor\": \"white\", \"plot_bgcolor\": \"#E5ECF6\", \"polar\": {\"angularaxis\": {\"gridcolor\": \"white\", \"linecolor\": \"white\", \"ticks\": \"\"}, \"bgcolor\": \"#E5ECF6\", \"radialaxis\": {\"gridcolor\": \"white\", \"linecolor\": \"white\", \"ticks\": \"\"}}, \"scene\": {\"xaxis\": {\"backgroundcolor\": \"#E5ECF6\", \"gridcolor\": \"white\", \"gridwidth\": 2, \"linecolor\": \"white\", \"showbackground\": true, \"ticks\": \"\", \"zerolinecolor\": \"white\"}, \"yaxis\": {\"backgroundcolor\": \"#E5ECF6\", \"gridcolor\": \"white\", \"gridwidth\": 2, \"linecolor\": \"white\", \"showbackground\": true, \"ticks\": \"\", \"zerolinecolor\": \"white\"}, \"zaxis\": {\"backgroundcolor\": \"#E5ECF6\", \"gridcolor\": \"white\", \"gridwidth\": 2, \"linecolor\": \"white\", \"showbackground\": true, \"ticks\": \"\", \"zerolinecolor\": \"white\"}}, \"shapedefaults\": {\"line\": {\"color\": \"#2a3f5f\"}}, \"ternary\": {\"aaxis\": {\"gridcolor\": \"white\", \"linecolor\": \"white\", \"ticks\": \"\"}, \"baxis\": {\"gridcolor\": \"white\", \"linecolor\": \"white\", \"ticks\": \"\"}, \"bgcolor\": \"#E5ECF6\", \"caxis\": {\"gridcolor\": \"white\", \"linecolor\": \"white\", \"ticks\": \"\"}}, \"title\": {\"x\": 0.05}, \"xaxis\": {\"automargin\": true, \"gridcolor\": \"white\", \"linecolor\": \"white\", \"ticks\": \"\", \"title\": {\"standoff\": 15}, \"zerolinecolor\": \"white\", \"zerolinewidth\": 2}, \"yaxis\": {\"automargin\": true, \"gridcolor\": \"white\", \"linecolor\": \"white\", \"ticks\": \"\", \"title\": {\"standoff\": 15}, \"zerolinecolor\": \"white\", \"zerolinewidth\": 2}}}},\n",
       "                        {\"responsive\": true}\n",
       "                    ).then(function(){\n",
       "                            \n",
       "var gd = document.getElementById('3dfaa344-23e3-4485-a7a9-c83904b5ef7b');\n",
       "var x = new MutationObserver(function (mutations, observer) {{\n",
       "        var display = window.getComputedStyle(gd).display;\n",
       "        if (!display || display === 'none') {{\n",
       "            console.log([gd, 'removed!']);\n",
       "            Plotly.purge(gd);\n",
       "            observer.disconnect();\n",
       "        }}\n",
       "}});\n",
       "\n",
       "// Listen for the removal of the full notebook cells\n",
       "var notebookContainer = gd.closest('#notebook-container');\n",
       "if (notebookContainer) {{\n",
       "    x.observe(notebookContainer, {childList: true});\n",
       "}}\n",
       "\n",
       "// Listen for the clearing of the current output cell\n",
       "var outputEl = gd.closest('.output');\n",
       "if (outputEl) {{\n",
       "    x.observe(outputEl, {childList: true});\n",
       "}}\n",
       "\n",
       "                        })\n",
       "                };\n",
       "                });\n",
       "            </script>\n",
       "        </div>"
      ]
     },
     "metadata": {},
     "output_type": "display_data"
    }
   ],
   "source": [
    "fig = px.density_mapbox(geo_recovered,lat = 'Lat',lon = 'Long',radius = circle_radius,zoom=0,mapbox_style='open-street-map')\n",
    "\n",
    "fig.show()"
   ]
  },
  {
   "cell_type": "markdown",
   "metadata": {},
   "source": [
    "# Death World Map"
   ]
  },
  {
   "cell_type": "code",
   "execution_count": 171,
   "metadata": {},
   "outputs": [
    {
     "data": {
      "application/vnd.plotly.v1+json": {
       "config": {
        "plotlyServerURL": "https://plot.ly"
       },
       "data": [
        {
         "coloraxis": "coloraxis",
         "hoverlabel": {
          "namelength": 0
         },
         "hovertemplate": "Lat=%{lat}<br>Long=%{lon}",
         "lat": [
          33,
          41.1533,
          28.0339,
          42.5063,
          -11.2027,
          17.0608,
          -38.4161,
          40.0691,
          -35.4735,
          -33.8688,
          -12.4634,
          -28.0167,
          -34.9285,
          -41.4545,
          -37.8136,
          -31.9505,
          47.5162,
          40.1431,
          25.0343,
          26.0275,
          23.685,
          13.1939,
          53.7098,
          50.8333,
          9.3077,
          27.5142,
          -16.2902,
          43.9159,
          -14.235,
          4.5353,
          42.7339,
          12.2383,
          16.5388,
          11.55,
          3.8480000000000003,
          53.9333,
          49.2827,
          37.6489,
          53.7609,
          46.5653,
          53.1355,
          44.681999999999995,
          51.2538,
          46.5107,
          52.9399,
          52.9399,
          6.6111,
          15.4542,
          -35.6751,
          31.8257,
          40.1824,
          30.0572,
          26.0789,
          37.8099,
          23.3417,
          23.8298,
          26.8154,
          19.1959,
          39.549,
          47.861999999999995,
          33.882,
          22.3,
          30.9756,
          27.6104,
          44.0935,
          32.9711,
          27.614,
          43.6661,
          41.2956,
          22.1667,
          37.2692,
          35.7452,
          35.1917,
          36.3427,
          31.201999999999998,
          37.5777,
          30.6171,
          39.3054,
          31.6927,
          41.1129,
          24.974,
          29.1832,
          4.5709,
          -4.0383,
          -4.0383,
          9.7489,
          7.54,
          45.1,
          22,
          35.1264,
          49.8175,
          61.8926,
          71.7069,
          56.2639,
          11.8251,
          18.7357,
          -1.8312,
          26,
          13.7942,
          1.5,
          15.1794,
          58.5953,
          -26.5225,
          9.145,
          -17.7134,
          64,
          3.9339,
          -17.6797,
          16.25,
          -12.8275,
          -20.9043,
          -21.1351,
          17.9,
          18.0708,
          14.6415,
          46.2276,
          -0.8037,
          13.4432,
          42.3154,
          51,
          7.9465,
          39.0742,
          15.7835,
          9.9456,
          5,
          18.9712,
          41.9029,
          15.2,
          47.1625,
          64.9631,
          21,
          -0.7893,
          32,
          33,
          53.1424,
          31,
          43,
          18.1096,
          36,
          31.24,
          48.0196,
          -0.0236,
          36,
          29.5,
          41.2044,
          56.8796,
          33.8547,
          6.4281,
          47.14,
          55.1694,
          49.8153,
          -18.7669,
          2.5,
          3.2028,
          35.9375,
          21.0079,
          -20.2,
          23.6345,
          47.4116,
          43.7333,
          46.8625,
          42.5,
          31.7917,
          -22.9576,
          28.1667,
          12.5186,
          12.1696,
          18.0425,
          52.1326,
          -40.9006,
          12.8654,
          17.6078,
          9.082,
          41.6086,
          60.472,
          21,
          30.3753,
          8.538,
          -6.315,
          -23.4425,
          -9.19,
          13,
          51.9194,
          39.3999,
          25.3548,
          45.9432,
          60,
          -1.9403,
          13.9094,
          12.9843,
          43.9424,
          24,
          14.4974,
          44.0165,
          -4.6796,
          1.2833,
          48.669,
          46.1512,
          5.1521,
          -30.5595,
          40,
          7,
          12.8628,
          3.9193,
          63,
          46.8182,
          23.7,
          -6.369,
          15,
          8.6195,
          10.6918,
          34,
          38.9637,
          1,
          48.3794,
          24,
          32.3078,
          19.3133,
          49.3723,
          36.1408,
          54.2361,
          16.7425,
          55.3781,
          -32.5228,
          37.0902,
          41.3775,
          6.4238,
          16,
          -15.4167,
          -20,
          15.415,
          12.1165,
          -18.665695,
          34.802075,
          -8.874217,
          13.1939,
          19.856270000000002,
          26.3351,
          31.9522,
          11.8037,
          17.570692,
          17.357822,
          64.8255,
          64.2823,
          42.602636,
          21.9162,
          18.2206,
          18.4207,
          21.694000000000003,
          -22.3285,
          -3.3731,
          8.460555000000001,
          12.1784,
          -13.254307999999998,
          -51.7963,
          46.8852,
          6.877000000000001,
          24.2155
         ],
         "lon": [
          65,
          20.1683,
          1.6596,
          1.5218,
          17.8739,
          -61.7964,
          -63.6167,
          45.0382,
          149.0124,
          151.2093,
          130.8456,
          153.4,
          138.6007,
          145.9707,
          144.9631,
          115.8605,
          14.5501,
          47.5769,
          -77.3963,
          50.55,
          90.3563,
          -59.5432,
          27.9534,
          4,
          2.3158,
          90.4336,
          -63.5887,
          17.6791,
          -51.9253,
          114.7277,
          25.4858,
          -1.5616,
          -23.0418,
          104.9167,
          11.5021,
          -116.5765,
          -123.1207,
          -122.6655,
          -98.8139,
          -66.4619,
          -57.6604,
          -63.7443,
          -85.3232,
          -63.4168,
          -73.5491,
          -106.4509,
          20.9394,
          18.7322,
          -71.543,
          117.2264,
          116.4142,
          107.874,
          117.9874,
          101.0583,
          113.4244,
          108.7881,
          106.8748,
          109.7453,
          116.1306,
          127.7615,
          113.61399999999999,
          114.2,
          112.2707,
          111.7088,
          113.9448,
          119.455,
          115.7221,
          126.1923,
          122.6085,
          113.55,
          106.1655,
          95.9956,
          108.8701,
          118.1498,
          121.4491,
          112.2922,
          102.7103,
          117.323,
          88.0924,
          85.2401,
          101.48700000000001,
          120.0934,
          -74.2973,
          21.7587,
          21.7587,
          -83.7534,
          -5.5471,
          15.2,
          -80,
          33.4299,
          15.472999999999999,
          -6.9118,
          -42.6043,
          9.5018,
          42.5903,
          -70.1627,
          -78.1834,
          30,
          -88.8965,
          10,
          39.7823,
          25.0136,
          31.4659,
          40.4897,
          178.065,
          26,
          -53.1258,
          149.4068,
          -61.5833,
          45.1662,
          165.618,
          55.2471,
          -62.8333,
          -63.0501,
          -61.0242,
          2.2137,
          11.6094,
          -15.3101,
          43.3569,
          9,
          -1.0232,
          21.8243,
          -90.2308,
          -9.6966,
          -58.75,
          -72.2852,
          12.4534,
          -86.2419,
          19.5033,
          -19.0208,
          78,
          113.9213,
          53,
          44,
          -7.6921,
          35,
          12,
          -77.2975,
          138,
          36.51,
          66.9237,
          37.9062,
          128,
          47.75,
          74.7661,
          24.6032,
          35.8623,
          -9.4295,
          9.55,
          23.8813,
          6.1296,
          46.8691,
          112.5,
          73.2207,
          14.3754,
          10.9408,
          57.5,
          -102.5528,
          28.3699,
          7.4167,
          103.8467,
          19.3,
          -7.0926,
          18.4904,
          84.25,
          -70.0358,
          -68.99,
          -63.0548,
          5.2913,
          174.886,
          -85.2072,
          8.0817,
          8.6753,
          21.7453,
          8.4689,
          57,
          69.3451,
          -80.7821,
          143.9555,
          -58.4438,
          -75.0152,
          122,
          19.1451,
          -8.2245,
          51.1839,
          24.9668,
          90,
          29.8739,
          -60.9789,
          -61.2872,
          12.4578,
          45,
          -14.4524,
          21.0059,
          55.492,
          103.8333,
          19.699,
          14.9955,
          46.1996,
          22.9375,
          -4,
          81,
          30.2176,
          -56.0278,
          16,
          8.2275,
          121,
          34.8888,
          101,
          0.8248,
          -61.2225,
          9,
          35.2433,
          32,
          31.1656,
          54,
          -64.7505,
          -81.2546,
          -2.3644,
          -5.3536,
          -4.5481,
          -62.1874,
          -3.4360000000000004,
          -55.7658,
          -95.7129,
          64.5853,
          -66.5897,
          108,
          28.2833,
          30,
          -61.371,
          -61.678999999999995,
          35.529562,
          38.996815000000005,
          125.727539,
          -59.5432,
          102.495496,
          17.228331,
          35.2332,
          -15.1804,
          -3.9961660000000006,
          -62.782998,
          -124.8457,
          -135,
          20.902977,
          95.956,
          -63.0686,
          -64.64,
          -71.7979,
          24.6849,
          29.9189,
          -11.779889,
          -68.2385,
          34.301525,
          -59.5236,
          -56.3159,
          31.307,
          -12.8858
         ],
         "name": "",
         "radius": [
          5.011356657796132,
          5.011748266685654,
          5.04304434377327,
          5.016317037063408,
          5.000424242963649,
          5.0004568770377755,
          5.047319407483883,
          5.026792574858116,
          5.003100237042047,
          5.084163277173058,
          5.000848485927297,
          5.029566471158895,
          5.013249434095488,
          5.002643360004272,
          5.03700704005981,
          5.0147506015053205,
          5.393240593228133,
          5.019025665215934,
          5.000881120001424,
          5.0228112178146445,
          5.002839164449033,
          5.001794874076975,
          5.018307715585144,
          5.642564919557008,
          5.000685315556663,
          5.000130536296507,
          5.005090915563783,
          5.021310050404811,
          5.363184610957336,
          5.004372965932993,
          5.0172960592872125,
          5.011226121499624,
          5.000195804444761,
          5.00368765037633,
          5.0211795141083035,
          5.038508207469643,
          5.039226157100432,
          5.0003916088895215,
          5.006592082973617,
          5.003165505190301,
          5.007048960011392,
          5.008517493347099,
          5.14205612467403,
          5.000685315556663,
          5.2592124507893,
          5.0080932503834505,
          5.000228438518888,
          5.000261072593014,
          5.1458743113468675,
          5.032275099311421,
          5.019090933364187,
          5.018862494845299,
          5.011389291870259,
          5.004470868155374,
          5.049701694895141,
          5.008256420754084,
          5.004731940748388,
          5.005449890379178,
          5.010638708165342,
          5.016414939285789,
          5.041608444511691,
          5.02901169189874,
          7.212655493946379,
          5.033221487461098,
          5.0037855525987105,
          5.02121214818243,
          5.0305454933827,
          5.003165505190301,
          5.004601404451881,
          5.001403265187453,
          5.002414921485385,
          5.000554779260156,
          5.008321688902338,
          5.025389309670663,
          5.0172960592872125,
          5.004470868155374,
          5.018177179288637,
          5.0058414992687,
          5,
          5.002447555559511,
          5.0059720355652075,
          5.041184201548042,
          5.048428966004195,
          5.00143589926158,
          5.0049930133414025,
          5.014783235579448,
          5.008484859272972,
          5.03854084154377,
          5.010410269646455,
          5.014522162986433,
          5.149659863945578,
          5.005874133342827,
          5.000326340741268,
          5.1425456357859325,
          5.001892776299355,
          5.056913825277167,
          5.118951200192244,
          5.038247134876628,
          5.001990678521736,
          5.000489511111902,
          5.000913754075551,
          5.03576694524299,
          5.000261072593014,
          5.001370631113327,
          5.000358974815395,
          5.062853226768247,
          5.001958044447609,
          5.0013053629650726,
          5.004372965932993,
          5.004764574822516,
          5.000554779260156,
          5.011193487425498,
          5.000163170370634,
          5.001011656297932,
          5.004829842970769,
          8.029682173785345,
          5.000652681482537,
          5.000097902222381,
          5.005645694823939,
          8.267388769725073,
          5.006951057789012,
          5.056587484535899,
          5.001958044447609,
          5.003916088895218,
          5.000750583704916,
          5.000652681482537,
          5.000195804444761,
          5.00871329779186,
          5.023888142260829,
          5.048461600078322,
          5.117058423892889,
          5.074144616416126,
          6.900118966033863,
          5.031328711161743,
          5.162941932115192,
          5.275072610814933,
          9.208065956430545,
          5.001860142225229,
          5.102405724609949,
          5.011226121499624,
          5.019025665215934,
          5.004601404451881,
          5.334042382762089,
          5.018111911140383,
          5.004764574822516,
          5.0173613274354665,
          5.017165522990705,
          5.0003916088895215,
          5.002480189633638,
          5.026433600042721,
          5.091473309777466,
          5.002317019263004,
          5.119473345378274,
          5.000587413334283,
          5.007375300752661,
          5.000163170370634,
          5.007375300752661,
          5.061645766025555,
          5.028163205971442,
          5.002349653337131,
          5.000424242963649,
          5.006951057789012,
          5.033286755609352,
          5.000489511111902,
          5.000261072593014,
          5.002055946669989,
          5.000326340741268,
          5.000783217779044,
          5.582518223163666,
          5.033874168943635,
          5.000163170370634,
          5.0059720355652075,
          5.007538471123294,
          5.018079277066256,
          5.185557345485076,
          5.009692320015664,
          5.102993137944232,
          5.0587413334282685,
          5,
          5.003361309635062,
          5.074405689009141,
          5.105897570541518,
          5.133832337994073,
          5.3680144539281045,
          5.052312420825286,
          5.1260654283518905,
          5.175832391395285,
          5.003361309635062,
          5.000424242963649,
          5.000195804444761,
          5.008648029643607,
          5.078354411978485,
          5.007212130382026,
          5.062233179359838,
          5.000293706667141,
          5.0426853689578754,
          5.015794891877379,
          5.0325035378303085,
          5.000195804444761,
          5.053976758605754,
          9.296112688424694,
          5.005710962972193,
          5.000358974815395,
          5.000293706667141,
          5.222858092212027,
          5.688546330001691,
          5.011813534833907,
          5.000685315556663,
          5.070750672706937,
          5.001403265187453,
          5.003361309635062,
          5.018699324474666,
          5.883339118464656,
          5.0016643377804675,
          5.042652734883749,
          5.058676065280015,
          5.001174826668565,
          5.001109558520311,
          5.010051294831059,
          5.003328675560935,
          5.004111893339979,
          5.000163170370634,
          6.56007191363244,
          5.0130209955766,
          16,
          5.011128219277245,
          5.005156183712037,
          5.007832177790436,
          5.001240094816819,
          5.000261072593014,
          5.000424242963649,
          5.000358974815395,
          5.000293706667141,
          5.000587413334283,
          5,
          5.000130536296507,
          5.000326340741268,
          5.000554779260156,
          5.007701641493928,
          5.000554779260156,
          5.00143589926158,
          5.000293706667141,
          5.000097902222381,
          5.000163170370634,
          5.0046993066742615,
          5.000652681482537,
          5.000065268148254,
          5.000065268148254,
          5.000130536296507,
          5.000163170370634,
          5.000065268148254,
          5.000163170370634,
          5.000032634074127,
          5.000097902222381,
          5.000032634074127,
          5,
          5,
          5.000097902222381
         ],
         "subplot": "mapbox",
         "type": "densitymapbox"
        }
       ],
       "layout": {
        "coloraxis": {
         "colorbar": {
          "title": {}
         },
         "colorscale": [
          [
           0,
           "#0d0887"
          ],
          [
           0.1111111111111111,
           "#46039f"
          ],
          [
           0.2222222222222222,
           "#7201a8"
          ],
          [
           0.3333333333333333,
           "#9c179e"
          ],
          [
           0.4444444444444444,
           "#bd3786"
          ],
          [
           0.5555555555555556,
           "#d8576b"
          ],
          [
           0.6666666666666666,
           "#ed7953"
          ],
          [
           0.7777777777777778,
           "#fb9f3a"
          ],
          [
           0.8888888888888888,
           "#fdca26"
          ],
          [
           1,
           "#f0f921"
          ]
         ]
        },
        "legend": {
         "tracegroupgap": 0
        },
        "mapbox": {
         "center": {
          "lat": 21.75207337209302,
          "lon": 22.470177488372087
         },
         "domain": {
          "x": [
           0,
           1
          ],
          "y": [
           0,
           1
          ]
         },
         "style": "carto-darkmatter",
         "zoom": 0
        },
        "margin": {
         "t": 60
        },
        "template": {
         "data": {
          "bar": [
           {
            "error_x": {
             "color": "#2a3f5f"
            },
            "error_y": {
             "color": "#2a3f5f"
            },
            "marker": {
             "line": {
              "color": "#E5ECF6",
              "width": 0.5
             }
            },
            "type": "bar"
           }
          ],
          "barpolar": [
           {
            "marker": {
             "line": {
              "color": "#E5ECF6",
              "width": 0.5
             }
            },
            "type": "barpolar"
           }
          ],
          "carpet": [
           {
            "aaxis": {
             "endlinecolor": "#2a3f5f",
             "gridcolor": "white",
             "linecolor": "white",
             "minorgridcolor": "white",
             "startlinecolor": "#2a3f5f"
            },
            "baxis": {
             "endlinecolor": "#2a3f5f",
             "gridcolor": "white",
             "linecolor": "white",
             "minorgridcolor": "white",
             "startlinecolor": "#2a3f5f"
            },
            "type": "carpet"
           }
          ],
          "choropleth": [
           {
            "colorbar": {
             "outlinewidth": 0,
             "ticks": ""
            },
            "type": "choropleth"
           }
          ],
          "contour": [
           {
            "colorbar": {
             "outlinewidth": 0,
             "ticks": ""
            },
            "colorscale": [
             [
              0,
              "#0d0887"
             ],
             [
              0.1111111111111111,
              "#46039f"
             ],
             [
              0.2222222222222222,
              "#7201a8"
             ],
             [
              0.3333333333333333,
              "#9c179e"
             ],
             [
              0.4444444444444444,
              "#bd3786"
             ],
             [
              0.5555555555555556,
              "#d8576b"
             ],
             [
              0.6666666666666666,
              "#ed7953"
             ],
             [
              0.7777777777777778,
              "#fb9f3a"
             ],
             [
              0.8888888888888888,
              "#fdca26"
             ],
             [
              1,
              "#f0f921"
             ]
            ],
            "type": "contour"
           }
          ],
          "contourcarpet": [
           {
            "colorbar": {
             "outlinewidth": 0,
             "ticks": ""
            },
            "type": "contourcarpet"
           }
          ],
          "heatmap": [
           {
            "colorbar": {
             "outlinewidth": 0,
             "ticks": ""
            },
            "colorscale": [
             [
              0,
              "#0d0887"
             ],
             [
              0.1111111111111111,
              "#46039f"
             ],
             [
              0.2222222222222222,
              "#7201a8"
             ],
             [
              0.3333333333333333,
              "#9c179e"
             ],
             [
              0.4444444444444444,
              "#bd3786"
             ],
             [
              0.5555555555555556,
              "#d8576b"
             ],
             [
              0.6666666666666666,
              "#ed7953"
             ],
             [
              0.7777777777777778,
              "#fb9f3a"
             ],
             [
              0.8888888888888888,
              "#fdca26"
             ],
             [
              1,
              "#f0f921"
             ]
            ],
            "type": "heatmap"
           }
          ],
          "heatmapgl": [
           {
            "colorbar": {
             "outlinewidth": 0,
             "ticks": ""
            },
            "colorscale": [
             [
              0,
              "#0d0887"
             ],
             [
              0.1111111111111111,
              "#46039f"
             ],
             [
              0.2222222222222222,
              "#7201a8"
             ],
             [
              0.3333333333333333,
              "#9c179e"
             ],
             [
              0.4444444444444444,
              "#bd3786"
             ],
             [
              0.5555555555555556,
              "#d8576b"
             ],
             [
              0.6666666666666666,
              "#ed7953"
             ],
             [
              0.7777777777777778,
              "#fb9f3a"
             ],
             [
              0.8888888888888888,
              "#fdca26"
             ],
             [
              1,
              "#f0f921"
             ]
            ],
            "type": "heatmapgl"
           }
          ],
          "histogram": [
           {
            "marker": {
             "colorbar": {
              "outlinewidth": 0,
              "ticks": ""
             }
            },
            "type": "histogram"
           }
          ],
          "histogram2d": [
           {
            "colorbar": {
             "outlinewidth": 0,
             "ticks": ""
            },
            "colorscale": [
             [
              0,
              "#0d0887"
             ],
             [
              0.1111111111111111,
              "#46039f"
             ],
             [
              0.2222222222222222,
              "#7201a8"
             ],
             [
              0.3333333333333333,
              "#9c179e"
             ],
             [
              0.4444444444444444,
              "#bd3786"
             ],
             [
              0.5555555555555556,
              "#d8576b"
             ],
             [
              0.6666666666666666,
              "#ed7953"
             ],
             [
              0.7777777777777778,
              "#fb9f3a"
             ],
             [
              0.8888888888888888,
              "#fdca26"
             ],
             [
              1,
              "#f0f921"
             ]
            ],
            "type": "histogram2d"
           }
          ],
          "histogram2dcontour": [
           {
            "colorbar": {
             "outlinewidth": 0,
             "ticks": ""
            },
            "colorscale": [
             [
              0,
              "#0d0887"
             ],
             [
              0.1111111111111111,
              "#46039f"
             ],
             [
              0.2222222222222222,
              "#7201a8"
             ],
             [
              0.3333333333333333,
              "#9c179e"
             ],
             [
              0.4444444444444444,
              "#bd3786"
             ],
             [
              0.5555555555555556,
              "#d8576b"
             ],
             [
              0.6666666666666666,
              "#ed7953"
             ],
             [
              0.7777777777777778,
              "#fb9f3a"
             ],
             [
              0.8888888888888888,
              "#fdca26"
             ],
             [
              1,
              "#f0f921"
             ]
            ],
            "type": "histogram2dcontour"
           }
          ],
          "mesh3d": [
           {
            "colorbar": {
             "outlinewidth": 0,
             "ticks": ""
            },
            "type": "mesh3d"
           }
          ],
          "parcoords": [
           {
            "line": {
             "colorbar": {
              "outlinewidth": 0,
              "ticks": ""
             }
            },
            "type": "parcoords"
           }
          ],
          "pie": [
           {
            "automargin": true,
            "type": "pie"
           }
          ],
          "scatter": [
           {
            "marker": {
             "colorbar": {
              "outlinewidth": 0,
              "ticks": ""
             }
            },
            "type": "scatter"
           }
          ],
          "scatter3d": [
           {
            "line": {
             "colorbar": {
              "outlinewidth": 0,
              "ticks": ""
             }
            },
            "marker": {
             "colorbar": {
              "outlinewidth": 0,
              "ticks": ""
             }
            },
            "type": "scatter3d"
           }
          ],
          "scattercarpet": [
           {
            "marker": {
             "colorbar": {
              "outlinewidth": 0,
              "ticks": ""
             }
            },
            "type": "scattercarpet"
           }
          ],
          "scattergeo": [
           {
            "marker": {
             "colorbar": {
              "outlinewidth": 0,
              "ticks": ""
             }
            },
            "type": "scattergeo"
           }
          ],
          "scattergl": [
           {
            "marker": {
             "colorbar": {
              "outlinewidth": 0,
              "ticks": ""
             }
            },
            "type": "scattergl"
           }
          ],
          "scattermapbox": [
           {
            "marker": {
             "colorbar": {
              "outlinewidth": 0,
              "ticks": ""
             }
            },
            "type": "scattermapbox"
           }
          ],
          "scatterpolar": [
           {
            "marker": {
             "colorbar": {
              "outlinewidth": 0,
              "ticks": ""
             }
            },
            "type": "scatterpolar"
           }
          ],
          "scatterpolargl": [
           {
            "marker": {
             "colorbar": {
              "outlinewidth": 0,
              "ticks": ""
             }
            },
            "type": "scatterpolargl"
           }
          ],
          "scatterternary": [
           {
            "marker": {
             "colorbar": {
              "outlinewidth": 0,
              "ticks": ""
             }
            },
            "type": "scatterternary"
           }
          ],
          "surface": [
           {
            "colorbar": {
             "outlinewidth": 0,
             "ticks": ""
            },
            "colorscale": [
             [
              0,
              "#0d0887"
             ],
             [
              0.1111111111111111,
              "#46039f"
             ],
             [
              0.2222222222222222,
              "#7201a8"
             ],
             [
              0.3333333333333333,
              "#9c179e"
             ],
             [
              0.4444444444444444,
              "#bd3786"
             ],
             [
              0.5555555555555556,
              "#d8576b"
             ],
             [
              0.6666666666666666,
              "#ed7953"
             ],
             [
              0.7777777777777778,
              "#fb9f3a"
             ],
             [
              0.8888888888888888,
              "#fdca26"
             ],
             [
              1,
              "#f0f921"
             ]
            ],
            "type": "surface"
           }
          ],
          "table": [
           {
            "cells": {
             "fill": {
              "color": "#EBF0F8"
             },
             "line": {
              "color": "white"
             }
            },
            "header": {
             "fill": {
              "color": "#C8D4E3"
             },
             "line": {
              "color": "white"
             }
            },
            "type": "table"
           }
          ]
         },
         "layout": {
          "annotationdefaults": {
           "arrowcolor": "#2a3f5f",
           "arrowhead": 0,
           "arrowwidth": 1
          },
          "coloraxis": {
           "colorbar": {
            "outlinewidth": 0,
            "ticks": ""
           }
          },
          "colorscale": {
           "diverging": [
            [
             0,
             "#8e0152"
            ],
            [
             0.1,
             "#c51b7d"
            ],
            [
             0.2,
             "#de77ae"
            ],
            [
             0.3,
             "#f1b6da"
            ],
            [
             0.4,
             "#fde0ef"
            ],
            [
             0.5,
             "#f7f7f7"
            ],
            [
             0.6,
             "#e6f5d0"
            ],
            [
             0.7,
             "#b8e186"
            ],
            [
             0.8,
             "#7fbc41"
            ],
            [
             0.9,
             "#4d9221"
            ],
            [
             1,
             "#276419"
            ]
           ],
           "sequential": [
            [
             0,
             "#0d0887"
            ],
            [
             0.1111111111111111,
             "#46039f"
            ],
            [
             0.2222222222222222,
             "#7201a8"
            ],
            [
             0.3333333333333333,
             "#9c179e"
            ],
            [
             0.4444444444444444,
             "#bd3786"
            ],
            [
             0.5555555555555556,
             "#d8576b"
            ],
            [
             0.6666666666666666,
             "#ed7953"
            ],
            [
             0.7777777777777778,
             "#fb9f3a"
            ],
            [
             0.8888888888888888,
             "#fdca26"
            ],
            [
             1,
             "#f0f921"
            ]
           ],
           "sequentialminus": [
            [
             0,
             "#0d0887"
            ],
            [
             0.1111111111111111,
             "#46039f"
            ],
            [
             0.2222222222222222,
             "#7201a8"
            ],
            [
             0.3333333333333333,
             "#9c179e"
            ],
            [
             0.4444444444444444,
             "#bd3786"
            ],
            [
             0.5555555555555556,
             "#d8576b"
            ],
            [
             0.6666666666666666,
             "#ed7953"
            ],
            [
             0.7777777777777778,
             "#fb9f3a"
            ],
            [
             0.8888888888888888,
             "#fdca26"
            ],
            [
             1,
             "#f0f921"
            ]
           ]
          },
          "colorway": [
           "#636efa",
           "#EF553B",
           "#00cc96",
           "#ab63fa",
           "#FFA15A",
           "#19d3f3",
           "#FF6692",
           "#B6E880",
           "#FF97FF",
           "#FECB52"
          ],
          "font": {
           "color": "#2a3f5f"
          },
          "geo": {
           "bgcolor": "white",
           "lakecolor": "white",
           "landcolor": "#E5ECF6",
           "showlakes": true,
           "showland": true,
           "subunitcolor": "white"
          },
          "hoverlabel": {
           "align": "left"
          },
          "hovermode": "closest",
          "mapbox": {
           "style": "light"
          },
          "paper_bgcolor": "white",
          "plot_bgcolor": "#E5ECF6",
          "polar": {
           "angularaxis": {
            "gridcolor": "white",
            "linecolor": "white",
            "ticks": ""
           },
           "bgcolor": "#E5ECF6",
           "radialaxis": {
            "gridcolor": "white",
            "linecolor": "white",
            "ticks": ""
           }
          },
          "scene": {
           "xaxis": {
            "backgroundcolor": "#E5ECF6",
            "gridcolor": "white",
            "gridwidth": 2,
            "linecolor": "white",
            "showbackground": true,
            "ticks": "",
            "zerolinecolor": "white"
           },
           "yaxis": {
            "backgroundcolor": "#E5ECF6",
            "gridcolor": "white",
            "gridwidth": 2,
            "linecolor": "white",
            "showbackground": true,
            "ticks": "",
            "zerolinecolor": "white"
           },
           "zaxis": {
            "backgroundcolor": "#E5ECF6",
            "gridcolor": "white",
            "gridwidth": 2,
            "linecolor": "white",
            "showbackground": true,
            "ticks": "",
            "zerolinecolor": "white"
           }
          },
          "shapedefaults": {
           "line": {
            "color": "#2a3f5f"
           }
          },
          "ternary": {
           "aaxis": {
            "gridcolor": "white",
            "linecolor": "white",
            "ticks": ""
           },
           "baxis": {
            "gridcolor": "white",
            "linecolor": "white",
            "ticks": ""
           },
           "bgcolor": "#E5ECF6",
           "caxis": {
            "gridcolor": "white",
            "linecolor": "white",
            "ticks": ""
           }
          },
          "title": {
           "x": 0.05
          },
          "xaxis": {
           "automargin": true,
           "gridcolor": "white",
           "linecolor": "white",
           "ticks": "",
           "title": {
            "standoff": 15
           },
           "zerolinecolor": "white",
           "zerolinewidth": 2
          },
          "yaxis": {
           "automargin": true,
           "gridcolor": "white",
           "linecolor": "white",
           "ticks": "",
           "title": {
            "standoff": 15
           },
           "zerolinecolor": "white",
           "zerolinewidth": 2
          }
         }
        }
       }
      },
      "text/html": [
       "<div>\n",
       "        \n",
       "        \n",
       "            <div id=\"ed106b1b-dde8-4e36-95b1-d71fce2f54b4\" class=\"plotly-graph-div\" style=\"height:525px; width:100%;\"></div>\n",
       "            <script type=\"text/javascript\">\n",
       "                require([\"plotly\"], function(Plotly) {\n",
       "                    window.PLOTLYENV=window.PLOTLYENV || {};\n",
       "                    \n",
       "                if (document.getElementById(\"ed106b1b-dde8-4e36-95b1-d71fce2f54b4\")) {\n",
       "                    Plotly.newPlot(\n",
       "                        'ed106b1b-dde8-4e36-95b1-d71fce2f54b4',\n",
       "                        [{\"coloraxis\": \"coloraxis\", \"hoverlabel\": {\"namelength\": 0}, \"hovertemplate\": \"Lat=%{lat}<br>Long=%{lon}\", \"lat\": [33.0, 41.1533, 28.0339, 42.5063, -11.2027, 17.0608, -38.4161, 40.0691, -35.4735, -33.8688, -12.4634, -28.0167, -34.9285, -41.4545, -37.8136, -31.9505, 47.5162, 40.1431, 25.0343, 26.0275, 23.685, 13.1939, 53.7098, 50.8333, 9.3077, 27.5142, -16.2902, 43.9159, -14.235, 4.5353, 42.7339, 12.2383, 16.5388, 11.55, 3.8480000000000003, 53.9333, 49.2827, 37.6489, 53.7609, 46.5653, 53.1355, 44.681999999999995, 51.2538, 46.5107, 52.9399, 52.9399, 6.6111, 15.4542, -35.6751, 31.8257, 40.1824, 30.0572, 26.0789, 37.8099, 23.3417, 23.8298, 26.8154, 19.1959, 39.549, 47.861999999999995, 33.882, 22.3, 30.9756, 27.6104, 44.0935, 32.9711, 27.614, 43.6661, 41.2956, 22.1667, 37.2692, 35.7452, 35.1917, 36.3427, 31.201999999999998, 37.5777, 30.6171, 39.3054, 31.6927, 41.1129, 24.974, 29.1832, 4.5709, -4.0383, -4.0383, 9.7489, 7.54, 45.1, 22.0, 35.1264, 49.8175, 61.8926, 71.7069, 56.2639, 11.8251, 18.7357, -1.8312, 26.0, 13.7942, 1.5, 15.1794, 58.5953, -26.5225, 9.145, -17.7134, 64.0, 3.9339, -17.6797, 16.25, -12.8275, -20.9043, -21.1351, 17.9, 18.0708, 14.6415, 46.2276, -0.8037, 13.4432, 42.3154, 51.0, 7.9465, 39.0742, 15.7835, 9.9456, 5.0, 18.9712, 41.9029, 15.2, 47.1625, 64.9631, 21.0, -0.7893, 32.0, 33.0, 53.1424, 31.0, 43.0, 18.1096, 36.0, 31.24, 48.0196, -0.0236, 36.0, 29.5, 41.2044, 56.8796, 33.8547, 6.4281, 47.14, 55.1694, 49.8153, -18.7669, 2.5, 3.2028, 35.9375, 21.0079, -20.2, 23.6345, 47.4116, 43.7333, 46.8625, 42.5, 31.7917, -22.9576, 28.1667, 12.5186, 12.1696, 18.0425, 52.1326, -40.9006, 12.8654, 17.6078, 9.082, 41.6086, 60.472, 21.0, 30.3753, 8.538, -6.315, -23.4425, -9.19, 13.0, 51.9194, 39.3999, 25.3548, 45.9432, 60.0, -1.9403, 13.9094, 12.9843, 43.9424, 24.0, 14.4974, 44.0165, -4.6796, 1.2833, 48.669, 46.1512, 5.1521, -30.5595, 40.0, 7.0, 12.8628, 3.9193, 63.0, 46.8182, 23.7, -6.369, 15.0, 8.6195, 10.6918, 34.0, 38.9637, 1.0, 48.3794, 24.0, 32.3078, 19.3133, 49.3723, 36.1408, 54.2361, 16.7425, 55.3781, -32.5228, 37.0902, 41.3775, 6.4238, 16.0, -15.4167, -20.0, 15.415, 12.1165, -18.665695, 34.802075, -8.874217, 13.1939, 19.856270000000002, 26.3351, 31.9522, 11.8037, 17.570692, 17.357822, 64.8255, 64.2823, 42.602636, 21.9162, 18.2206, 18.4207, 21.694000000000003, -22.3285, -3.3731, 8.460555000000001, 12.1784, -13.254307999999998, -51.7963, 46.8852, 6.877000000000001, 24.2155], \"lon\": [65.0, 20.1683, 1.6596, 1.5218, 17.8739, -61.7964, -63.6167, 45.0382, 149.0124, 151.2093, 130.8456, 153.4, 138.6007, 145.9707, 144.9631, 115.8605, 14.5501, 47.5769, -77.3963, 50.55, 90.3563, -59.5432, 27.9534, 4.0, 2.3158, 90.4336, -63.5887, 17.6791, -51.9253, 114.7277, 25.4858, -1.5616, -23.0418, 104.9167, 11.5021, -116.5765, -123.1207, -122.6655, -98.8139, -66.4619, -57.6604, -63.7443, -85.3232, -63.4168, -73.5491, -106.4509, 20.9394, 18.7322, -71.543, 117.2264, 116.4142, 107.874, 117.9874, 101.0583, 113.4244, 108.7881, 106.8748, 109.7453, 116.1306, 127.7615, 113.61399999999999, 114.2, 112.2707, 111.7088, 113.9448, 119.455, 115.7221, 126.1923, 122.6085, 113.55, 106.1655, 95.9956, 108.8701, 118.1498, 121.4491, 112.2922, 102.7103, 117.323, 88.0924, 85.2401, 101.48700000000001, 120.0934, -74.2973, 21.7587, 21.7587, -83.7534, -5.5471, 15.2, -80.0, 33.4299, 15.472999999999999, -6.9118, -42.6043, 9.5018, 42.5903, -70.1627, -78.1834, 30.0, -88.8965, 10.0, 39.7823, 25.0136, 31.4659, 40.4897, 178.065, 26.0, -53.1258, 149.4068, -61.5833, 45.1662, 165.618, 55.2471, -62.8333, -63.0501, -61.0242, 2.2137, 11.6094, -15.3101, 43.3569, 9.0, -1.0232, 21.8243, -90.2308, -9.6966, -58.75, -72.2852, 12.4534, -86.2419, 19.5033, -19.0208, 78.0, 113.9213, 53.0, 44.0, -7.6921, 35.0, 12.0, -77.2975, 138.0, 36.51, 66.9237, 37.9062, 128.0, 47.75, 74.7661, 24.6032, 35.8623, -9.4295, 9.55, 23.8813, 6.1296, 46.8691, 112.5, 73.2207, 14.3754, 10.9408, 57.5, -102.5528, 28.3699, 7.4167, 103.8467, 19.3, -7.0926, 18.4904, 84.25, -70.0358, -68.99, -63.0548, 5.2913, 174.886, -85.2072, 8.0817, 8.6753, 21.7453, 8.4689, 57.0, 69.3451, -80.7821, 143.9555, -58.4438, -75.0152, 122.0, 19.1451, -8.2245, 51.1839, 24.9668, 90.0, 29.8739, -60.9789, -61.2872, 12.4578, 45.0, -14.4524, 21.0059, 55.492, 103.8333, 19.699, 14.9955, 46.1996, 22.9375, -4.0, 81.0, 30.2176, -56.0278, 16.0, 8.2275, 121.0, 34.8888, 101.0, 0.8248, -61.2225, 9.0, 35.2433, 32.0, 31.1656, 54.0, -64.7505, -81.2546, -2.3644, -5.3536, -4.5481, -62.1874, -3.4360000000000004, -55.7658, -95.7129, 64.5853, -66.5897, 108.0, 28.2833, 30.0, -61.371, -61.678999999999995, 35.529562, 38.996815000000005, 125.727539, -59.5432, 102.495496, 17.228331, 35.2332, -15.1804, -3.9961660000000006, -62.782998, -124.8457, -135.0, 20.902977, 95.956, -63.0686, -64.64, -71.7979, 24.6849, 29.9189, -11.779889, -68.2385, 34.301525, -59.5236, -56.3159, 31.307, -12.8858], \"name\": \"\", \"radius\": [5.011356657796132, 5.011748266685654, 5.04304434377327, 5.016317037063408, 5.000424242963649, 5.0004568770377755, 5.047319407483883, 5.026792574858116, 5.003100237042047, 5.084163277173058, 5.000848485927297, 5.029566471158895, 5.013249434095488, 5.002643360004272, 5.03700704005981, 5.0147506015053205, 5.393240593228133, 5.019025665215934, 5.000881120001424, 5.0228112178146445, 5.002839164449033, 5.001794874076975, 5.018307715585144, 5.642564919557008, 5.000685315556663, 5.000130536296507, 5.005090915563783, 5.021310050404811, 5.363184610957336, 5.004372965932993, 5.0172960592872125, 5.011226121499624, 5.000195804444761, 5.00368765037633, 5.0211795141083035, 5.038508207469643, 5.039226157100432, 5.0003916088895215, 5.006592082973617, 5.003165505190301, 5.007048960011392, 5.008517493347099, 5.14205612467403, 5.000685315556663, 5.2592124507893, 5.0080932503834505, 5.000228438518888, 5.000261072593014, 5.1458743113468675, 5.032275099311421, 5.019090933364187, 5.018862494845299, 5.011389291870259, 5.004470868155374, 5.049701694895141, 5.008256420754084, 5.004731940748388, 5.005449890379178, 5.010638708165342, 5.016414939285789, 5.041608444511691, 5.02901169189874, 7.212655493946379, 5.033221487461098, 5.0037855525987105, 5.02121214818243, 5.0305454933827, 5.003165505190301, 5.004601404451881, 5.001403265187453, 5.002414921485385, 5.000554779260156, 5.008321688902338, 5.025389309670663, 5.0172960592872125, 5.004470868155374, 5.018177179288637, 5.0058414992687, 5.0, 5.002447555559511, 5.0059720355652075, 5.041184201548042, 5.048428966004195, 5.00143589926158, 5.0049930133414025, 5.014783235579448, 5.008484859272972, 5.03854084154377, 5.010410269646455, 5.014522162986433, 5.149659863945578, 5.005874133342827, 5.000326340741268, 5.1425456357859325, 5.001892776299355, 5.056913825277167, 5.118951200192244, 5.038247134876628, 5.001990678521736, 5.000489511111902, 5.000913754075551, 5.03576694524299, 5.000261072593014, 5.001370631113327, 5.000358974815395, 5.062853226768247, 5.001958044447609, 5.0013053629650726, 5.004372965932993, 5.004764574822516, 5.000554779260156, 5.011193487425498, 5.000163170370634, 5.001011656297932, 5.004829842970769, 8.029682173785345, 5.000652681482537, 5.000097902222381, 5.005645694823939, 8.267388769725073, 5.006951057789012, 5.056587484535899, 5.001958044447609, 5.003916088895218, 5.000750583704916, 5.000652681482537, 5.000195804444761, 5.00871329779186, 5.023888142260829, 5.048461600078322, 5.117058423892889, 5.074144616416126, 6.900118966033863, 5.031328711161743, 5.162941932115192, 5.275072610814933, 9.208065956430545, 5.001860142225229, 5.102405724609949, 5.011226121499624, 5.019025665215934, 5.004601404451881, 5.334042382762089, 5.018111911140383, 5.004764574822516, 5.0173613274354665, 5.017165522990705, 5.0003916088895215, 5.002480189633638, 5.026433600042721, 5.091473309777466, 5.002317019263004, 5.119473345378274, 5.000587413334283, 5.007375300752661, 5.000163170370634, 5.007375300752661, 5.061645766025555, 5.028163205971442, 5.002349653337131, 5.000424242963649, 5.006951057789012, 5.033286755609352, 5.000489511111902, 5.000261072593014, 5.002055946669989, 5.000326340741268, 5.000783217779044, 5.582518223163666, 5.033874168943635, 5.000163170370634, 5.0059720355652075, 5.007538471123294, 5.018079277066256, 5.185557345485076, 5.009692320015664, 5.102993137944232, 5.0587413334282685, 5.0, 5.003361309635062, 5.074405689009141, 5.105897570541518, 5.133832337994073, 5.3680144539281045, 5.052312420825286, 5.1260654283518905, 5.175832391395285, 5.003361309635062, 5.000424242963649, 5.000195804444761, 5.008648029643607, 5.078354411978485, 5.007212130382026, 5.062233179359838, 5.000293706667141, 5.0426853689578754, 5.015794891877379, 5.0325035378303085, 5.000195804444761, 5.053976758605754, 9.296112688424694, 5.005710962972193, 5.000358974815395, 5.000293706667141, 5.222858092212027, 5.688546330001691, 5.011813534833907, 5.000685315556663, 5.070750672706937, 5.001403265187453, 5.003361309635062, 5.018699324474666, 5.883339118464656, 5.0016643377804675, 5.042652734883749, 5.058676065280015, 5.001174826668565, 5.001109558520311, 5.010051294831059, 5.003328675560935, 5.004111893339979, 5.000163170370634, 6.56007191363244, 5.0130209955766, 16.0, 5.011128219277245, 5.005156183712037, 5.007832177790436, 5.001240094816819, 5.000261072593014, 5.000424242963649, 5.000358974815395, 5.000293706667141, 5.000587413334283, 5.0, 5.000130536296507, 5.000326340741268, 5.000554779260156, 5.007701641493928, 5.000554779260156, 5.00143589926158, 5.000293706667141, 5.000097902222381, 5.000163170370634, 5.0046993066742615, 5.000652681482537, 5.000065268148254, 5.000065268148254, 5.000130536296507, 5.000163170370634, 5.000065268148254, 5.000163170370634, 5.000032634074127, 5.000097902222381, 5.000032634074127, 5.0, 5.0, 5.000097902222381], \"subplot\": \"mapbox\", \"type\": \"densitymapbox\"}],\n",
       "                        {\"coloraxis\": {\"colorbar\": {\"title\": {}}, \"colorscale\": [[0.0, \"#0d0887\"], [0.1111111111111111, \"#46039f\"], [0.2222222222222222, \"#7201a8\"], [0.3333333333333333, \"#9c179e\"], [0.4444444444444444, \"#bd3786\"], [0.5555555555555556, \"#d8576b\"], [0.6666666666666666, \"#ed7953\"], [0.7777777777777778, \"#fb9f3a\"], [0.8888888888888888, \"#fdca26\"], [1.0, \"#f0f921\"]]}, \"legend\": {\"tracegroupgap\": 0}, \"mapbox\": {\"center\": {\"lat\": 21.75207337209302, \"lon\": 22.470177488372087}, \"domain\": {\"x\": [0.0, 1.0], \"y\": [0.0, 1.0]}, \"style\": \"carto-darkmatter\", \"zoom\": 0}, \"margin\": {\"t\": 60}, \"template\": {\"data\": {\"bar\": [{\"error_x\": {\"color\": \"#2a3f5f\"}, \"error_y\": {\"color\": \"#2a3f5f\"}, \"marker\": {\"line\": {\"color\": \"#E5ECF6\", \"width\": 0.5}}, \"type\": \"bar\"}], \"barpolar\": [{\"marker\": {\"line\": {\"color\": \"#E5ECF6\", \"width\": 0.5}}, \"type\": \"barpolar\"}], \"carpet\": [{\"aaxis\": {\"endlinecolor\": \"#2a3f5f\", \"gridcolor\": \"white\", \"linecolor\": \"white\", \"minorgridcolor\": \"white\", \"startlinecolor\": \"#2a3f5f\"}, \"baxis\": {\"endlinecolor\": \"#2a3f5f\", \"gridcolor\": \"white\", \"linecolor\": \"white\", \"minorgridcolor\": \"white\", \"startlinecolor\": \"#2a3f5f\"}, \"type\": \"carpet\"}], \"choropleth\": [{\"colorbar\": {\"outlinewidth\": 0, \"ticks\": \"\"}, \"type\": \"choropleth\"}], \"contour\": [{\"colorbar\": {\"outlinewidth\": 0, \"ticks\": \"\"}, \"colorscale\": [[0.0, \"#0d0887\"], [0.1111111111111111, \"#46039f\"], [0.2222222222222222, \"#7201a8\"], [0.3333333333333333, \"#9c179e\"], [0.4444444444444444, \"#bd3786\"], [0.5555555555555556, \"#d8576b\"], [0.6666666666666666, \"#ed7953\"], [0.7777777777777778, \"#fb9f3a\"], [0.8888888888888888, \"#fdca26\"], [1.0, \"#f0f921\"]], \"type\": \"contour\"}], \"contourcarpet\": [{\"colorbar\": {\"outlinewidth\": 0, \"ticks\": \"\"}, \"type\": \"contourcarpet\"}], \"heatmap\": [{\"colorbar\": {\"outlinewidth\": 0, \"ticks\": \"\"}, \"colorscale\": [[0.0, \"#0d0887\"], [0.1111111111111111, \"#46039f\"], [0.2222222222222222, \"#7201a8\"], [0.3333333333333333, \"#9c179e\"], [0.4444444444444444, \"#bd3786\"], [0.5555555555555556, \"#d8576b\"], [0.6666666666666666, \"#ed7953\"], [0.7777777777777778, \"#fb9f3a\"], [0.8888888888888888, \"#fdca26\"], [1.0, \"#f0f921\"]], \"type\": \"heatmap\"}], \"heatmapgl\": [{\"colorbar\": {\"outlinewidth\": 0, \"ticks\": \"\"}, \"colorscale\": [[0.0, \"#0d0887\"], [0.1111111111111111, \"#46039f\"], [0.2222222222222222, \"#7201a8\"], [0.3333333333333333, \"#9c179e\"], [0.4444444444444444, \"#bd3786\"], [0.5555555555555556, \"#d8576b\"], [0.6666666666666666, \"#ed7953\"], [0.7777777777777778, \"#fb9f3a\"], [0.8888888888888888, \"#fdca26\"], [1.0, \"#f0f921\"]], \"type\": \"heatmapgl\"}], \"histogram\": [{\"marker\": {\"colorbar\": {\"outlinewidth\": 0, \"ticks\": \"\"}}, \"type\": \"histogram\"}], \"histogram2d\": [{\"colorbar\": {\"outlinewidth\": 0, \"ticks\": \"\"}, \"colorscale\": [[0.0, \"#0d0887\"], [0.1111111111111111, \"#46039f\"], [0.2222222222222222, \"#7201a8\"], [0.3333333333333333, \"#9c179e\"], [0.4444444444444444, \"#bd3786\"], [0.5555555555555556, \"#d8576b\"], [0.6666666666666666, \"#ed7953\"], [0.7777777777777778, \"#fb9f3a\"], [0.8888888888888888, \"#fdca26\"], [1.0, \"#f0f921\"]], \"type\": \"histogram2d\"}], \"histogram2dcontour\": [{\"colorbar\": {\"outlinewidth\": 0, \"ticks\": \"\"}, \"colorscale\": [[0.0, \"#0d0887\"], [0.1111111111111111, \"#46039f\"], [0.2222222222222222, \"#7201a8\"], [0.3333333333333333, \"#9c179e\"], [0.4444444444444444, \"#bd3786\"], [0.5555555555555556, \"#d8576b\"], [0.6666666666666666, \"#ed7953\"], [0.7777777777777778, \"#fb9f3a\"], [0.8888888888888888, \"#fdca26\"], [1.0, \"#f0f921\"]], \"type\": \"histogram2dcontour\"}], \"mesh3d\": [{\"colorbar\": {\"outlinewidth\": 0, \"ticks\": \"\"}, \"type\": \"mesh3d\"}], \"parcoords\": [{\"line\": {\"colorbar\": {\"outlinewidth\": 0, \"ticks\": \"\"}}, \"type\": \"parcoords\"}], \"pie\": [{\"automargin\": true, \"type\": \"pie\"}], \"scatter\": [{\"marker\": {\"colorbar\": {\"outlinewidth\": 0, \"ticks\": \"\"}}, \"type\": \"scatter\"}], \"scatter3d\": [{\"line\": {\"colorbar\": {\"outlinewidth\": 0, \"ticks\": \"\"}}, \"marker\": {\"colorbar\": {\"outlinewidth\": 0, \"ticks\": \"\"}}, \"type\": \"scatter3d\"}], \"scattercarpet\": [{\"marker\": {\"colorbar\": {\"outlinewidth\": 0, \"ticks\": \"\"}}, \"type\": \"scattercarpet\"}], \"scattergeo\": [{\"marker\": {\"colorbar\": {\"outlinewidth\": 0, \"ticks\": \"\"}}, \"type\": \"scattergeo\"}], \"scattergl\": [{\"marker\": {\"colorbar\": {\"outlinewidth\": 0, \"ticks\": \"\"}}, \"type\": \"scattergl\"}], \"scattermapbox\": [{\"marker\": {\"colorbar\": {\"outlinewidth\": 0, \"ticks\": \"\"}}, \"type\": \"scattermapbox\"}], \"scatterpolar\": [{\"marker\": {\"colorbar\": {\"outlinewidth\": 0, \"ticks\": \"\"}}, \"type\": \"scatterpolar\"}], \"scatterpolargl\": [{\"marker\": {\"colorbar\": {\"outlinewidth\": 0, \"ticks\": \"\"}}, \"type\": \"scatterpolargl\"}], \"scatterternary\": [{\"marker\": {\"colorbar\": {\"outlinewidth\": 0, \"ticks\": \"\"}}, \"type\": \"scatterternary\"}], \"surface\": [{\"colorbar\": {\"outlinewidth\": 0, \"ticks\": \"\"}, \"colorscale\": [[0.0, \"#0d0887\"], [0.1111111111111111, \"#46039f\"], [0.2222222222222222, \"#7201a8\"], [0.3333333333333333, \"#9c179e\"], [0.4444444444444444, \"#bd3786\"], [0.5555555555555556, \"#d8576b\"], [0.6666666666666666, \"#ed7953\"], [0.7777777777777778, \"#fb9f3a\"], [0.8888888888888888, \"#fdca26\"], [1.0, \"#f0f921\"]], \"type\": \"surface\"}], \"table\": [{\"cells\": {\"fill\": {\"color\": \"#EBF0F8\"}, \"line\": {\"color\": \"white\"}}, \"header\": {\"fill\": {\"color\": \"#C8D4E3\"}, \"line\": {\"color\": \"white\"}}, \"type\": \"table\"}]}, \"layout\": {\"annotationdefaults\": {\"arrowcolor\": \"#2a3f5f\", \"arrowhead\": 0, \"arrowwidth\": 1}, \"coloraxis\": {\"colorbar\": {\"outlinewidth\": 0, \"ticks\": \"\"}}, \"colorscale\": {\"diverging\": [[0, \"#8e0152\"], [0.1, \"#c51b7d\"], [0.2, \"#de77ae\"], [0.3, \"#f1b6da\"], [0.4, \"#fde0ef\"], [0.5, \"#f7f7f7\"], [0.6, \"#e6f5d0\"], [0.7, \"#b8e186\"], [0.8, \"#7fbc41\"], [0.9, \"#4d9221\"], [1, \"#276419\"]], \"sequential\": [[0.0, \"#0d0887\"], [0.1111111111111111, \"#46039f\"], [0.2222222222222222, \"#7201a8\"], [0.3333333333333333, \"#9c179e\"], [0.4444444444444444, \"#bd3786\"], [0.5555555555555556, \"#d8576b\"], [0.6666666666666666, \"#ed7953\"], [0.7777777777777778, \"#fb9f3a\"], [0.8888888888888888, \"#fdca26\"], [1.0, \"#f0f921\"]], \"sequentialminus\": [[0.0, \"#0d0887\"], [0.1111111111111111, \"#46039f\"], [0.2222222222222222, \"#7201a8\"], [0.3333333333333333, \"#9c179e\"], [0.4444444444444444, \"#bd3786\"], [0.5555555555555556, \"#d8576b\"], [0.6666666666666666, \"#ed7953\"], [0.7777777777777778, \"#fb9f3a\"], [0.8888888888888888, \"#fdca26\"], [1.0, \"#f0f921\"]]}, \"colorway\": [\"#636efa\", \"#EF553B\", \"#00cc96\", \"#ab63fa\", \"#FFA15A\", \"#19d3f3\", \"#FF6692\", \"#B6E880\", \"#FF97FF\", \"#FECB52\"], \"font\": {\"color\": \"#2a3f5f\"}, \"geo\": {\"bgcolor\": \"white\", \"lakecolor\": \"white\", \"landcolor\": \"#E5ECF6\", \"showlakes\": true, \"showland\": true, \"subunitcolor\": \"white\"}, \"hoverlabel\": {\"align\": \"left\"}, \"hovermode\": \"closest\", \"mapbox\": {\"style\": \"light\"}, \"paper_bgcolor\": \"white\", \"plot_bgcolor\": \"#E5ECF6\", \"polar\": {\"angularaxis\": {\"gridcolor\": \"white\", \"linecolor\": \"white\", \"ticks\": \"\"}, \"bgcolor\": \"#E5ECF6\", \"radialaxis\": {\"gridcolor\": \"white\", \"linecolor\": \"white\", \"ticks\": \"\"}}, \"scene\": {\"xaxis\": {\"backgroundcolor\": \"#E5ECF6\", \"gridcolor\": \"white\", \"gridwidth\": 2, \"linecolor\": \"white\", \"showbackground\": true, \"ticks\": \"\", \"zerolinecolor\": \"white\"}, \"yaxis\": {\"backgroundcolor\": \"#E5ECF6\", \"gridcolor\": \"white\", \"gridwidth\": 2, \"linecolor\": \"white\", \"showbackground\": true, \"ticks\": \"\", \"zerolinecolor\": \"white\"}, \"zaxis\": {\"backgroundcolor\": \"#E5ECF6\", \"gridcolor\": \"white\", \"gridwidth\": 2, \"linecolor\": \"white\", \"showbackground\": true, \"ticks\": \"\", \"zerolinecolor\": \"white\"}}, \"shapedefaults\": {\"line\": {\"color\": \"#2a3f5f\"}}, \"ternary\": {\"aaxis\": {\"gridcolor\": \"white\", \"linecolor\": \"white\", \"ticks\": \"\"}, \"baxis\": {\"gridcolor\": \"white\", \"linecolor\": \"white\", \"ticks\": \"\"}, \"bgcolor\": \"#E5ECF6\", \"caxis\": {\"gridcolor\": \"white\", \"linecolor\": \"white\", \"ticks\": \"\"}}, \"title\": {\"x\": 0.05}, \"xaxis\": {\"automargin\": true, \"gridcolor\": \"white\", \"linecolor\": \"white\", \"ticks\": \"\", \"title\": {\"standoff\": 15}, \"zerolinecolor\": \"white\", \"zerolinewidth\": 2}, \"yaxis\": {\"automargin\": true, \"gridcolor\": \"white\", \"linecolor\": \"white\", \"ticks\": \"\", \"title\": {\"standoff\": 15}, \"zerolinecolor\": \"white\", \"zerolinewidth\": 2}}}},\n",
       "                        {\"responsive\": true}\n",
       "                    ).then(function(){\n",
       "                            \n",
       "var gd = document.getElementById('ed106b1b-dde8-4e36-95b1-d71fce2f54b4');\n",
       "var x = new MutationObserver(function (mutations, observer) {{\n",
       "        var display = window.getComputedStyle(gd).display;\n",
       "        if (!display || display === 'none') {{\n",
       "            console.log([gd, 'removed!']);\n",
       "            Plotly.purge(gd);\n",
       "            observer.disconnect();\n",
       "        }}\n",
       "}});\n",
       "\n",
       "// Listen for the removal of the full notebook cells\n",
       "var notebookContainer = gd.closest('#notebook-container');\n",
       "if (notebookContainer) {{\n",
       "    x.observe(notebookContainer, {childList: true});\n",
       "}}\n",
       "\n",
       "// Listen for the clearing of the current output cell\n",
       "var outputEl = gd.closest('.output');\n",
       "if (outputEl) {{\n",
       "    x.observe(outputEl, {childList: true});\n",
       "}}\n",
       "\n",
       "                        })\n",
       "                };\n",
       "                });\n",
       "            </script>\n",
       "        </div>"
      ]
     },
     "metadata": {},
     "output_type": "display_data"
    }
   ],
   "source": [
    "fig = px.density_mapbox(geo_deaths,lat = 'Lat',lon = 'Long',radius = circle_radius,zoom=0,mapbox_style='carto-darkmatter')\n",
    "\n",
    "fig.show()"
   ]
  },
  {
   "cell_type": "code",
   "execution_count": 59,
   "metadata": {},
   "outputs": [],
   "source": [
    "global_confirmed = confirmed_global.groupby('Country/Region').sum()[['Lat', 'Long','4/5/20']]\\\n",
    "                   .reset_index().rename(columns={'4/5/20': 'Confirmed Infected'})"
   ]
  },
  {
   "cell_type": "code",
   "execution_count": 71,
   "metadata": {},
   "outputs": [
    {
     "data": {
      "text/html": [
       "<div>\n",
       "<style scoped>\n",
       "    .dataframe tbody tr th:only-of-type {\n",
       "        vertical-align: middle;\n",
       "    }\n",
       "\n",
       "    .dataframe tbody tr th {\n",
       "        vertical-align: top;\n",
       "    }\n",
       "\n",
       "    .dataframe thead th {\n",
       "        text-align: right;\n",
       "    }\n",
       "</style>\n",
       "<table border=\"1\" class=\"dataframe\">\n",
       "  <thead>\n",
       "    <tr style=\"text-align: right;\">\n",
       "      <th></th>\n",
       "      <th>Province/State</th>\n",
       "      <th>Country/Region</th>\n",
       "      <th>Lat</th>\n",
       "      <th>Long</th>\n",
       "      <th>Confirmed Infected</th>\n",
       "    </tr>\n",
       "  </thead>\n",
       "  <tbody>\n",
       "    <tr>\n",
       "      <th>0</th>\n",
       "      <td>Afghanistan</td>\n",
       "      <td>Afghanistan</td>\n",
       "      <td>33.0000</td>\n",
       "      <td>65.0000</td>\n",
       "      <td>349</td>\n",
       "    </tr>\n",
       "    <tr>\n",
       "      <th>1</th>\n",
       "      <td>Albania</td>\n",
       "      <td>Albania</td>\n",
       "      <td>41.1533</td>\n",
       "      <td>20.1683</td>\n",
       "      <td>361</td>\n",
       "    </tr>\n",
       "    <tr>\n",
       "      <th>2</th>\n",
       "      <td>Algeria</td>\n",
       "      <td>Algeria</td>\n",
       "      <td>28.0339</td>\n",
       "      <td>1.6596</td>\n",
       "      <td>1320</td>\n",
       "    </tr>\n",
       "    <tr>\n",
       "      <th>3</th>\n",
       "      <td>Andorra</td>\n",
       "      <td>Andorra</td>\n",
       "      <td>42.5063</td>\n",
       "      <td>1.5218</td>\n",
       "      <td>501</td>\n",
       "    </tr>\n",
       "    <tr>\n",
       "      <th>4</th>\n",
       "      <td>Angola</td>\n",
       "      <td>Angola</td>\n",
       "      <td>-11.2027</td>\n",
       "      <td>17.8739</td>\n",
       "      <td>14</td>\n",
       "    </tr>\n",
       "  </tbody>\n",
       "</table>\n",
       "</div>"
      ],
      "text/plain": [
       "  Province/State Country/Region      Lat     Long  Confirmed Infected\n",
       "0    Afghanistan    Afghanistan  33.0000  65.0000                 349\n",
       "1        Albania        Albania  41.1533  20.1683                 361\n",
       "2        Algeria        Algeria  28.0339   1.6596                1320\n",
       "3        Andorra        Andorra  42.5063   1.5218                 501\n",
       "4         Angola         Angola -11.2027  17.8739                  14"
      ]
     },
     "execution_count": 71,
     "metadata": {},
     "output_type": "execute_result"
    }
   ],
   "source": [
    "fol_confirmed = geo_confirmed.rename(columns={'4/5/2020': 'Confirmed Infected'})\n",
    "fol_confirmed.head()"
   ]
  },
  {
   "cell_type": "code",
   "execution_count": 80,
   "metadata": {},
   "outputs": [
    {
     "data": {
      "text/html": [
       "<div style=\"width:100%;\"><div style=\"position:relative;width:100%;height:0;padding-bottom:60%;\"><iframe src=\"about:blank\" style=\"position:absolute;width:100%;height:100%;left:0;top:0;border:none !important;\" data-html=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 onload=\"this.contentDocument.open();this.contentDocument.write(atob(this.getAttribute('data-html')));this.contentDocument.close();\" allowfullscreen webkitallowfullscreen mozallowfullscreen></iframe></div></div>"
      ],
      "text/plain": [
       "<folium.folium.Map at 0x7f54c14add50>"
      ]
     },
     "execution_count": 80,
     "metadata": {},
     "output_type": "execute_result"
    }
   ],
   "source": [
    "map = folium.Map(location = [39,76], zoom_start=0,tiles='Stamenterrain')\n",
    "\n",
    "for lat, lon, value, name in zip(fol_confirmed['Lat'], fol_confirmed['Long'], fol_confirmed['Confirmed Infected'], fol_confirmed['Country/Region']):\n",
    "    folium.CircleMarker([lat, lon], radius=value*0.0001, popup = ('<strong>State</strong>: ' + str(name).capitalize() + '<br>''<strong>Total Cases</strong>: ' + str(value) + '<br>'),color='red',fill_color='red',fill_opacity=0.3 ).add_to(map)\n",
    "map"
   ]
  },
  {
   "cell_type": "code",
   "execution_count": null,
   "metadata": {},
   "outputs": [],
   "source": [
    "df_full = pd.merge(India_coord,df,on='Name of State / UT')\n",
    "map = folium.Map(location=[20, 70], zoom_start=4,tiles='Stamenterrain')\n",
    "\n",
    "for lat, lon, value, name in zip(df_full['Latitude'], df_full['Longitude'], df_full['Total cases'], df_full['Name of State / UT']):\n",
    "    folium.CircleMarker([lat, lon], radius=value*0.8, popup = ('<strong>State</strong>: ' + str(name).capitalize() + '<br>''<strong>Total Cases</strong>: ' + str(value) + '<br>'),color='red',fill_color='red',fill_opacity=0.3 ).add_to(map)\n",
    "map"
   ]
  }
 ],
 "metadata": {
  "kernelspec": {
   "display_name": "Python 3",
   "language": "python",
   "name": "python3"
  },
  "language_info": {
   "codemirror_mode": {
    "name": "ipython",
    "version": 3
   },
   "file_extension": ".py",
   "mimetype": "text/x-python",
   "name": "python",
   "nbconvert_exporter": "python",
   "pygments_lexer": "ipython3",
   "version": "3.7.6"
  }
 },
 "nbformat": 4,
 "nbformat_minor": 4
}
